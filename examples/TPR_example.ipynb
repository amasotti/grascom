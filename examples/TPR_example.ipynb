{
 "cells": [
  {
   "cell_type": "markdown",
   "id": "communist-buyer",
   "metadata": {},
   "source": [
    "# TPR : From symbols to tensors\n",
    "\n",
    "__(Cho, Goldrick & Smolensky 2016)__"
   ]
  },
  {
   "cell_type": "markdown",
   "id": "effective-denver",
   "metadata": {},
   "source": [
    "## Data\n",
    "\n",
    "This notebook tries to illustrate how to use Tensor Product Representation (TPR) to represent discrete or gradient blend structures. The concrete examples apply TPR to root allomorphy. In Sanskrit and Greek, for instance, we have a phenomenon known as Grassmann's law : no two aspirated stops are allowed in the same root. If a root happens to have two aspirates, we typically observe alternations:\n",
    "\n",
    "The root $bud^h$ (*a.o.* 'awake', 'know') can surface either as $b^hud-$ or $bud^h$ (e.g. 3sg pres. _bodhati_, 3sg future _bhotsyati_).\n",
    "\n",
    "The problem has attracted the attention of many scholars due to impossibility to model this phenomenon through phonological rules, which would lead to ordering paradoxes and a number of other open issues related to this phenomenon.\n",
    "\n",
    "GSC offers a solution if we take into account the possibility that both the aspirated and plain variants of the consonants were underlying represented and the UR as whole is a gradient blend of the two segments/or possibly features.\n",
    "\n",
    "$$b^hud-/bud^h = [\\alpha \\cdot b^h + \\beta \\cdot b] \\, u \\, [\\gamma \\cdot d + \\delta \\cdot d^h]$$"
   ]
  },
  {
   "cell_type": "code",
   "execution_count": 3,
   "id": "severe-judgment",
   "metadata": {},
   "outputs": [],
   "source": [
    "# Imports\n",
    "import torch\n",
    "import pandas as pd\n",
    "import matplotlib.pyplot as plt\n",
    "import seaborn as sns\n",
    "# Set seed for reproducibility\n",
    "# torch.manual_seed(111)"
   ]
  },
  {
   "cell_type": "markdown",
   "id": "sealed-double",
   "metadata": {},
   "source": [
    "## The TPR Representation\n",
    "\n",
    "In matrix language the **Tensor Product Representation** of a structure $s$ can be expressed as:\n",
    "\n",
    "$$T_s = F \\times B \\times R^T$$\n",
    "\n",
    "the chain product of the filler matrix, times the binding matrix times the role matrix.\n",
    "\n",
    "**Ex**:\n",
    "Let's suppose we have the input *budh*. This can be decomposed into\n",
    "\n",
    "$$b \\otimes r_1 + u \\otimes r_2 + dh \\otimes r_3$$\n",
    "\n",
    "Now suppose that our language also consists of the additional fillers \"bh\" and \"d\". The set of fillers could be:\n",
    "\n",
    "[\"bh\", \"b\", \"u\", \"d\", \"dh\", \"_\"]\n",
    "\n",
    "(the last filler representing the empty filler (I've used it occasionally to pad shorter strings or to explicitely prefer simple over complex codas)\n",
    "\n",
    "The binding matrix for *budh* would be:\n"
   ]
  },
  {
   "cell_type": "code",
   "execution_count": 4,
   "id": "cooperative-grove",
   "metadata": {},
   "outputs": [
    {
     "name": "stdout",
     "output_type": "stream",
     "text": [
      "    pos1  pos2  pos3\n",
      "bh   0.0   0.0   0.0\n",
      "b    1.0   0.0   0.0\n",
      "u    0.0   1.0   0.0\n",
      "d    0.0   0.0   0.0\n",
      "dh   0.0   0.0   1.0\n",
      "_    0.0   0.0   0.0\n"
     ]
    }
   ],
   "source": [
    "fillers = [\"bh\", \"b\", \"u\", \"d\", \"dh\", \"_\"]\n",
    "roles = [\"pos1\", \"pos2\", \"pos3\"]\n",
    "# 3 cols : 3 positions for the roots (initial, middle, final) and 6 rows, one for each filler\n",
    "budh = torch.tensor([[0., 0., 0.],\n",
    "                     [1., 0., 0.],\n",
    "                     [0., 1., 0.],\n",
    "                     [0., 0., 0.],\n",
    "                     [0., 0., 1.],\n",
    "                     [0., 0., 0.]])\n",
    "print(pd.DataFrame(budh.numpy(), index=fillers, columns=roles))"
   ]
  },
  {
   "cell_type": "code",
   "execution_count": 11,
   "id": "reverse-gregory",
   "metadata": {},
   "outputs": [
    {
     "data": {
      "text/plain": [
       "<AxesSubplot:>"
      ]
     },
     "execution_count": 11,
     "metadata": {},
     "output_type": "execute_result"
    },
    {
     "data": {
      "image/png": "[encoded data removed]",
      "text/plain": [
       "<Figure size 432x288 with 2 Axes>"
      ]
     },
     "metadata": {
      "needs_background": "light"
     },
     "output_type": "display_data"
    }
   ],
   "source": [
    "df = pd.DataFrame(budh.numpy(), index=fillers, columns=roles)\n",
    "sns.heatmap(df, annot=True, cmap=\"Greens\")"
   ]
  },
  {
   "cell_type": "markdown",
   "id": "theoretical-equality",
   "metadata": {},
   "source": [
    "The role and the filler matrices can be built in different ways. The following examples were built using random components, chosen so that the column vectors build a set of linearly independent vectors and their pairwise dotproduct is 0 (maximally different)."
   ]
  },
  {
   "cell_type": "code",
   "execution_count": 5,
   "id": "ambient-carroll",
   "metadata": {},
   "outputs": [
    {
     "name": "stdout",
     "output_type": "stream",
     "text": [
      "Roles matrix:\n",
      "tensor([[ 0.4311,  0.8892, -0.1533],\n",
      "        [-0.3264,  0.3121,  0.8922],\n",
      "        [ 0.8412, -0.3346,  0.4248]])\n",
      "\n",
      "\n",
      "Fillers matrix:\n",
      "tensor([[ 0.2958, -0.3054,  0.0164,  0.2841,  0.4751,  0.7159],\n",
      "        [ 0.1613, -0.2552,  0.7667,  0.1514,  0.3030, -0.4542],\n",
      "        [ 0.5245,  0.4364,  0.4019,  0.0709, -0.5345,  0.2867],\n",
      "        [-0.3085,  0.6143,  0.2897, -0.4018,  0.4824,  0.2222],\n",
      "        [ 0.6668,  0.3079, -0.4022, -0.0627,  0.3952, -0.3724],\n",
      "        [-0.2674,  0.4232, -0.0681,  0.8520,  0.0888, -0.1045]])\n"
     ]
    }
   ],
   "source": [
    "R = torch.tensor([[ 0.4311,  0.8892, -0.1533],[-0.3264,  0.3121,  0.8922],[ 0.8412, -0.3346,  0.4248]])\n",
    "F = torch.tensor([[ 0.2958, -0.3054,  0.0164,  0.2841,  0.4751,  0.7159],\n",
    "        [ 0.1613, -0.2552,  0.7667,  0.1514,  0.3030, -0.4542],\n",
    "        [ 0.5245,  0.4364,  0.4019,  0.0709, -0.5345,  0.2867],\n",
    "        [-0.3085,  0.6143,  0.2897, -0.4018,  0.4824,  0.2222],\n",
    "        [ 0.6668,  0.3079, -0.4022, -0.0627,  0.3952, -0.3724],\n",
    "        [-0.2674,  0.4232, -0.0681,  0.8520,  0.0888, -0.1045]])\n",
    "\n",
    "print(f\"Roles matrix:\\n{R}\\n\\n\")\n",
    "print(f\"Fillers matrix:\\n{F}\")"
   ]
  },
  {
   "cell_type": "markdown",
   "id": "surprising-cowboy",
   "metadata": {},
   "source": [
    "*budh* can be then represented as:"
   ]
  },
  {
   "cell_type": "code",
   "execution_count": 6,
   "id": "quiet-gossip",
   "metadata": {},
   "outputs": [
    {
     "data": {
      "text/plain": [
       "tensor([[-0.1899,  0.5287, -0.0606],\n",
       "        [ 0.5253,  0.5929, -0.3425],\n",
       "        [ 0.6274, -0.4939,  0.0056],\n",
       "        [ 0.4485,  0.3203,  0.6247],\n",
       "        [-0.2855,  0.1266,  0.5615],\n",
       "        [ 0.1083, -0.0802,  0.4165]])"
      ]
     },
     "execution_count": 6,
     "metadata": {},
     "output_type": "execute_result"
    }
   ],
   "source": [
    "tpr_budh = F.matmul(budh).matmul(R.T)\n",
    "tpr_budh"
   ]
  },
  {
   "cell_type": "code",
   "execution_count": 9,
   "id": "geographic-scholarship",
   "metadata": {},
   "outputs": [
    {
     "data": {
      "text/plain": [
       "<AxesSubplot:>"
      ]
     },
     "execution_count": 9,
     "metadata": {},
     "output_type": "execute_result"
    },
    {
     "data": {
      "image/png": "[encoded data removed]",
      "text/plain": [
       "<Figure size 432x288 with 2 Axes>"
      ]
     },
     "metadata": {
      "needs_background": "light"
     },
     "output_type": "display_data"
    }
   ],
   "source": [
    "df = pd.DataFrame(tpr_budh.numpy(), index=fillers, columns=roles)\n",
    "sns.heatmap(df, annot=True)"
   ]
  },
  {
   "cell_type": "markdown",
   "id": "interested-election",
   "metadata": {},
   "source": [
    "Notice that even though this representation is now distributed, we can always retrieve (unbind) the original fillers using matrix multiplication:\n",
    "\n",
    "$$TPR \\times (R^T)^{-1} = F$$"
   ]
  },
  {
   "cell_type": "code",
   "execution_count": 12,
   "id": "respiratory-wildlife",
   "metadata": {},
   "outputs": [
    {
     "data": {
      "text/plain": [
       "tensor([[-0.3054,  0.0164,  0.4751],\n",
       "        [-0.2552,  0.7667,  0.3030],\n",
       "        [ 0.4364,  0.4019, -0.5345],\n",
       "        [ 0.6143,  0.2897,  0.4824],\n",
       "        [ 0.3079, -0.4022,  0.3952],\n",
       "        [ 0.4232, -0.0681,  0.0888]])"
      ]
     },
     "execution_count": 12,
     "metadata": {},
     "output_type": "execute_result"
    }
   ],
   "source": [
    "tpr_budh.matmul(torch.pinverse(R.T))"
   ]
  },
  {
   "cell_type": "markdown",
   "id": "indie-particle",
   "metadata": {},
   "source": [
    "Compare this matrix with the Filler matrix:"
   ]
  },
  {
   "cell_type": "code",
   "execution_count": 13,
   "id": "enhanced-heart",
   "metadata": {},
   "outputs": [
    {
     "data": {
      "text/plain": [
       "tensor([[ 0.2958, -0.3054,  0.0164,  0.2841,  0.4751,  0.7159],\n",
       "        [ 0.1613, -0.2552,  0.7667,  0.1514,  0.3030, -0.4542],\n",
       "        [ 0.5245,  0.4364,  0.4019,  0.0709, -0.5345,  0.2867],\n",
       "        [-0.3085,  0.6143,  0.2897, -0.4018,  0.4824,  0.2222],\n",
       "        [ 0.6668,  0.3079, -0.4022, -0.0627,  0.3952, -0.3724],\n",
       "        [-0.2674,  0.4232, -0.0681,  0.8520,  0.0888, -0.1045]])"
      ]
     },
     "execution_count": 13,
     "metadata": {},
     "output_type": "execute_result"
    }
   ],
   "source": [
    "F"
   ]
  },
  {
   "cell_type": "markdown",
   "id": "usual-organic",
   "metadata": {},
   "source": [
    "The matrix we obtained by multiplying the TP representation with the inverse of the role matrix is a (6,3) matrix, where each column represent a role (in this example the position of the filler in the string) and the component of each column are exactly those of the second, third and fifth column of the filler matrix, corresponding resp. to the fillers \"b\", \"u\" and \"dh\"."
   ]
  },
  {
   "cell_type": "markdown",
   "id": "invisible-found",
   "metadata": {},
   "source": [
    "## Blend Representations\n",
    "\n",
    "The same procedure can be applied if the Binding matrix doesn't contain just 0s and 1s but some values between 0s and 1s, corresponding to partial activations of specific fillers.\n",
    "\n",
    "So for instance the blend $(0.8 \\cdot b + 0.7 \\cdot bh)udh$ can be represented with the following binding matrix:"
   ]
  },
  {
   "cell_type": "code",
   "execution_count": 22,
   "id": "bulgarian-photography",
   "metadata": {},
   "outputs": [
    {
     "name": "stdout",
     "output_type": "stream",
     "text": [
      "    pos1  pos2  pos3\n",
      "bh   0.7   0.0   0.0\n",
      "b    0.8   0.0   0.0\n",
      "u    0.0   1.0   0.0\n",
      "d    0.0   0.0   0.0\n",
      "dh   0.0   0.0   1.0\n",
      "_    0.0   0.0   0.0\n"
     ]
    },
    {
     "data": {
      "text/plain": [
       "<AxesSubplot:>"
      ]
     },
     "execution_count": 22,
     "metadata": {},
     "output_type": "execute_result"
    },
    {
     "data": {
      "image/png": "[encoded data removed]",
      "text/plain": [
       "<Figure size 432x288 with 2 Axes>"
      ]
     },
     "metadata": {
      "needs_background": "light"
     },
     "output_type": "display_data"
    }
   ],
   "source": [
    "bbhudh = torch.tensor([[.7, 0, 0], [.8, 0, 0], [0,1,0],[0,0,0],[0,0,1],[0,0,0]])\n",
    "bbhudh_df = pd.DataFrame(bbhudh.numpy(), index=fillers, columns=roles)\n",
    "print(bbhudh_df)\n",
    "sns.heatmap(bbhudh_df, annot=True, cmap=\"GnBu\")\n"
   ]
  },
  {
   "cell_type": "markdown",
   "id": "matched-weapon",
   "metadata": {},
   "source": [
    "It's representation in the neural space will then be:"
   ]
  },
  {
   "cell_type": "code",
   "execution_count": 23,
   "id": "aquatic-rugby",
   "metadata": {},
   "outputs": [
    {
     "data": {
      "text/plain": [
       "tensor([[-0.0743,  0.4412,  0.1650],\n",
       "        [ 0.5960,  0.5394, -0.2046],\n",
       "        [ 0.7481, -0.5852,  0.2410],\n",
       "        [ 0.3024,  0.4309,  0.3397],\n",
       "        [-0.1108, -0.0057,  0.9023],\n",
       "        [-0.0089,  0.0086,  0.1878]])"
      ]
     },
     "execution_count": 23,
     "metadata": {},
     "output_type": "execute_result"
    }
   ],
   "source": [
    "tpr_bbhudh = F @ bbhudh @ R.T\n",
    "tpr_bbhudh"
   ]
  },
  {
   "cell_type": "code",
   "execution_count": 33,
   "id": "pressed-lexington",
   "metadata": {},
   "outputs": [
    {
     "data": {
      "text/plain": [
       "<AxesSubplot:>"
      ]
     },
     "execution_count": 33,
     "metadata": {},
     "output_type": "execute_result"
    },
    {
     "data": {
      "image/png": "[encoded data removed]",
      "text/plain": [
       "<Figure size 432x288 with 2 Axes>"
      ]
     },
     "metadata": {
      "needs_background": "light"
     },
     "output_type": "display_data"
    }
   ],
   "source": [
    "blend_df = pd.DataFrame(tpr_bbhudh.numpy(), index=fillers, columns=roles)\n",
    "sns.heatmap(blend_df, annot=True, cmap=\"GnBu\")"
   ]
  },
  {
   "cell_type": "markdown",
   "id": "dependent-finding",
   "metadata": {},
   "source": [
    "The same holds here as before. We can go back to the local representation using the matrix multiplication."
   ]
  },
  {
   "cell_type": "code",
   "execution_count": 24,
   "id": "minor-sigma",
   "metadata": {},
   "outputs": [
    {
     "name": "stdout",
     "output_type": "stream",
     "text": [
      "bbhudh_fillers :\n",
      "tensor([[-0.0373,  0.0164,  0.4751],\n",
      "        [-0.0912,  0.7667,  0.3030],\n",
      "        [ 0.7163,  0.4019, -0.5345],\n",
      "        [ 0.2755,  0.2897,  0.4824],\n",
      "        [ 0.7131, -0.4022,  0.3952],\n",
      "        [ 0.1514, -0.0681,  0.0888]])\n",
      "\n",
      "\n",
      "Filler Matrix :\n",
      "tensor([[ 0.2958, -0.3054,  0.0164,  0.2841,  0.4751,  0.7159],\n",
      "        [ 0.1613, -0.2552,  0.7667,  0.1514,  0.3030, -0.4542],\n",
      "        [ 0.5245,  0.4364,  0.4019,  0.0709, -0.5345,  0.2867],\n",
      "        [-0.3085,  0.6143,  0.2897, -0.4018,  0.4824,  0.2222],\n",
      "        [ 0.6668,  0.3079, -0.4022, -0.0627,  0.3952, -0.3724],\n",
      "        [-0.2674,  0.4232, -0.0681,  0.8520,  0.0888, -0.1045]])\n",
      "\n"
     ]
    }
   ],
   "source": [
    "bbhudh_fillers = tpr_bbhudh.matmul(torch.pinverse(R.T))\n",
    "print(f\"bbhudh_fillers :\\n{bbhudh_fillers}\\n\\n\")\n",
    "print(f\"Filler Matrix :\\n{F}\\n\")"
   ]
  },
  {
   "cell_type": "markdown",
   "id": "connected-ivory",
   "metadata": {},
   "source": [
    "Notice that nothing changed as for the representation of the second and third position in the string:"
   ]
  },
  {
   "cell_type": "code",
   "execution_count": 25,
   "id": "sticky-thumbnail",
   "metadata": {},
   "outputs": [],
   "source": [
    "assert torch.allclose(F[:,2],bbhudh_fillers[:,1])\n",
    "assert torch.allclose(F[:,4],bbhudh_fillers[:,2])"
   ]
  },
  {
   "cell_type": "markdown",
   "id": "corrected-hearing",
   "metadata": {},
   "source": [
    "But the first column in our representation is now a blend of the first and second column in the Matrix of fillers. How much of the first and second filler went into the representation of the first element of the blend representation is revealed using the dot product between those vectors"
   ]
  },
  {
   "cell_type": "code",
   "execution_count": 26,
   "id": "bizarre-injury",
   "metadata": {},
   "outputs": [
    {
     "data": {
      "text/plain": [
       "tensor(0.7000)"
      ]
     },
     "execution_count": 26,
     "metadata": {},
     "output_type": "execute_result"
    }
   ],
   "source": [
    "torch.dot(F[:,0],bbhudh_fillers[:,0])"
   ]
  },
  {
   "cell_type": "code",
   "execution_count": 27,
   "id": "radio-video",
   "metadata": {},
   "outputs": [
    {
     "data": {
      "text/plain": [
       "tensor(0.8001)"
      ]
     },
     "execution_count": 27,
     "metadata": {},
     "output_type": "execute_result"
    }
   ],
   "source": [
    "torch.dot(F[:,1],bbhudh_fillers[:,0])"
   ]
  },
  {
   "cell_type": "markdown",
   "id": "brief-lending",
   "metadata": {},
   "source": [
    "Notice also that the similarity with other fillers is close to 0, which guarantees that we can always unbind the representations."
   ]
  },
  {
   "cell_type": "code",
   "execution_count": 28,
   "id": "accepting-myrtle",
   "metadata": {},
   "outputs": [
    {
     "data": {
      "text/plain": [
       "tensor(-3.8743e-06)"
      ]
     },
     "execution_count": 28,
     "metadata": {},
     "output_type": "execute_result"
    }
   ],
   "source": [
    "torch.dot(F[:,2],bbhudh_fillers[:,0])"
   ]
  },
  {
   "cell_type": "code",
   "execution_count": 29,
   "id": "collected-tsunami",
   "metadata": {},
   "outputs": [
    {
     "data": {
      "text/plain": [
       "tensor(-4.3511e-05)"
      ]
     },
     "execution_count": 29,
     "metadata": {},
     "output_type": "execute_result"
    }
   ],
   "source": [
    "torch.dot(F[:,3],bbhudh_fillers[:,0])"
   ]
  },
  {
   "cell_type": "code",
   "execution_count": 30,
   "id": "waiting-istanbul",
   "metadata": {},
   "outputs": [
    {
     "data": {
      "text/plain": [
       "tensor(-4.8921e-05)"
      ]
     },
     "execution_count": 30,
     "metadata": {},
     "output_type": "execute_result"
    }
   ],
   "source": [
    "torch.dot(F[:,4],bbhudh_fillers[:,0])"
   ]
  },
  {
   "cell_type": "markdown",
   "id": "affecting-sport",
   "metadata": {},
   "source": [
    "## Heat map visualization of blends and pure representations"
   ]
  },
  {
   "cell_type": "code",
   "execution_count": 16,
   "id": "postal-engagement",
   "metadata": {},
   "outputs": [],
   "source": [
    "sns.set_theme(style=\"darkgrid\")"
   ]
  },
  {
   "cell_type": "code",
   "execution_count": 17,
   "id": "mineral-wyoming",
   "metadata": {},
   "outputs": [],
   "source": [
    "roles = [\"pos1\", \"pos2\", \"pos3\"]\n",
    "fillers = [\"bh\", \"b\", \"u\", \"d\", \"dh\", \"_\"]"
   ]
  },
  {
   "cell_type": "markdown",
   "id": "classical-projector",
   "metadata": {},
   "source": [
    "## Discrete structure"
   ]
  },
  {
   "cell_type": "code",
   "execution_count": 31,
   "id": "amazing-fusion",
   "metadata": {},
   "outputs": [
    {
     "data": {
      "image/png": "[encoded data removed]",
      "text/plain": [
       "<Figure size 432x288 with 2 Axes>"
      ]
     },
     "metadata": {
      "needs_background": "light"
     },
     "output_type": "display_data"
    }
   ],
   "source": [
    "# Purely local representation\n",
    "budh_heat = sns.heatmap(budh, \n",
    "                        cmap=\"GnBu\",\n",
    "                        annot=True, \n",
    "                        xticklabels=roles,\n",
    "                       yticklabels=fillers)"
   ]
  },
  {
   "cell_type": "code",
   "execution_count": 34,
   "id": "indie-hormone",
   "metadata": {},
   "outputs": [
    {
     "data": {
      "text/plain": [
       "<AxesSubplot:>"
      ]
     },
     "execution_count": 34,
     "metadata": {},
     "output_type": "execute_result"
    },
    {
     "data": {
      "image/png": "[encoded data removed]",
      "text/plain": [
       "<Figure size 432x288 with 2 Axes>"
      ]
     },
     "metadata": {
      "needs_background": "light"
     },
     "output_type": "display_data"
    }
   ],
   "source": [
    "# Distributed representation\n",
    "sns.heatmap(tpr_budh.reshape((18,1)),\n",
    "            cmap=\"GnBu\")"
   ]
  },
  {
   "cell_type": "markdown",
   "id": "viral-objective",
   "metadata": {},
   "source": [
    "Each row in this distributed representation represent a binding (1 role, 1 filler). We had 6 possible fillers and 3 possible positions, hence we get 18 possible bindings (rows 0-17)."
   ]
  },
  {
   "cell_type": "markdown",
   "id": "induced-windsor",
   "metadata": {},
   "source": [
    "### Gradient structures"
   ]
  },
  {
   "cell_type": "code",
   "execution_count": 35,
   "id": "spread-segment",
   "metadata": {},
   "outputs": [
    {
     "data": {
      "text/plain": [
       "<AxesSubplot:>"
      ]
     },
     "execution_count": 35,
     "metadata": {},
     "output_type": "execute_result"
    },
    {
     "data": {
      "image/png": "[encoded data removed]",
      "text/plain": [
       "<Figure size 432x288 with 2 Axes>"
      ]
     },
     "metadata": {
      "needs_background": "light"
     },
     "output_type": "display_data"
    }
   ],
   "source": [
    "# Blend representation (discrete)\n",
    "sns.heatmap(bbhudh,\n",
    "            cmap=\"GnBu\",\n",
    "            annot=True,\n",
    "            xticklabels=roles,\n",
    "            yticklabels=fillers)"
   ]
  },
  {
   "cell_type": "code",
   "execution_count": 36,
   "id": "sealed-synthetic",
   "metadata": {},
   "outputs": [
    {
     "data": {
      "text/plain": [
       "<AxesSubplot:>"
      ]
     },
     "execution_count": 36,
     "metadata": {},
     "output_type": "execute_result"
    },
    {
     "data": {
      "image/png": "[encoded data removed]",
      "text/plain": [
       "<Figure size 432x288 with 2 Axes>"
      ]
     },
     "metadata": {
      "needs_background": "light"
     },
     "output_type": "display_data"
    }
   ],
   "source": [
    "# Blend representation (distributed)\n",
    "sns.heatmap(tpr_bbhudh.reshape((18,1)),\n",
    "            cmap=\"GnBu\",\n",
    "            annot=True)"
   ]
  },
  {
   "cell_type": "code",
   "execution_count": null,
   "id": "secure-inflation",
   "metadata": {},
   "outputs": [],
   "source": []
  }
 ],
 "metadata": {
  "kernelspec": {
   "display_name": "Python 3",
   "language": "python",
   "name": "python3"
  },
  "language_info": {
   "codemirror_mode": {
    "name": "ipython",
    "version": 3
   },
   "file_extension": ".py",
   "mimetype": "text/x-python",
   "name": "python",
   "nbconvert_exporter": "python",
   "pygments_lexer": "ipython3",
   "version": "3.8.5"
  }
 },
 "nbformat": 4,
 "nbformat_minor": 5
}
