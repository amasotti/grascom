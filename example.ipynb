{
 "cells": [
  {
   "cell_type": "markdown",
   "id": "bibliographic-spirit",
   "metadata": {},
   "source": [
    "# Gradient Symbolic Computation\n",
    "\n",
    "see `TPR_example.ipynb` for details about the TP representation and one possible empirical phenomenon, that can be handled with GSC."
   ]
  },
  {
   "cell_type": "code",
   "execution_count": 1,
   "id": "proof-residence",
   "metadata": {},
   "outputs": [
    {
     "data": {
      "text/plain": [
       "<torch._C.Generator at 0x2cff5764590>"
      ]
     },
     "execution_count": 1,
     "metadata": {},
     "output_type": "execute_result"
    }
   ],
   "source": [
    "# Imports\n",
    "from src.classes.Grammar import Grammar\n",
    "from src.gsc.gsc_network import Net\n",
    "import pandas as pd\n",
    "import torch\n",
    "# Set seed for reproducibility\n",
    "torch.manual_seed(123)"
   ]
  },
  {
   "cell_type": "markdown",
   "id": "educated-capitol",
   "metadata": {},
   "source": [
    "## Grammar and Harmonic Constraints"
   ]
  },
  {
   "cell_type": "code",
   "execution_count": 2,
   "id": "bigger-uganda",
   "metadata": {},
   "outputs": [
    {
     "name": "stdout",
     "output_type": "stream",
     "text": [
      "Buil Filler Matrix\n",
      "Representations built after 392 attempts\n",
      "\n",
      "Build role Matrix\n",
      "Representations built after 177 attempts\n",
      "\n"
     ]
    }
   ],
   "source": [
    "# Fillers and Roles\n",
    "fillers = [\"bh\", \"b\", \"u\", \"d\", \"dh\"]\n",
    "roles = [\"s1\", \"s2\", \"s3\"]\n",
    "\n",
    "similarities = torch.tensor([[1, 0.75, 0, 0, 0, 0],\n",
    "                             [0.75, 1, 0, 0, 0, 0],\n",
    "                             [0, 0, 1, 0, 0, 0],\n",
    "                             [0, 0, 0, 1, 0.75, 0],\n",
    "                             [0, 0, 0, 0.75, 1, 0],\n",
    "                             [0, 0, 0, 0, 0, 1]])\n",
    "\n",
    "# Build Grammar\n",
    "# G = Grammar(fillers, roles, emtpyFiller=\"#\")\n",
    "G = Grammar(fillers, roles, emtpyFiller=\"_\", fillerSimilarities=similarities)"
   ]
  },
  {
   "cell_type": "markdown",
   "id": "enormous-switzerland",
   "metadata": {},
   "source": [
    "__Single Constituents Harmony__\n",
    "\n",
    "The following code sets the harmony values for single bindings. \n",
    "For instance the constraint `(\"b/s1\", 2)` means that the segment \"b\" in first position (\"s1\") improves the general harmony by 2. \n",
    "\n",
    "There will be *Harmony crosstalk* if the vector representing those bindings are not independent (dot product == 0). Let's suppose that the vector representing \"b/s1\" has a non-null dotproduct with the vector representing \"bh/s1\". Then \"bh/s1\" will also improve its harmony by a factor $H_{b/s1} \\times (b/s1 \\cdot bh/s1)$\n"
   ]
  },
  {
   "cell_type": "code",
   "execution_count": 3,
   "id": "bearing-national",
   "metadata": {},
   "outputs": [],
   "source": [
    "# Single Harmony constraints\n",
    "cons = [(\"b/s1\", 2), (\"bh/s1\", 2), (\"u/s2\", 5), (\"d/s3\", 2), (\"dh/s3\", 5)]\n",
    "G.update_Hc(cons)"
   ]
  },
  {
   "cell_type": "markdown",
   "id": "incident-majority",
   "metadata": {},
   "source": [
    "__Pairwise Harmony__\n",
    "\n",
    "These constraints provide a way to declare Harmonic Constraints in the GSC. \n",
    "Ex.:\n",
    "\n",
    "`(\"u/s2\" \"d/s3\", -3)` means that the co-occurence of \"u\" in the secondo position and \"d\" in the third position makes the total Harmony decrease by -3 points. This  (indirectly) implement the preference for \"dh\" in \"s3\".\n"
   ]
  },
  {
   "cell_type": "code",
   "execution_count": 4,
   "id": "comprehensive-content",
   "metadata": {},
   "outputs": [],
   "source": [
    "# Pairwise Harmony\n",
    "# Matrix dim: (nF, nR, nF, nR)\n",
    "cons = [(\"u/s2\", \"d/s3\", -3),\n",
    "        (\"b/s1\", \"dh/s3\", 5)]\n",
    "G.update_Hcc(cons)"
   ]
  },
  {
   "cell_type": "markdown",
   "id": "cosmetic-flesh",
   "metadata": {},
   "source": [
    "### Single binding Harmonies:"
   ]
  },
  {
   "cell_type": "code",
   "execution_count": 5,
   "id": "straight-independence",
   "metadata": {},
   "outputs": [
    {
     "data": {
      "text/html": [
       "<div>\n",
       "<style scoped>\n",
       "    .dataframe tbody tr th:only-of-type {\n",
       "        vertical-align: middle;\n",
       "    }\n",
       "\n",
       "    .dataframe tbody tr th {\n",
       "        vertical-align: top;\n",
       "    }\n",
       "\n",
       "    .dataframe thead th {\n",
       "        text-align: right;\n",
       "    }\n",
       "</style>\n",
       "<table border=\"1\" class=\"dataframe\">\n",
       "  <thead>\n",
       "    <tr style=\"text-align: right;\">\n",
       "      <th></th>\n",
       "      <th>s1</th>\n",
       "      <th>s2</th>\n",
       "      <th>s3</th>\n",
       "    </tr>\n",
       "  </thead>\n",
       "  <tbody>\n",
       "    <tr>\n",
       "      <th>bh</th>\n",
       "      <td>2.0</td>\n",
       "      <td>0.0</td>\n",
       "      <td>0.0</td>\n",
       "    </tr>\n",
       "    <tr>\n",
       "      <th>b</th>\n",
       "      <td>2.0</td>\n",
       "      <td>0.0</td>\n",
       "      <td>0.0</td>\n",
       "    </tr>\n",
       "    <tr>\n",
       "      <th>u</th>\n",
       "      <td>0.0</td>\n",
       "      <td>5.0</td>\n",
       "      <td>0.0</td>\n",
       "    </tr>\n",
       "    <tr>\n",
       "      <th>d</th>\n",
       "      <td>0.0</td>\n",
       "      <td>0.0</td>\n",
       "      <td>2.0</td>\n",
       "    </tr>\n",
       "    <tr>\n",
       "      <th>dh</th>\n",
       "      <td>0.0</td>\n",
       "      <td>0.0</td>\n",
       "      <td>5.0</td>\n",
       "    </tr>\n",
       "    <tr>\n",
       "      <th>_</th>\n",
       "      <td>0.0</td>\n",
       "      <td>0.0</td>\n",
       "      <td>0.0</td>\n",
       "    </tr>\n",
       "  </tbody>\n",
       "</table>\n",
       "</div>"
      ],
      "text/plain": [
       "     s1   s2   s3\n",
       "bh  2.0  0.0  0.0\n",
       "b   2.0  0.0  0.0\n",
       "u   0.0  5.0  0.0\n",
       "d   0.0  0.0  2.0\n",
       "dh  0.0  0.0  5.0\n",
       "_   0.0  0.0  0.0"
      ]
     },
     "execution_count": 5,
     "metadata": {},
     "output_type": "execute_result"
    }
   ],
   "source": [
    "harmonies = G.Hc.numpy()\n",
    "harmonies = pd.DataFrame(harmonies, columns=roles, index=fillers)\n",
    "harmonies"
   ]
  },
  {
   "cell_type": "code",
   "execution_count": 6,
   "id": "induced-linux",
   "metadata": {},
   "outputs": [],
   "source": [
    "import seaborn as sns"
   ]
  },
  {
   "cell_type": "code",
   "execution_count": 7,
   "id": "strange-rainbow",
   "metadata": {},
   "outputs": [
    {
     "data": {
      "text/plain": [
       "<AxesSubplot:>"
      ]
     },
     "execution_count": 7,
     "metadata": {},
     "output_type": "execute_result"
    },
    {
     "data": {
      "image/png": "[encoded data removed]",
      "text/plain": [
       "<Figure size 432x288 with 2 Axes>"
      ]
     },
     "metadata": {
      "needs_background": "light"
     },
     "output_type": "display_data"
    }
   ],
   "source": [
    "sns.heatmap(harmonies, annot=True, cmap=\"Greens\")"
   ]
  },
  {
   "cell_type": "markdown",
   "id": "rural-broad",
   "metadata": {},
   "source": [
    "### Pairwise Harmonies:"
   ]
  },
  {
   "cell_type": "code",
   "execution_count": 8,
   "id": "identified-constant",
   "metadata": {},
   "outputs": [
    {
     "data": {
      "text/html": [
       "<div>\n",
       "<style scoped>\n",
       "    .dataframe tbody tr th:only-of-type {\n",
       "        vertical-align: middle;\n",
       "    }\n",
       "\n",
       "    .dataframe tbody tr th {\n",
       "        vertical-align: top;\n",
       "    }\n",
       "\n",
       "    .dataframe thead th {\n",
       "        text-align: right;\n",
       "    }\n",
       "</style>\n",
       "<table border=\"1\" class=\"dataframe\">\n",
       "  <thead>\n",
       "    <tr style=\"text-align: right;\">\n",
       "      <th></th>\n",
       "      <th>s1</th>\n",
       "      <th>s2</th>\n",
       "      <th>s3</th>\n",
       "    </tr>\n",
       "  </thead>\n",
       "  <tbody>\n",
       "    <tr>\n",
       "      <th>bh</th>\n",
       "      <td>0.0</td>\n",
       "      <td>0.0</td>\n",
       "      <td>0.0</td>\n",
       "    </tr>\n",
       "    <tr>\n",
       "      <th>b</th>\n",
       "      <td>0.0</td>\n",
       "      <td>0.0</td>\n",
       "      <td>0.0</td>\n",
       "    </tr>\n",
       "    <tr>\n",
       "      <th>u</th>\n",
       "      <td>0.0</td>\n",
       "      <td>0.0</td>\n",
       "      <td>0.0</td>\n",
       "    </tr>\n",
       "    <tr>\n",
       "      <th>d</th>\n",
       "      <td>0.0</td>\n",
       "      <td>0.0</td>\n",
       "      <td>-3.0</td>\n",
       "    </tr>\n",
       "    <tr>\n",
       "      <th>dh</th>\n",
       "      <td>0.0</td>\n",
       "      <td>0.0</td>\n",
       "      <td>3.0</td>\n",
       "    </tr>\n",
       "    <tr>\n",
       "      <th>_</th>\n",
       "      <td>0.0</td>\n",
       "      <td>0.0</td>\n",
       "      <td>0.0</td>\n",
       "    </tr>\n",
       "  </tbody>\n",
       "</table>\n",
       "</div>"
      ],
      "text/plain": [
       "     s1   s2   s3\n",
       "bh  0.0  0.0  0.0\n",
       "b   0.0  0.0  0.0\n",
       "u   0.0  0.0  0.0\n",
       "d   0.0  0.0 -3.0\n",
       "dh  0.0  0.0  3.0\n",
       "_   0.0  0.0  0.0"
      ]
     },
     "execution_count": 8,
     "metadata": {},
     "output_type": "execute_result"
    }
   ],
   "source": [
    "# Harmonies for the binding : u/s2\n",
    "harmonies = G.Hcc.numpy()[:,:,2,1]\n",
    "harmonies = pd.DataFrame(harmonies, columns=roles, index=fillers)\n",
    "harmonies"
   ]
  },
  {
   "cell_type": "code",
   "execution_count": 9,
   "id": "figured-garden",
   "metadata": {},
   "outputs": [
    {
     "data": {
      "text/plain": [
       "<AxesSubplot:>"
      ]
     },
     "execution_count": 9,
     "metadata": {},
     "output_type": "execute_result"
    },
    {
     "data": {
      "image/png": "[encoded data removed]",
      "text/plain": [
       "<Figure size 432x288 with 2 Axes>"
      ]
     },
     "metadata": {
      "needs_background": "light"
     },
     "output_type": "display_data"
    }
   ],
   "source": [
    "sns.heatmap(harmonies, annot=True, cmap=\"Blues\")"
   ]
  },
  {
   "cell_type": "markdown",
   "id": "valuable-cabin",
   "metadata": {},
   "source": [
    "The preceding matrix is the matrix for \"u\" in second position, the binding \"u/s2\". We implemented the harmony constraint (\"u/s2\", \"d/s3\", -3) and (\"u/s2\", \"dh/s3\", 3) and this is what the heatmap is visualizing."
   ]
  },
  {
   "cell_type": "markdown",
   "id": "equal-sensitivity",
   "metadata": {},
   "source": [
    "## GSC Net"
   ]
  },
  {
   "cell_type": "code",
   "execution_count": 10,
   "id": "desirable-alcohol",
   "metadata": {},
   "outputs": [
    {
     "name": "stdout",
     "output_type": "stream",
     "text": [
      "Input processed: b-bh-u-dh\n",
      "\n",
      "Input processed: b-u-dh\n",
      "\n",
      "Value for Q set to 16.26776109327919\n",
      "LAMBDA RECOMMENDED: 0.01422198802943719, ACTUAL LAMBDA = 0.011387\n"
     ]
    },
    {
     "name": "stdin",
     "output_type": "stream",
     "text": [
      "If you want to change to the recommended Lambda value press 'y', else any other key: y\n"
     ]
    },
    {
     "name": "stdout",
     "output_type": "stream",
     "text": [
      "T RECOMMENDED: 2.3761105810755308e-05, ACTUAL T = -1\n"
     ]
    },
    {
     "name": "stdin",
     "output_type": "stream",
     "text": [
      "If you want to change to the recommended value press 'y', else any other key: y\n"
     ]
    }
   ],
   "source": [
    "# Custom settings (these substitute the hard-coded settings)\n",
    "\n",
    "# ---------------------------------------\n",
    "#           GSC NET\n",
    "# ---------------------------------------\n",
    "\n",
    "custom_settings = {\"epochs\": 5,\n",
    "                   \"tgtStd\": 0.00125,\n",
    "                   \"emaFactor\": 0.05,\n",
    "                   \"emaSpeedTol\": 0.002,\n",
    "                   \"dt\": 1e-5,\n",
    "                   \"T_decay_rate\": 0.05,\n",
    "                   \"maxSteps\": 50000,\n",
    "                   \"printInterval\": 25000}\n",
    "# Initialize\n",
    "N = Net(G, custom_settings=custom_settings, extData_path=\"data/inp_pandas.csv\")\n"
   ]
  },
  {
   "cell_type": "markdown",
   "id": "toxic-comparative",
   "metadata": {},
   "source": [
    "The external data were provided in form of a simple csv file and were imported in the GSCNet using `pandas`:"
   ]
  },
  {
   "cell_type": "code",
   "execution_count": 11,
   "id": "paperback-asset",
   "metadata": {},
   "outputs": [
    {
     "name": "stdout",
     "output_type": "stream",
     "text": [
      "Input processed: b-bh-u-dh\n",
      "\n",
      "Input processed: b-u-dh\n",
      "\n"
     ]
    }
   ],
   "source": [
    "# EXTERNAL INPUTS \n",
    "\n",
    "# Read dataframe\n",
    "inputs = pd.read_csv(\"data/inp_pandas.csv\", sep=\",\")\n",
    "inputNames = []\n",
    "nStimuli = len(inputs['id'].unique())\n",
    "\n",
    "# Initialize stimuli tensor\n",
    "stimuli = torch.zeros((nStimuli, len(fillers) + 1, len(roles)))\n",
    "\n",
    "# Loop over the single inputs as whole\n",
    "for idx, i in enumerate(inputs['id'].unique()):\n",
    "    inp_string = \"\"\n",
    "    stimulus = inputs[inputs.id == i].to_numpy()[:, 1:]\n",
    "\n",
    "    # Loop over the fillers in a given input\n",
    "    for filler in stimulus:\n",
    "        fidx = N.filler2index[filler[0]]\n",
    "        inp_string += filler[0] + \"-\"\n",
    "        for roledix in range(N.grammar.bind.nR):\n",
    "            stimuli[idx, fidx, roledix] = filler[roledix+1]\n",
    "    print(f\"Input processed: {inp_string[:-1]}\\n\")\n",
    "    # Store the names for later plotting\n",
    "    inputNames.append(inp_string[:-1])"
   ]
  },
  {
   "cell_type": "markdown",
   "id": "legislative-investigator",
   "metadata": {},
   "source": [
    "The first imput is a gradient blend for the root *{b, bh}ud*:"
   ]
  },
  {
   "cell_type": "code",
   "execution_count": 12,
   "id": "absolute-cambridge",
   "metadata": {},
   "outputs": [
    {
     "name": "stdout",
     "output_type": "stream",
     "text": [
      "     s1   s2   s3\n",
      "bh  0.7  0.0  0.0\n",
      "b   0.8  0.0  0.0\n",
      "u   0.0  1.0  0.0\n",
      "d   0.0  0.0  0.0\n",
      "dh  0.0  0.0  1.0\n",
      "_   0.0  0.0  0.0\n"
     ]
    },
    {
     "data": {
      "text/plain": [
       "<AxesSubplot:>"
      ]
     },
     "execution_count": 12,
     "metadata": {},
     "output_type": "execute_result"
    },
    {
     "data": {
      "image/png": "[encoded data removed]",
      "text/plain": [
       "<Figure size 432x288 with 2 Axes>"
      ]
     },
     "metadata": {
      "needs_background": "light"
     },
     "output_type": "display_data"
    }
   ],
   "source": [
    "b_bh_ud = N.stimuli[0,:,:].numpy()\n",
    "b_bh_ud = pd.DataFrame(b_bh_ud, columns=roles, index=fillers)\n",
    "print(b_bh_ud)\n",
    "sns.heatmap(b_bh_ud, alpha=.8, cmap=\"Blues\", annot=True)"
   ]
  },
  {
   "cell_type": "markdown",
   "id": "bound-electron",
   "metadata": {},
   "source": [
    "## Training (Optimization + Quantization)"
   ]
  },
  {
   "cell_type": "code",
   "execution_count": 13,
   "id": "powerful-gnome",
   "metadata": {
    "scrolled": true
   },
   "outputs": [
    {
     "name": "stderr",
     "output_type": "stream",
     "text": [
      "Epoch routine::   0%|          | 0/5 [00:00<?, ?it/s]\n",
      "Stimulus routine::   0%|          | 0/2 [00:00<?, ?it/s]\u001b[A"
     ]
    },
    {
     "name": "stdout",
     "output_type": "stream",
     "text": [
      "\n",
      "--------------------------------------------------------------------------------\n",
      "\n",
      "STEP : 0\t Lambda : 0.01422198802943719\t Harmony: 40.88941192626953\n",
      "\n",
      "epoch : 1\n",
      "stimNum : 1\n",
      "\n",
      "Conceptual Matrix:\n",
      "          s1        s2        s3\n",
      "bh  0.695062  0.400000  0.400000\n",
      "b   0.696599  0.400000  0.400000\n",
      "u   0.400000  0.774956  0.400000\n",
      "d   0.400000  0.400000  0.763836\n",
      "dh  0.400000  0.400000  0.896763\n",
      "_   0.400000  0.400000  0.400000\n",
      "Nearest TP: b-u-dh\n",
      "Distance between prediction and nearest TP: 1.955837828969228\n",
      "\n",
      "--------------------------------------------------------------------------------\n",
      "\n",
      "STEP : 25000\t Lambda : 0.011330906619084124\t Harmony: 33.65285873413086\n",
      "\n",
      "epoch : 1\n",
      "stimNum : 1\n",
      "\n",
      "Conceptual Matrix:\n",
      "          s1        s2        s3\n",
      "bh  0.674412  0.592966  0.696598\n",
      "b   0.685469  0.468440  0.503296\n",
      "u   0.390630  0.872105  0.555379\n",
      "d   0.380568  0.674823  1.174426\n",
      "dh  0.383475  0.565681  1.140686\n",
      "_   0.376701  0.739082  0.915923\n",
      "Nearest TP: b-u-d\n",
      "Distance between prediction and nearest TP: 2.8250647744330335\n"
     ]
    },
    {
     "name": "stderr",
     "output_type": "stream",
     "text": [
      "\n",
      "Stimulus routine::  50%|█████     | 1/2 [00:27<00:27, 27.69s/it]\u001b[A"
     ]
    },
    {
     "name": "stdout",
     "output_type": "stream",
     "text": [
      "\n",
      "Last best Harmony: 13.849176760721917\n",
      "\n",
      "\n",
      "--------------------------------------------------------------------------------\n",
      "\n",
      "STEP : 0\t Lambda : 0.009031611291664871\t Harmony: 40.293277740478516\n",
      "\n",
      "epoch : 1\n",
      "stimNum : 2\n",
      "\n",
      "Conceptual Matrix:\n",
      "          s1        s2        s3\n",
      "bh  0.661253  0.400000  0.400000\n",
      "b   0.676621  0.400000  0.400000\n",
      "u   0.400000  0.774956  0.400000\n",
      "d   0.400000  0.400000  0.763836\n",
      "dh  0.400000  0.400000  0.896763\n",
      "_   0.400000  0.400000  0.400000\n",
      "Nearest TP: b-u-dh\n",
      "Distance between prediction and nearest TP: 1.9461598997996337\n",
      "\n",
      "--------------------------------------------------------------------------------\n",
      "\n",
      "STEP : 25000\t Lambda : 0.007203114105857327\t Harmony: 32.917152404785156\n",
      "\n",
      "epoch : 1\n",
      "stimNum : 2\n",
      "\n",
      "Conceptual Matrix:\n",
      "          s1        s2        s3\n",
      "bh  0.644966  0.599893  0.700152\n",
      "b   0.665729  0.465864  0.503095\n",
      "u   0.391198  0.874430  0.557566\n",
      "d   0.379991  0.679540  1.181536\n",
      "dh  0.389633  0.565594  1.144111\n",
      "_   0.376416  0.740164  0.916802\n",
      "Nearest TP: b-u-d\n",
      "Distance between prediction and nearest TP: 2.83051637803417\n"
     ]
    },
    {
     "name": "stderr",
     "output_type": "stream",
     "text": [
      "\n",
      "Stimulus routine:: 100%|██████████| 2/2 [00:54<00:00, 27.45s/it]\u001b[A\n",
      "Epoch routine::  20%|██        | 1/5 [00:54<03:39, 54.90s/it]\n",
      "Stimulus routine::   0%|          | 0/2 [00:00<?, ?it/s]\u001b[A"
     ]
    },
    {
     "name": "stdout",
     "output_type": "stream",
     "text": [
      "\n",
      "Last best Harmony: 12.103758067113517\n",
      "\n",
      "\n",
      "--------------------------------------------------------------------------------\n",
      "\n",
      "STEP : 0\t Lambda : 0.005748898731475141\t Harmony: 40.88941192626953\n",
      "\n",
      "epoch : 2\n",
      "stimNum : 1\n",
      "\n",
      "Conceptual Matrix:\n",
      "          s1        s2        s3\n",
      "bh  0.695062  0.400000  0.400000\n",
      "b   0.696599  0.400000  0.400000\n",
      "u   0.400000  0.774956  0.400000\n",
      "d   0.400000  0.400000  0.763836\n",
      "dh  0.400000  0.400000  0.896763\n",
      "_   0.400000  0.400000  0.400000\n",
      "Nearest TP: b-u-dh\n",
      "Distance between prediction and nearest TP: 1.955837828969228\n",
      "\n",
      "--------------------------------------------------------------------------------\n",
      "\n",
      "STEP : 25000\t Lambda : 0.004592444974575413\t Harmony: 33.482662200927734\n",
      "\n",
      "epoch : 2\n",
      "stimNum : 1\n",
      "\n",
      "Conceptual Matrix:\n",
      "          s1        s2        s3\n",
      "bh  0.678598  0.597817  0.700597\n",
      "b   0.692451  0.467507  0.504039\n",
      "u   0.392646  0.877953  0.557111\n",
      "d   0.384959  0.680287  1.184130\n",
      "dh  0.386105  0.564341  1.142733\n",
      "_   0.379320  0.742325  0.917390\n",
      "Nearest TP: b-u-d\n",
      "Distance between prediction and nearest TP: 2.8390984028167696\n"
     ]
    },
    {
     "name": "stderr",
     "output_type": "stream",
     "text": [
      "\n",
      "Stimulus routine::  50%|█████     | 1/2 [00:27<00:27, 27.07s/it]\u001b[A"
     ]
    },
    {
     "name": "stdout",
     "output_type": "stream",
     "text": [
      "\n",
      "Last best Harmony: 12.21027677880771\n",
      "\n",
      "\n",
      "--------------------------------------------------------------------------------\n",
      "\n",
      "STEP : 0\t Lambda : 0.003672709988872866\t Harmony: 40.293277740478516\n",
      "\n",
      "epoch : 2\n",
      "stimNum : 2\n",
      "\n",
      "Conceptual Matrix:\n",
      "          s1        s2        s3\n",
      "bh  0.661253  0.400000  0.400000\n",
      "b   0.676621  0.400000  0.400000\n",
      "u   0.400000  0.774956  0.400000\n",
      "d   0.400000  0.400000  0.763836\n",
      "dh  0.400000  0.400000  0.896763\n",
      "_   0.400000  0.400000  0.400000\n",
      "Nearest TP: b-u-dh\n",
      "Distance between prediction and nearest TP: 1.9461598997996337\n",
      "\n",
      "--------------------------------------------------------------------------------\n",
      "\n",
      "STEP : 25000\t Lambda : 0.002941297710949786\t Harmony: 32.95176696777344\n",
      "\n",
      "epoch : 2\n",
      "stimNum : 2\n",
      "\n",
      "Conceptual Matrix:\n",
      "          s1        s2        s3\n",
      "bh  0.648164  0.601176  0.702251\n",
      "b   0.671560  0.466066  0.501202\n",
      "u   0.392569  0.876576  0.557697\n",
      "d   0.384001  0.678178  1.182096\n",
      "dh  0.389157  0.563079  1.141854\n",
      "_   0.381189  0.739676  0.913794\n",
      "Nearest TP: b-u-d\n",
      "Distance between prediction and nearest TP: 2.8300920597572254\n"
     ]
    },
    {
     "name": "stderr",
     "output_type": "stream",
     "text": [
      "\n",
      "Stimulus routine:: 100%|██████████| 2/2 [00:54<00:00, 27.15s/it]\u001b[A\n",
      "Epoch routine::  40%|████      | 2/5 [01:49<02:43, 54.55s/it]\n",
      "Stimulus routine::   0%|          | 0/2 [00:00<?, ?it/s]\u001b[A"
     ]
    },
    {
     "name": "stdout",
     "output_type": "stream",
     "text": [
      "\n",
      "Last best Harmony: 11.585439647940149\n",
      "\n",
      "\n",
      "--------------------------------------------------------------------------------\n",
      "\n",
      "STEP : 0\t Lambda : 0.0023596009012289707\t Harmony: 40.88941192626953\n",
      "\n",
      "epoch : 3\n",
      "stimNum : 1\n",
      "\n",
      "Conceptual Matrix:\n",
      "          s1        s2        s3\n",
      "bh  0.695062  0.400000  0.400000\n",
      "b   0.696599  0.400000  0.400000\n",
      "u   0.400000  0.774956  0.400000\n",
      "d   0.400000  0.400000  0.763836\n",
      "dh  0.400000  0.400000  0.896763\n",
      "_   0.400000  0.400000  0.400000\n",
      "Nearest TP: b-u-dh\n",
      "Distance between prediction and nearest TP: 1.955837828969228\n",
      "\n",
      "--------------------------------------------------------------------------------\n",
      "\n",
      "STEP : 25000\t Lambda : 0.001897010921210363\t Harmony: 33.65906524658203\n",
      "\n",
      "epoch : 3\n",
      "stimNum : 1\n",
      "\n",
      "Conceptual Matrix:\n",
      "          s1        s2        s3\n",
      "bh  0.682861  0.595436  0.697913\n",
      "b   0.690322  0.467888  0.503297\n",
      "u   0.391647  0.877192  0.557152\n",
      "d   0.386153  0.674282  1.180437\n",
      "dh  0.390753  0.562785  1.141206\n",
      "_   0.382218  0.736778  0.910500\n",
      "Nearest TP: b-u-d\n",
      "Distance between prediction and nearest TP: 2.8307205426419633\n"
     ]
    },
    {
     "name": "stderr",
     "output_type": "stream",
     "text": [
      "\n",
      "Stimulus routine::  50%|█████     | 1/2 [00:27<00:27, 27.22s/it]\u001b[A"
     ]
    },
    {
     "name": "stdout",
     "output_type": "stream",
     "text": [
      "\n",
      "Last best Harmony: 12.406705192213181\n",
      "\n",
      "\n",
      "--------------------------------------------------------------------------------\n",
      "\n",
      "STEP : 0\t Lambda : 0.001529110184911908\t Harmony: 40.293277740478516\n",
      "\n",
      "epoch : 3\n",
      "stimNum : 2\n",
      "\n",
      "Conceptual Matrix:\n",
      "          s1        s2        s3\n",
      "bh  0.661253  0.400000  0.400000\n",
      "b   0.676621  0.400000  0.400000\n",
      "u   0.400000  0.774956  0.400000\n",
      "d   0.400000  0.400000  0.763836\n",
      "dh  0.400000  0.400000  0.896763\n",
      "_   0.400000  0.400000  0.400000\n",
      "Nearest TP: b-u-dh\n",
      "Distance between prediction and nearest TP: 1.9461598997996337\n",
      "\n",
      "--------------------------------------------------------------------------------\n",
      "\n",
      "STEP : 25000\t Lambda : 0.0012365399122043698\t Harmony: 33.18024444580078\n",
      "\n",
      "epoch : 3\n",
      "stimNum : 2\n",
      "\n",
      "Conceptual Matrix:\n",
      "          s1        s2        s3\n",
      "bh  0.647910  0.593161  0.694670\n",
      "b   0.674761  0.467756  0.501989\n",
      "u   0.395147  0.878927  0.556457\n",
      "d   0.388513  0.675698  1.177288\n",
      "dh  0.388650  0.558086  1.138600\n",
      "_   0.380931  0.734401  0.905316\n",
      "Nearest TP: b-u-d\n",
      "Distance between prediction and nearest TP: 2.8162411588727245\n"
     ]
    },
    {
     "name": "stderr",
     "output_type": "stream",
     "text": [
      "\n",
      "Stimulus routine:: 100%|██████████| 2/2 [00:54<00:00, 27.18s/it]\u001b[A\n",
      "Epoch routine::  60%|██████    | 3/5 [02:43<01:48, 54.46s/it]\n",
      "Stimulus routine::   0%|          | 0/2 [00:00<?, ?it/s]\u001b[A"
     ]
    },
    {
     "name": "stdout",
     "output_type": "stream",
     "text": [
      "\n",
      "Last best Harmony: 12.242630984955483\n",
      "\n",
      "\n",
      "--------------------------------------------------------------------------------\n",
      "\n",
      "STEP : 0\t Lambda : 0.0010038569242507192\t Harmony: 40.88941192626953\n",
      "\n",
      "epoch : 4\n",
      "stimNum : 1\n",
      "\n",
      "Conceptual Matrix:\n",
      "          s1        s2        s3\n",
      "bh  0.695062  0.400000  0.400000\n",
      "b   0.696599  0.400000  0.400000\n",
      "u   0.400000  0.774956  0.400000\n",
      "d   0.400000  0.400000  0.763836\n",
      "dh  0.400000  0.400000  0.896763\n",
      "_   0.400000  0.400000  0.400000\n",
      "Nearest TP: b-u-dh\n",
      "Distance between prediction and nearest TP: 1.955837828969228\n",
      "\n",
      "--------------------------------------------------------------------------------\n",
      "\n",
      "STEP : 25000\t Lambda : 0.0008188175412776387\t Harmony: 33.92166519165039\n",
      "\n",
      "epoch : 4\n",
      "stimNum : 1\n",
      "\n",
      "Conceptual Matrix:\n",
      "          s1        s2        s3\n",
      "bh  0.683387  0.594868  0.692528\n",
      "b   0.693477  0.464436  0.498980\n",
      "u   0.394664  0.877143  0.554468\n",
      "d   0.383613  0.669332  1.174214\n",
      "dh  0.392553  0.560079  1.134590\n",
      "_   0.382336  0.729658  0.900586\n",
      "Nearest TP: b-u-d\n",
      "Distance between prediction and nearest TP: 2.8126276252278806\n"
     ]
    },
    {
     "name": "stderr",
     "output_type": "stream",
     "text": [
      "\n",
      "Stimulus routine::  50%|█████     | 1/2 [00:27<00:27, 27.11s/it]\u001b[A"
     ]
    },
    {
     "name": "stdout",
     "output_type": "stream",
     "text": [
      "\n",
      "Last best Harmony: 13.32270297068139\n",
      "\n",
      "\n",
      "--------------------------------------------------------------------------------\n",
      "\n",
      "STEP : 0\t Lambda : 0.0006716545499018536\t Harmony: 40.293277740478516\n",
      "\n",
      "epoch : 4\n",
      "stimNum : 2\n",
      "\n",
      "Conceptual Matrix:\n",
      "          s1        s2        s3\n",
      "bh  0.661253  0.400000  0.400000\n",
      "b   0.676621  0.400000  0.400000\n",
      "u   0.400000  0.774956  0.400000\n",
      "d   0.400000  0.400000  0.763836\n",
      "dh  0.400000  0.400000  0.896763\n",
      "_   0.400000  0.400000  0.400000\n",
      "Nearest TP: b-u-dh\n",
      "Distance between prediction and nearest TP: 1.9461598997996337\n",
      "\n",
      "--------------------------------------------------------------------------------\n",
      "\n",
      "STEP : 25000\t Lambda : 0.0005546242961642108\t Harmony: 33.4813117980957\n",
      "\n",
      "epoch : 4\n",
      "stimNum : 2\n",
      "\n",
      "Conceptual Matrix:\n",
      "          s1        s2        s3\n",
      "bh  0.650052  0.593477  0.690291\n",
      "b   0.673665  0.462452  0.496451\n",
      "u   0.395461  0.875285  0.552227\n",
      "d   0.386553  0.669216  1.169389\n",
      "dh  0.390699  0.556513  1.132771\n",
      "_   0.380626  0.725188  0.894041\n",
      "Nearest TP: b-u-d\n",
      "Distance between prediction and nearest TP: 2.795905886278881\n"
     ]
    },
    {
     "name": "stderr",
     "output_type": "stream",
     "text": [
      "\n",
      "Stimulus routine:: 100%|██████████| 2/2 [00:55<00:00, 27.59s/it]\u001b[A\n",
      "Epoch routine::  80%|████████  | 4/5 [03:38<00:54, 54.75s/it]\n",
      "Stimulus routine::   0%|          | 0/2 [00:00<?, ?it/s]\u001b[A"
     ]
    },
    {
     "name": "stdout",
     "output_type": "stream",
     "text": [
      "\n",
      "Last best Harmony: 13.311942711489124\n",
      "\n",
      "\n",
      "--------------------------------------------------------------------------------\n",
      "\n",
      "STEP : 0\t Lambda : 0.00046154939532536707\t Harmony: 40.88941192626953\n",
      "\n",
      "epoch : 5\n",
      "stimNum : 1\n",
      "\n",
      "Conceptual Matrix:\n",
      "          s1        s2        s3\n",
      "bh  0.695062  0.400000  0.400000\n",
      "b   0.696599  0.400000  0.400000\n",
      "u   0.400000  0.774956  0.400000\n",
      "d   0.400000  0.400000  0.763836\n",
      "dh  0.400000  0.400000  0.896763\n",
      "_   0.400000  0.400000  0.400000\n",
      "Nearest TP: b-u-dh\n",
      "Distance between prediction and nearest TP: 1.955837828969228\n",
      "\n",
      "--------------------------------------------------------------------------------\n",
      "\n",
      "STEP : 25000\t Lambda : 0.0003875322857250255\t Harmony: 34.263084411621094\n",
      "\n",
      "epoch : 5\n",
      "stimNum : 1\n",
      "\n",
      "Conceptual Matrix:\n",
      "          s1        s2        s3\n",
      "bh  0.682826  0.589979  0.685709\n",
      "b   0.694328  0.462829  0.496684\n",
      "u   0.394750  0.873984  0.550387\n",
      "d   0.385113  0.663229  1.162585\n",
      "dh  0.392357  0.555464  1.131452\n",
      "_   0.382884  0.721990  0.887594\n",
      "Nearest TP: b-u-d\n",
      "Distance between prediction and nearest TP: 2.7908854368341203\n"
     ]
    },
    {
     "name": "stderr",
     "output_type": "stream",
     "text": [
      "\n",
      "Stimulus routine::  50%|█████     | 1/2 [00:27<00:27, 27.84s/it]\u001b[A"
     ]
    },
    {
     "name": "stdout",
     "output_type": "stream",
     "text": [
      "\n",
      "Last best Harmony: 14.584918418373789\n",
      "\n",
      "\n",
      "--------------------------------------------------------------------------------\n",
      "\n",
      "STEP : 0\t Lambda : 0.0003286660104123713\t Harmony: 40.293277740478516\n",
      "\n",
      "epoch : 5\n",
      "stimNum : 2\n",
      "\n",
      "Conceptual Matrix:\n",
      "          s1        s2        s3\n",
      "bh  0.661253  0.400000  0.400000\n",
      "b   0.676621  0.400000  0.400000\n",
      "u   0.400000  0.774956  0.400000\n",
      "d   0.400000  0.400000  0.763836\n",
      "dh  0.400000  0.400000  0.896763\n",
      "_   0.400000  0.400000  0.400000\n",
      "Nearest TP: b-u-dh\n",
      "Distance between prediction and nearest TP: 1.9461598997996337\n",
      "\n",
      "--------------------------------------------------------------------------------\n",
      "\n",
      "STEP : 25000\t Lambda : 0.0002818530510397406\t Harmony: 33.80680465698242\n",
      "\n",
      "epoch : 5\n",
      "stimNum : 2\n",
      "\n",
      "Conceptual Matrix:\n",
      "          s1        s2        s3\n",
      "bh  0.649628  0.585200  0.684202\n",
      "b   0.674053  0.462900  0.495663\n",
      "u   0.393953  0.872775  0.547255\n",
      "d   0.386485  0.664067  1.159633\n",
      "dh  0.391758  0.549915  1.127097\n",
      "_   0.384256  0.718344  0.882293\n",
      "Nearest TP: b-u-d\n",
      "Distance between prediction and nearest TP: 2.7741736868208275\n"
     ]
    },
    {
     "name": "stderr",
     "output_type": "stream",
     "text": [
      "\n",
      "Stimulus routine:: 100%|██████████| 2/2 [00:55<00:00, 27.92s/it]\u001b[A\n",
      "Epoch routine:: 100%|██████████| 5/5 [04:34<00:00, 54.92s/it]"
     ]
    },
    {
     "name": "stdout",
     "output_type": "stream",
     "text": [
      "\n",
      "Last best Harmony: 14.537994779435891\n",
      "\n"
     ]
    },
    {
     "name": "stderr",
     "output_type": "stream",
     "text": [
      "\n"
     ]
    }
   ],
   "source": [
    "# Run\n",
    "p = N()"
   ]
  },
  {
   "cell_type": "markdown",
   "id": "alien-diving",
   "metadata": {},
   "source": [
    "# Visualization"
   ]
  },
  {
   "cell_type": "code",
   "execution_count": 48,
   "id": "growing-nashville",
   "metadata": {},
   "outputs": [],
   "source": [
    "from src.gsc.plotting import Plot\n",
    "import matplotlib.pyplot as plt"
   ]
  },
  {
   "cell_type": "code",
   "execution_count": 49,
   "id": "vocal-delaware",
   "metadata": {},
   "outputs": [],
   "source": [
    "fp = \"data/full_traces.pt\"\n",
    "nr = len(roles)\n",
    "nf = len(fillers) +1 \n",
    "statesDict = G.bind.states\n",
    "inputNames = N.inputNames\n",
    "\n",
    "\n",
    "p = Plot(fp_traces=\"data/full_traces.pt\", nf=nf,nr=nr, inputNames=inputNames, statesDict=statesDict)"
   ]
  },
  {
   "cell_type": "code",
   "execution_count": 50,
   "id": "eastern-rotation",
   "metadata": {},
   "outputs": [
    {
     "data": {
      "image/png": "[encoded data removed]",
      "text/plain": [
       "<Figure size 1152x720 with 1 Axes>"
      ]
     },
     "metadata": {},
     "output_type": "display_data"
    }
   ],
   "source": [
    "plt.figure(figsize=(16,10))\n",
    "df = p.plot_epoch(1, 3)"
   ]
  },
  {
   "cell_type": "code",
   "execution_count": 44,
   "id": "hollywood-naples",
   "metadata": {},
   "outputs": [
    {
     "data": {
      "image/png": "[encoded data removed]",
      "text/plain": [
       "<Figure size 1152x720 with 1 Axes>"
      ]
     },
     "metadata": {},
     "output_type": "display_data"
    }
   ],
   "source": [
    "plt.figure(figsize=(16,10))\n",
    "df = p.plot_epoch(0, 3)"
   ]
  },
  {
   "cell_type": "code",
   "execution_count": null,
   "id": "national-paintball",
   "metadata": {},
   "outputs": [],
   "source": [
    "plt.figure(figsize=(16,10))\n",
    "df = p.plot_harmonyProb(1, 4, lm=False)"
   ]
  },
  {
   "cell_type": "code",
   "execution_count": null,
   "id": "comparable-tennessee",
   "metadata": {},
   "outputs": [],
   "source": []
  }
 ],
 "metadata": {
  "kernelspec": {
   "display_name": "Python 3",
   "language": "python",
   "name": "python3"
  },
  "language_info": {
   "codemirror_mode": {
    "name": "ipython",
    "version": 3
   },
   "file_extension": ".py",
   "mimetype": "text/x-python",
   "name": "python",
   "nbconvert_exporter": "python",
   "pygments_lexer": "ipython3",
   "version": "3.8.5"
  }
 },
 "nbformat": 4,
 "nbformat_minor": 5
}
