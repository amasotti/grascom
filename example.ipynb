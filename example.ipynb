{
 "cells": [
  {
   "cell_type": "markdown",
   "id": "acting-crest",
   "metadata": {},
   "source": [
    "# Gradient Symbolic Computation\n",
    "\n",
    "see `TPR_example.ipynb` for details about the TP representation and one possible empirical phenomenon, that can be handled with GSC."
   ]
  },
  {
   "cell_type": "code",
   "execution_count": 1,
   "id": "graphic-addition",
   "metadata": {},
   "outputs": [
    {
     "data": {
      "text/plain": [
       "<torch._C.Generator at 0x1e9c9d49590>"
      ]
     },
     "execution_count": 1,
     "metadata": {},
     "output_type": "execute_result"
    }
   ],
   "source": [
    "# Imports\n",
    "from src.classes.Grammar import Grammar\n",
    "from src.gsc.gsc_network import Net\n",
    "import pandas as pd\n",
    "import seaborn as sns\n",
    "import matplotlib.pyplot as plt\n",
    "import torch\n",
    "# Set seed for reproducibility\n",
    "torch.manual_seed(123)"
   ]
  },
  {
   "cell_type": "markdown",
   "id": "adverse-airport",
   "metadata": {},
   "source": [
    "## Grammar and Harmonic Constraints"
   ]
  },
  {
   "cell_type": "code",
   "execution_count": 2,
   "id": "ranking-soviet",
   "metadata": {},
   "outputs": [
    {
     "name": "stdout",
     "output_type": "stream",
     "text": [
      "Buil Filler Matrix\n",
      "Representations built after 224 attempts\n",
      "\n",
      "Build role Matrix\n",
      "Representations built after 219 attempts\n",
      "\n"
     ]
    }
   ],
   "source": [
    "# Fillers and Roles\n",
    "fillers = [\"bh\", \"b\", \"u\", \"d\", \"dh\"]\n",
    "# The simplest possible roles: s1 = first position in the word, s2 = second position ....\n",
    "roles = [\"s1\", \"s2\", \"s3\",\"s4\"]\n",
    "\n",
    "\"\"\"similarities = torch.tensor([[1, 0.5, 0, 0, 0,0],\n",
    "                             [0.5, 1, 0, 0, 0,0],\n",
    "                             [0, 0, 1, 0, 0,0],\n",
    "                             [0, 0, 0, 1, 0.5,0],\n",
    "                             [0, 0, 0, 0.5, 1,0],\n",
    "                              [0, 0, 0, 0, 0,1]])\"\"\"\n",
    "\n",
    "# Build Grammar\n",
    "G = Grammar(fillers, roles, emtpyFiller=\"#\")\n",
    "#G = Grammar(fillers, roles, emtpyFiller=\"#\", fillerSimilarities=similarities)"
   ]
  },
  {
   "cell_type": "code",
   "execution_count": 3,
   "id": "basic-springfield",
   "metadata": {},
   "outputs": [
    {
     "name": "stdout",
     "output_type": "stream",
     "text": [
      "Roles representation matrix:\n",
      "          s1        s2        s3        s4\n",
      "s1 -0.706786 -0.245139 -0.450434  0.487308\n",
      "s2  0.334344 -0.780347 -0.430909 -0.305926\n",
      "s3  0.537700 -0.161073  0.128452  0.817578\n",
      "s4 -0.315509 -0.552287  0.771314 -0.022488\n",
      "\n",
      "Fillers representation matrix:\n",
      "          bh         b         u         d        dh         #\n",
      "bh  0.268915 -0.226856  0.369631 -0.588528  0.522140  0.347274\n",
      "b  -0.040153 -0.228537  0.764934  0.441927  0.133732 -0.384513\n",
      "u  -0.684379  0.453295  0.208536 -0.449616  0.076696 -0.273175\n",
      "d  -0.021590 -0.388657  0.257805 -0.388855 -0.793899  0.023089\n",
      "dh  0.676026  0.534180  0.126280 -0.201687 -0.152363 -0.421664\n",
      "#   0.014784 -0.504409 -0.390321 -0.253565  0.223861 -0.691804\n",
      "\n"
     ]
    }
   ],
   "source": [
    "print(f\"Roles representation matrix:\\n{pd.DataFrame(G.bind.R.numpy(), index=roles, columns=roles)}\\n\")\n",
    "print(f\"Fillers representation matrix:\\n{pd.DataFrame(G.bind.F.numpy(), index=fillers, columns=fillers)}\\n\")"
   ]
  },
  {
   "cell_type": "markdown",
   "id": "forty-saying",
   "metadata": {},
   "source": [
    "## Single Constituents Harmony\n",
    "\n",
    "The following code sets the harmony values for single bindings. \n",
    "For instance the constraint `(\"b/s1\", 2)` means that the segment \"b\" in first position (\"s1\") improves the general harmony by 2. \n",
    "\n",
    "There will be *Harmony crosstalk* if the vector representing those bindings are not independent (dot product == 0). Let's suppose that the vector representing \"b/s1\" has a non-null dotproduct with the vector representing \"bh/s1\". Then \"bh/s1\" will also improve its harmony by a factor $H_{b/s1} \\times (b/s1 \\cdot bh/s1)$\n"
   ]
  },
  {
   "cell_type": "code",
   "execution_count": 4,
   "id": "regular-ordinary",
   "metadata": {},
   "outputs": [],
   "source": [
    "# Single Harmony constraints\n",
    "cons = [(\"b/s1\", 5), (\"u/s2\", 5), (\"dh/s3\", 2), (\"#/s4\", 2), (\"d/s3\",2)] # initialize preferences (dummy-way to reinforce the desired output)\n",
    "G.update_Hc(cons)"
   ]
  },
  {
   "cell_type": "code",
   "execution_count": 5,
   "id": "starting-leone",
   "metadata": {},
   "outputs": [
    {
     "data": {
      "text/html": [
       "<div>\n",
       "<style scoped>\n",
       "    .dataframe tbody tr th:only-of-type {\n",
       "        vertical-align: middle;\n",
       "    }\n",
       "\n",
       "    .dataframe tbody tr th {\n",
       "        vertical-align: top;\n",
       "    }\n",
       "\n",
       "    .dataframe thead th {\n",
       "        text-align: right;\n",
       "    }\n",
       "</style>\n",
       "<table border=\"1\" class=\"dataframe\">\n",
       "  <thead>\n",
       "    <tr style=\"text-align: right;\">\n",
       "      <th></th>\n",
       "      <th>s1</th>\n",
       "      <th>s2</th>\n",
       "      <th>s3</th>\n",
       "      <th>s4</th>\n",
       "    </tr>\n",
       "  </thead>\n",
       "  <tbody>\n",
       "    <tr>\n",
       "      <th>bh</th>\n",
       "      <td>0.0</td>\n",
       "      <td>0.0</td>\n",
       "      <td>0.0</td>\n",
       "      <td>0.0</td>\n",
       "    </tr>\n",
       "    <tr>\n",
       "      <th>b</th>\n",
       "      <td>5.0</td>\n",
       "      <td>0.0</td>\n",
       "      <td>0.0</td>\n",
       "      <td>0.0</td>\n",
       "    </tr>\n",
       "    <tr>\n",
       "      <th>u</th>\n",
       "      <td>0.0</td>\n",
       "      <td>5.0</td>\n",
       "      <td>0.0</td>\n",
       "      <td>0.0</td>\n",
       "    </tr>\n",
       "    <tr>\n",
       "      <th>d</th>\n",
       "      <td>0.0</td>\n",
       "      <td>0.0</td>\n",
       "      <td>2.0</td>\n",
       "      <td>0.0</td>\n",
       "    </tr>\n",
       "    <tr>\n",
       "      <th>dh</th>\n",
       "      <td>0.0</td>\n",
       "      <td>0.0</td>\n",
       "      <td>2.0</td>\n",
       "      <td>0.0</td>\n",
       "    </tr>\n",
       "    <tr>\n",
       "      <th>#</th>\n",
       "      <td>0.0</td>\n",
       "      <td>0.0</td>\n",
       "      <td>0.0</td>\n",
       "      <td>2.0</td>\n",
       "    </tr>\n",
       "  </tbody>\n",
       "</table>\n",
       "</div>"
      ],
      "text/plain": [
       "     s1   s2   s3   s4\n",
       "bh  0.0  0.0  0.0  0.0\n",
       "b   5.0  0.0  0.0  0.0\n",
       "u   0.0  5.0  0.0  0.0\n",
       "d   0.0  0.0  2.0  0.0\n",
       "dh  0.0  0.0  2.0  0.0\n",
       "#   0.0  0.0  0.0  2.0"
      ]
     },
     "execution_count": 5,
     "metadata": {},
     "output_type": "execute_result"
    }
   ],
   "source": [
    "harmonies = G.Hc.numpy()\n",
    "harmonies = pd.DataFrame(harmonies, columns=roles, index=fillers)\n",
    "harmonies"
   ]
  },
  {
   "cell_type": "code",
   "execution_count": 6,
   "id": "fiscal-implementation",
   "metadata": {},
   "outputs": [
    {
     "data": {
      "text/plain": [
       "<AxesSubplot:>"
      ]
     },
     "execution_count": 6,
     "metadata": {},
     "output_type": "execute_result"
    },
    {
     "data": {
      "image/png": "[encoded data removed]",
      "text/plain": [
       "<Figure size 432x288 with 2 Axes>"
      ]
     },
     "metadata": {
      "needs_background": "light"
     },
     "output_type": "display_data"
    }
   ],
   "source": [
    "sns.heatmap(harmonies, annot=True, cmap=\"Greens\")"
   ]
  },
  {
   "cell_type": "markdown",
   "id": "competitive-authentication",
   "metadata": {},
   "source": [
    "## Pairwise Harmonies:"
   ]
  },
  {
   "cell_type": "markdown",
   "id": "filled-election",
   "metadata": {},
   "source": [
    "These constraints provide a way to declare Harmonic Constraints in the GSC. \n",
    "Ex.:\n",
    "\n",
    "`(\"u/s2\" \"d/s3\", -3)` means that the co-occurence of \"u\" in the secondo position and \"d\" in the third position updates the total Harmony by -3 points. This  (indirectly) implement the preference for \"dh\" in \"s3\".\n"
   ]
  },
  {
   "cell_type": "code",
   "execution_count": 7,
   "id": "ideal-topic",
   "metadata": {},
   "outputs": [],
   "source": [
    "# Pairwise Harmony\n",
    "# Matrix dim: (nF, nR, nF, nR)\n",
    "cons = [(\"b/s1\", \"d/s3\", -2), # having both \"b\" abd \"d\" unaspirated decreases harmony\n",
    "        (\"bh/s1\", \"dh/s3\", -10), # having both \"b\" and \"d\" aspirated is blocked\n",
    "        (\"b/s1\", \"dh/s3\", 20)] # Prefer alternation\n",
    "G.update_Hcc(cons)"
   ]
  },
  {
   "cell_type": "code",
   "execution_count": 8,
   "id": "friendly-national",
   "metadata": {},
   "outputs": [
    {
     "data": {
      "text/html": [
       "<div>\n",
       "<style scoped>\n",
       "    .dataframe tbody tr th:only-of-type {\n",
       "        vertical-align: middle;\n",
       "    }\n",
       "\n",
       "    .dataframe tbody tr th {\n",
       "        vertical-align: top;\n",
       "    }\n",
       "\n",
       "    .dataframe thead th {\n",
       "        text-align: right;\n",
       "    }\n",
       "</style>\n",
       "<table border=\"1\" class=\"dataframe\">\n",
       "  <thead>\n",
       "    <tr style=\"text-align: right;\">\n",
       "      <th></th>\n",
       "      <th>s1</th>\n",
       "      <th>s2</th>\n",
       "      <th>s3</th>\n",
       "      <th>s4</th>\n",
       "    </tr>\n",
       "  </thead>\n",
       "  <tbody>\n",
       "    <tr>\n",
       "      <th>bh</th>\n",
       "      <td>0.0</td>\n",
       "      <td>0.0</td>\n",
       "      <td>0.0</td>\n",
       "      <td>0.0</td>\n",
       "    </tr>\n",
       "    <tr>\n",
       "      <th>b</th>\n",
       "      <td>0.0</td>\n",
       "      <td>0.0</td>\n",
       "      <td>0.0</td>\n",
       "      <td>0.0</td>\n",
       "    </tr>\n",
       "    <tr>\n",
       "      <th>u</th>\n",
       "      <td>0.0</td>\n",
       "      <td>0.0</td>\n",
       "      <td>0.0</td>\n",
       "      <td>0.0</td>\n",
       "    </tr>\n",
       "    <tr>\n",
       "      <th>d</th>\n",
       "      <td>0.0</td>\n",
       "      <td>0.0</td>\n",
       "      <td>-2.0</td>\n",
       "      <td>0.0</td>\n",
       "    </tr>\n",
       "    <tr>\n",
       "      <th>dh</th>\n",
       "      <td>0.0</td>\n",
       "      <td>0.0</td>\n",
       "      <td>20.0</td>\n",
       "      <td>0.0</td>\n",
       "    </tr>\n",
       "    <tr>\n",
       "      <th>#</th>\n",
       "      <td>0.0</td>\n",
       "      <td>0.0</td>\n",
       "      <td>0.0</td>\n",
       "      <td>0.0</td>\n",
       "    </tr>\n",
       "  </tbody>\n",
       "</table>\n",
       "</div>"
      ],
      "text/plain": [
       "     s1   s2    s3   s4\n",
       "bh  0.0  0.0   0.0  0.0\n",
       "b   0.0  0.0   0.0  0.0\n",
       "u   0.0  0.0   0.0  0.0\n",
       "d   0.0  0.0  -2.0  0.0\n",
       "dh  0.0  0.0  20.0  0.0\n",
       "#   0.0  0.0   0.0  0.0"
      ]
     },
     "execution_count": 8,
     "metadata": {},
     "output_type": "execute_result"
    }
   ],
   "source": [
    "# Harmonies for the binding : b/s1\n",
    "harmonies = G.Hcc.numpy()[:,:,1,0]\n",
    "harmonies = pd.DataFrame(harmonies, columns=roles, index=fillers)\n",
    "harmonies"
   ]
  },
  {
   "cell_type": "code",
   "execution_count": 9,
   "id": "cheap-nigeria",
   "metadata": {},
   "outputs": [
    {
     "data": {
      "text/plain": [
       "<AxesSubplot:>"
      ]
     },
     "execution_count": 9,
     "metadata": {},
     "output_type": "execute_result"
    },
    {
     "data": {
      "image/png": "[encoded data removed]",
      "text/plain": [
       "<Figure size 432x288 with 2 Axes>"
      ]
     },
     "metadata": {
      "needs_background": "light"
     },
     "output_type": "display_data"
    }
   ],
   "source": [
    "sns.heatmap(harmonies, annot=True, cmap=\"Blues\")"
   ]
  },
  {
   "cell_type": "markdown",
   "id": "elementary-recommendation",
   "metadata": {},
   "source": [
    "This matrix represents the occurence of \"b\" in the first position and tells us, that if this is the case, then a plain, unaspirated, \"d\" in the third position is dispreferred and \"dh\" should be preferred. "
   ]
  },
  {
   "cell_type": "markdown",
   "id": "becoming-manhattan",
   "metadata": {},
   "source": [
    "## GSC Net"
   ]
  },
  {
   "cell_type": "code",
   "execution_count": 10,
   "id": "french-dubai",
   "metadata": {},
   "outputs": [
    {
     "name": "stdout",
     "output_type": "stream",
     "text": [
      "Input processed: b-bh-u-dh-u\n",
      "\n",
      "Input processed: b-u-dh-#\n",
      "\n",
      "Input processed: b-bh-u-dh-d\n",
      "\n",
      "Value for Q set to 47.397059233392774\n",
      "LAMBDA RECOMMENDED: 0.0035673874457757674, ACTUAL LAMBDA = 0.011387\n"
     ]
    },
    {
     "name": "stdin",
     "output_type": "stream",
     "text": [
      "If you want to change to the recommended Lambda value press 'y', else any other key: y\n"
     ]
    },
    {
     "name": "stdout",
     "output_type": "stream",
     "text": [
      "T RECOMMENDED: 3.900753695636446e-05, ACTUAL T = 1e-05\n"
     ]
    },
    {
     "name": "stdin",
     "output_type": "stream",
     "text": [
      "If you want to change to the recommended value press 'y', else any other key: y\n"
     ]
    }
   ],
   "source": [
    "# Custom settings (these substitute the hard-coded settings)\n",
    "\n",
    "# ---------------------------------------\n",
    "#           GSC NET\n",
    "# ---------------------------------------\n",
    "\n",
    "custom_settings = {\"epochs\": 5,\n",
    "                   \"tgtStd\": 0.00125,\n",
    "                   \"emaFactor\": 0.01,\n",
    "                   \"emaSpeedTol\": 0.002,\n",
    "                   \"dt\": 1e-10,\n",
    "                   \"TDecayRate\": 0.05,\n",
    "                   \"TInit\" : 1e-5,\n",
    "                   \"lambdaDecayRate\": 0.7,\n",
    "                   \"lambdaMin\": 0.01,\n",
    "                   \"maxSteps\": 3000,\n",
    "                   \"printInterval\": 1000,\n",
    "                   'bowl_center': 0.4,\n",
    "                   'beta_min_offset': .01}\n",
    "# Initialize\n",
    "N = Net(G, custom_settings=custom_settings, extData_path=\"data/inp_pandas.csv\")\n"
   ]
  },
  {
   "cell_type": "markdown",
   "id": "miniature-internet",
   "metadata": {},
   "source": [
    "The external data were provided in form of a simple csv file and were imported in the GSCNet using `pandas`:"
   ]
  },
  {
   "cell_type": "code",
   "execution_count": 11,
   "id": "characteristic-milwaukee",
   "metadata": {},
   "outputs": [
    {
     "name": "stdout",
     "output_type": "stream",
     "text": [
      "Input processed: b-bh-u-dh-u\n",
      "\n",
      "Input processed: b-u-dh-#\n",
      "\n",
      "Input processed: b-bh-u-dh-d\n",
      "\n"
     ]
    }
   ],
   "source": [
    "# EXTERNAL INPUTS \n",
    "\n",
    "# Read dataframe\n",
    "inputs = pd.read_csv(\"data/inp_pandas.csv\", sep=\",\")\n",
    "\n",
    "inputNames = []\n",
    "nStimuli = len(inputs['id'].unique())\n",
    "\n",
    "# Initialize stimuli tensor\n",
    "stimuli = torch.zeros((nStimuli, len(fillers) + 1, len(roles)))\n",
    "\n",
    "# Loop over the single inputs as whole\n",
    "for idx, i in enumerate(inputs['id'].unique()):\n",
    "    inp_string = \"\"\n",
    "    stimulus = inputs[inputs.id == i].to_numpy()[:, 1:]\n",
    "\n",
    "    # Loop over the fillers in a given input\n",
    "    for filler in stimulus:\n",
    "        fidx = N.filler2index[filler[0]]\n",
    "        inp_string += filler[0] + \"-\"\n",
    "        for roledix in range(N.grammar.bind.nR):\n",
    "            stimuli[idx, fidx, roledix] = filler[roledix+1]\n",
    "    print(f\"Input processed: {inp_string[:-1]}\\n\")\n",
    "    # Store the names for later plotting\n",
    "    inputNames.append(inp_string[:-1])"
   ]
  },
  {
   "cell_type": "markdown",
   "id": "recent-paint",
   "metadata": {},
   "source": [
    "+ First inp: gradient blend for the root *{b, bh}udhu*:\n",
    "+ Second inp: discrete *budh*\n",
    "+ Third inp: gradient blend in both first and final position *{b,bh}u{d,dh}*\n",
    "\n",
    "<small>'#' stands for an empty position</small>"
   ]
  },
  {
   "cell_type": "code",
   "execution_count": 12,
   "id": "specified-track",
   "metadata": {},
   "outputs": [
    {
     "name": "stdout",
     "output_type": "stream",
     "text": [
      "     s1   s2   s3   s4\n",
      "bh  0.8  0.0  0.0  0.0\n",
      "b   0.7  0.0  0.0  0.0\n",
      "u   0.0  1.0  0.0  1.0\n",
      "d   0.0  0.0  0.0  0.0\n",
      "dh  0.0  0.0  1.0  0.0\n",
      "#   0.0  0.0  0.0  0.0\n"
     ]
    },
    {
     "data": {
      "image/png": "[encoded data removed]",
      "text/plain": [
       "<Figure size 432x288 with 2 Axes>"
      ]
     },
     "metadata": {
      "needs_background": "light"
     },
     "output_type": "display_data"
    },
    {
     "name": "stdout",
     "output_type": "stream",
     "text": [
      "Representation of '(b,bh)udh'\n"
     ]
    }
   ],
   "source": [
    "b_bh_ud = N.stimuli[0,:,:].numpy()\n",
    "b_bh_ud = pd.DataFrame(b_bh_ud, columns=roles, index=fillers)\n",
    "print(b_bh_ud)\n",
    "sns.heatmap(b_bh_ud, alpha=.8, cmap=\"Blues\", annot=True)\n",
    "plt.show()\n",
    "print(\"Representation of '(b,bh)udh'\")"
   ]
  },
  {
   "cell_type": "markdown",
   "id": "important-cloud",
   "metadata": {},
   "source": [
    "## Training (Optimization + Quantization)"
   ]
  },
  {
   "cell_type": "code",
   "execution_count": 13,
   "id": "gorgeous-pendant",
   "metadata": {
    "scrolled": true
   },
   "outputs": [
    {
     "name": "stderr",
     "output_type": "stream",
     "text": [
      "Epoch routine::   0%|          | 0/5 [00:00<?, ?it/s]\n",
      "Stimulus routine::   0%|          | 0/3 [00:00<?, ?it/s]\u001b[A"
     ]
    },
    {
     "name": "stdout",
     "output_type": "stream",
     "text": [
      "Value for Q set to 47.397059233392774\n",
      "\n",
      "--------------------------------------------------------------------------------\n",
      "\n",
      "STEP : 0\t Lambda : 0.0035673874457757674\t Harmony: 77.29187774658203\n",
      "\n",
      "epoch : 1\n",
      "stimNum : 1\n",
      "\n",
      "Conceptual Matrix:\n",
      "          s1       s2        s3        s4\n",
      "bh  0.257407  0.40000  0.400000  0.400000\n",
      "b   0.822008  0.40000  0.400000  0.400000\n",
      "u   0.400000  0.52659  0.400000  0.421098\n",
      "d   0.400000  0.40000  0.407511  0.400000\n",
      "dh  0.400000  0.40000  0.755847  0.400000\n",
      "#   0.400000  0.40000  0.400000  0.442197\n",
      "Nearest TP: b-u-dh-# --- Input : b-bh-u-dh-u\n",
      "Distance between prediction and nearest TP: 1.9380918197139534\n",
      "\n",
      "--------------------------------------------------------------------------------\n",
      "\n",
      "STEP : 1000\t Lambda : 0.003567388219470052\t Harmony: 49.64276885986328\n",
      "\n",
      "epoch : 1\n",
      "stimNum : 1\n",
      "\n",
      "Conceptual Matrix:\n",
      "          s1        s2        s3        s4\n",
      "bh  0.800000  0.399452  0.400897  0.399566\n",
      "b   0.700000  0.399675  0.400461  0.399705\n",
      "u   0.399041  1.000000  0.401157  1.000000\n",
      "d   0.399954  0.400171  0.407506  0.399986\n",
      "dh  0.400954  0.400881  1.000000  0.400438\n",
      "#   0.399850  0.400005  0.400092  0.442054\n",
      "Nearest TP: bh-u-dh-u --- Input : b-bh-u-dh-u\n",
      "Distance between prediction and nearest TP: 1.9008695037634005\n",
      "\n",
      "--------------------------------------------------------------------------------\n",
      "\n",
      "STEP : 2000\t Lambda : 0.0035673889939386487\t Harmony: 49.6422119140625\n",
      "\n",
      "epoch : 1\n",
      "stimNum : 1\n",
      "\n",
      "Conceptual Matrix:\n",
      "          s1        s2        s3        s4\n",
      "bh  0.800000  0.398904  0.401793  0.399131\n",
      "b   0.700000  0.399350  0.400924  0.399410\n",
      "u   0.398081  1.000000  0.402313  1.000000\n",
      "d   0.399907  0.400343  0.407501  0.399970\n",
      "dh  0.401907  0.401761  1.000000  0.400876\n",
      "#   0.399700  0.400010  0.400183  0.441911\n",
      "Nearest TP: bh-u-dh-u --- Input : b-bh-u-dh-u\n",
      "Distance between prediction and nearest TP: 1.9013195249781898\n"
     ]
    },
    {
     "name": "stderr",
     "output_type": "stream",
     "text": [
      "\n",
      "Stimulus routine::  33%|███▎      | 1/3 [00:05<00:10,  5.37s/it]\u001b[A"
     ]
    },
    {
     "name": "stdout",
     "output_type": "stream",
     "text": [
      "\n",
      "Last best Harmony: 49.64109818649841\n",
      "\n",
      "Value for Q set to 47.397059233392774\n",
      "\n",
      "--------------------------------------------------------------------------------\n",
      "\n",
      "STEP : 0\t Lambda : 0.0035673897684072456\t Harmony: 77.3315658569336\n",
      "\n",
      "epoch : 1\n",
      "stimNum : 2\n",
      "\n",
      "Conceptual Matrix:\n",
      "          s1       s2        s3        s4\n",
      "bh  0.238835  0.40000  0.400000  0.400000\n",
      "b   0.831741  0.40000  0.400000  0.400000\n",
      "u   0.400000  0.52659  0.400000  0.400000\n",
      "d   0.400000  0.40000  0.407100  0.400000\n",
      "dh  0.400000  0.40000  0.763872  0.400000\n",
      "#   0.400000  0.40000  0.400000  0.463295\n",
      "Nearest TP: b-u-dh-# --- Input : b-u-dh-#\n",
      "Distance between prediction and nearest TP: 1.9232806245635377\n",
      "\n",
      "--------------------------------------------------------------------------------\n",
      "\n",
      "STEP : 1000\t Lambda : 0.003567390542101374\t Harmony: 57.13508605957031\n",
      "\n",
      "epoch : 1\n",
      "stimNum : 2\n",
      "\n",
      "Conceptual Matrix:\n",
      "          s1        s2        s3        s4\n",
      "bh  0.238676  0.399780  0.400410  0.399851\n",
      "b   1.000000  0.399556  0.400639  0.399591\n",
      "u   0.399524  1.000000  0.400867  0.399813\n",
      "d   0.399998  0.400171  0.407101  0.399914\n",
      "dh  0.400637  0.400879  1.000000  0.400402\n",
      "#   0.399630  0.399849  0.400386  1.000000\n",
      "Nearest TP: b-u-dh-# --- Input : b-u-dh-#\n",
      "Distance between prediction and nearest TP: 1.76187900737257\n",
      "\n",
      "--------------------------------------------------------------------------------\n",
      "\n",
      "STEP : 2000\t Lambda : 0.003567391316569971\t Harmony: 57.13371658325195\n",
      "\n",
      "epoch : 1\n",
      "stimNum : 2\n",
      "\n",
      "Conceptual Matrix:\n",
      "          s1        s2        s3        s4\n",
      "bh  0.238517  0.399562  0.400822  0.399701\n",
      "b   1.000000  0.399112  0.401277  0.399180\n",
      "u   0.399047  1.000000  0.401734  0.399625\n",
      "d   0.399996  0.400341  0.407101  0.399826\n",
      "dh  0.401276  0.401760  1.000000  0.400806\n",
      "#   0.399261  0.399698  0.400772  1.000000\n",
      "Nearest TP: b-u-dh-# --- Input : b-u-dh-#\n",
      "Distance between prediction and nearest TP: 1.7622917491962413\n"
     ]
    },
    {
     "name": "stderr",
     "output_type": "stream",
     "text": [
      "\n",
      "Stimulus routine::  67%|██████▋   | 2/3 [00:10<00:05,  5.14s/it]\u001b[A"
     ]
    },
    {
     "name": "stdout",
     "output_type": "stream",
     "text": [
      "\n",
      "Last best Harmony: 57.1319877358722\n",
      "\n",
      "Value for Q set to 47.397059233392774\n",
      "\n",
      "--------------------------------------------------------------------------------\n",
      "\n",
      "STEP : 0\t Lambda : 0.0035673920910381397\t Harmony: 76.85030364990234\n",
      "\n",
      "epoch : 1\n",
      "stimNum : 3\n",
      "\n",
      "Conceptual Matrix:\n",
      "          s1       s2        s3        s4\n",
      "bh  0.256199  0.40000  0.400000  0.400000\n",
      "b   0.826274  0.40000  0.400000  0.400000\n",
      "u   0.400000  0.52659  0.400000  0.400000\n",
      "d   0.400000  0.40000  0.413660  0.400000\n",
      "dh  0.400000  0.40000  0.751572  0.400000\n",
      "#   0.400000  0.40000  0.400000  0.442197\n",
      "Nearest TP: b-u-dh-# --- Input : b-bh-u-dh-d\n",
      "Distance between prediction and nearest TP: 1.9349186798565874\n",
      "\n",
      "--------------------------------------------------------------------------------\n",
      "\n",
      "STEP : 1000\t Lambda : 0.0035673928647318347\t Harmony: 72.24555969238281\n",
      "\n",
      "epoch : 1\n",
      "stimNum : 3\n",
      "\n",
      "Conceptual Matrix:\n",
      "          s1        s2        s3        s4\n",
      "bh  0.700000  0.399493  0.400692  0.399791\n",
      "b   1.000000  0.399554  0.400636  0.399654\n",
      "u   0.399386  1.000000  0.400850  0.399890\n",
      "d   0.400149  0.400389  0.300000  0.400021\n",
      "dh  0.400732  0.400667  0.700000  0.400224\n",
      "#   0.399837  0.400018  0.400067  0.442127\n",
      "Nearest TP: b-u-dh-# --- Input : b-bh-u-dh-d\n",
      "Distance between prediction and nearest TP: 1.9654171064539177\n",
      "\n",
      "--------------------------------------------------------------------------------\n",
      "\n",
      "STEP : 2000\t Lambda : 0.003567393639199998\t Harmony: 72.24514770507812\n",
      "\n",
      "epoch : 1\n",
      "stimNum : 3\n",
      "\n",
      "Conceptual Matrix:\n",
      "          s1        s2        s3        s4\n",
      "bh  0.700000  0.398987  0.401385  0.399582\n",
      "b   1.000000  0.399108  0.401272  0.399309\n",
      "u   0.398772  1.000000  0.401700  0.399780\n",
      "d   0.400297  0.400778  0.300000  0.400042\n",
      "dh  0.401466  0.401335  0.700000  0.400448\n",
      "#   0.399674  0.400036  0.400134  0.442059\n",
      "Nearest TP: b-u-dh-# --- Input : b-bh-u-dh-d\n",
      "Distance between prediction and nearest TP: 1.9658572385731277\n"
     ]
    },
    {
     "name": "stderr",
     "output_type": "stream",
     "text": [
      "\n",
      "Stimulus routine:: 100%|██████████| 3/3 [00:15<00:00,  5.21s/it]\u001b[A\n",
      "Epoch routine::  20%|██        | 1/5 [00:15<01:02, 15.65s/it]\n",
      "Stimulus routine::   0%|          | 0/3 [00:00<?, ?it/s]\u001b[A"
     ]
    },
    {
     "name": "stdout",
     "output_type": "stream",
     "text": [
      "\n",
      "Last best Harmony: 72.24437604224349\n",
      "\n",
      "Value for Q set to 47.397059233392774\n",
      "\n",
      "--------------------------------------------------------------------------------\n",
      "\n",
      "STEP : 0\t Lambda : 0.003567394413668161\t Harmony: 77.8535385131836\n",
      "\n",
      "epoch : 2\n",
      "stimNum : 1\n",
      "\n",
      "Conceptual Matrix:\n",
      "          s1       s2        s3        s4\n",
      "bh  0.257407  0.40000  0.400000  0.400000\n",
      "b   0.822008  0.40000  0.400000  0.400000\n",
      "u   0.400000  0.52659  0.400000  0.421098\n",
      "d   0.400000  0.40000  0.407511  0.400000\n",
      "dh  0.400000  0.40000  0.755847  0.400000\n",
      "#   0.400000  0.40000  0.400000  0.442197\n",
      "Nearest TP: b-u-dh-# --- Input : b-bh-u-dh-u\n",
      "Distance between prediction and nearest TP: 1.9380918197139534\n",
      "\n",
      "--------------------------------------------------------------------------------\n",
      "\n",
      "STEP : 1000\t Lambda : 0.0035673951873617113\t Harmony: 49.64276885986328\n",
      "\n",
      "epoch : 2\n",
      "stimNum : 1\n",
      "\n",
      "Conceptual Matrix:\n",
      "          s1        s2        s3        s4\n",
      "bh  0.800000  0.399453  0.400895  0.399565\n",
      "b   0.700000  0.399676  0.400461  0.399705\n",
      "u   0.399041  1.000000  0.401156  1.000000\n",
      "d   0.399954  0.400173  0.407507  0.399984\n",
      "dh  0.400953  0.400881  1.000000  0.400438\n",
      "#   0.399849  0.400005  0.400092  0.442054\n",
      "Nearest TP: bh-u-dh-u --- Input : b-bh-u-dh-u\n",
      "Distance between prediction and nearest TP: 1.9008690900087852\n",
      "\n",
      "--------------------------------------------------------------------------------\n",
      "\n",
      "STEP : 2000\t Lambda : 0.003567395961829441\t Harmony: 49.642215728759766\n",
      "\n",
      "epoch : 2\n",
      "stimNum : 1\n",
      "\n",
      "Conceptual Matrix:\n",
      "          s1        s2        s3        s4\n",
      "bh  0.800000  0.398906  0.401793  0.399129\n",
      "b   0.700000  0.399352  0.400923  0.399410\n",
      "u   0.398081  1.000000  0.402312  1.000000\n",
      "d   0.399907  0.400345  0.407504  0.399970\n",
      "dh  0.401907  0.401761  1.000000  0.400877\n",
      "#   0.399698  0.400010  0.400183  0.441910\n",
      "Nearest TP: bh-u-dh-u --- Input : b-bh-u-dh-u\n",
      "Distance between prediction and nearest TP: 1.9013193621404565\n"
     ]
    },
    {
     "name": "stderr",
     "output_type": "stream",
     "text": [
      "\n",
      "Stimulus routine::  33%|███▎      | 1/3 [00:05<00:10,  5.25s/it]\u001b[A"
     ]
    },
    {
     "name": "stdout",
     "output_type": "stream",
     "text": [
      "\n",
      "Last best Harmony: 49.641102834489544\n",
      "\n",
      "Value for Q set to 47.397059233392774\n",
      "\n",
      "--------------------------------------------------------------------------------\n",
      "\n",
      "STEP : 0\t Lambda : 0.0035673967362971704\t Harmony: 77.42059326171875\n",
      "\n",
      "epoch : 2\n",
      "stimNum : 2\n",
      "\n",
      "Conceptual Matrix:\n",
      "          s1       s2        s3        s4\n",
      "bh  0.238835  0.40000  0.400000  0.400000\n",
      "b   0.831741  0.40000  0.400000  0.400000\n",
      "u   0.400000  0.52659  0.400000  0.400000\n",
      "d   0.400000  0.40000  0.407100  0.400000\n",
      "dh  0.400000  0.40000  0.763872  0.400000\n",
      "#   0.400000  0.40000  0.400000  0.463295\n",
      "Nearest TP: b-u-dh-# --- Input : b-u-dh-#\n",
      "Distance between prediction and nearest TP: 1.9232806245635377\n",
      "\n",
      "--------------------------------------------------------------------------------\n",
      "\n",
      "STEP : 1000\t Lambda : 0.003567397509990432\t Harmony: 57.13507843017578\n",
      "\n",
      "epoch : 2\n",
      "stimNum : 2\n",
      "\n",
      "Conceptual Matrix:\n",
      "          s1        s2        s3        s4\n",
      "bh  0.238675  0.399780  0.400411  0.399850\n",
      "b   1.000000  0.399556  0.400638  0.399590\n",
      "u   0.399523  1.000000  0.400868  0.399813\n",
      "d   0.399998  0.400172  0.407098  0.399914\n",
      "dh  0.400638  0.400880  1.000000  0.400402\n",
      "#   0.399631  0.399849  0.400386  1.000000\n",
      "Nearest TP: b-u-dh-# --- Input : b-u-dh-#\n",
      "Distance between prediction and nearest TP: 1.7618785178575262\n",
      "\n",
      "--------------------------------------------------------------------------------\n",
      "\n",
      "STEP : 2000\t Lambda : 0.0035673982844581617\t Harmony: 57.13370132446289\n",
      "\n",
      "epoch : 2\n",
      "stimNum : 2\n",
      "\n",
      "Conceptual Matrix:\n",
      "          s1        s2        s3        s4\n",
      "bh  0.238514  0.399561  0.400821  0.399701\n",
      "b   1.000000  0.399111  0.401275  0.399180\n",
      "u   0.399048  1.000000  0.401736  0.399626\n",
      "d   0.399995  0.400341  0.407098  0.399828\n",
      "dh  0.401274  0.401760  1.000000  0.400805\n",
      "#   0.399261  0.399699  0.400772  1.000000\n",
      "Nearest TP: b-u-dh-# --- Input : b-u-dh-#\n",
      "Distance between prediction and nearest TP: 1.7622903360573838\n"
     ]
    },
    {
     "name": "stderr",
     "output_type": "stream",
     "text": [
      "\n",
      "Stimulus routine::  67%|██████▋   | 2/3 [00:10<00:05,  5.31s/it]\u001b[A"
     ]
    },
    {
     "name": "stdout",
     "output_type": "stream",
     "text": [
      "\n",
      "Last best Harmony: 57.131977113715465\n",
      "\n",
      "Value for Q set to 47.397059233392774\n",
      "\n",
      "--------------------------------------------------------------------------------\n",
      "\n",
      "STEP : 0\t Lambda : 0.0035673990589255955\t Harmony: 77.22393035888672\n",
      "\n",
      "epoch : 2\n",
      "stimNum : 3\n",
      "\n",
      "Conceptual Matrix:\n",
      "          s1       s2        s3        s4\n",
      "bh  0.256199  0.40000  0.400000  0.400000\n",
      "b   0.826274  0.40000  0.400000  0.400000\n",
      "u   0.400000  0.52659  0.400000  0.400000\n",
      "d   0.400000  0.40000  0.413660  0.400000\n",
      "dh  0.400000  0.40000  0.751572  0.400000\n",
      "#   0.400000  0.40000  0.400000  0.442197\n",
      "Nearest TP: b-u-dh-# --- Input : b-bh-u-dh-d\n",
      "Distance between prediction and nearest TP: 1.9349186798565874\n",
      "\n",
      "--------------------------------------------------------------------------------\n",
      "\n",
      "STEP : 1000\t Lambda : 0.003567399832618424\t Harmony: 72.24555969238281\n",
      "\n",
      "epoch : 2\n",
      "stimNum : 3\n",
      "\n",
      "Conceptual Matrix:\n",
      "          s1        s2        s3        s4\n",
      "bh  0.700000  0.399494  0.400692  0.399791\n",
      "b   1.000000  0.399553  0.400636  0.399654\n",
      "u   0.399387  1.000000  0.400850  0.399890\n",
      "d   0.400149  0.400389  0.300000  0.400021\n",
      "dh  0.400733  0.400668  0.700000  0.400225\n",
      "#   0.399837  0.400018  0.400067  0.442127\n",
      "Nearest TP: b-u-dh-# --- Input : b-bh-u-dh-d\n",
      "Distance between prediction and nearest TP: 1.9654175918728378\n",
      "\n",
      "--------------------------------------------------------------------------------\n",
      "\n",
      "STEP : 2000\t Lambda : 0.00356740060708572\t Harmony: 72.24514770507812\n",
      "\n",
      "epoch : 2\n",
      "stimNum : 3\n",
      "\n",
      "Conceptual Matrix:\n",
      "          s1        s2        s3        s4\n",
      "bh  0.700000  0.398986  0.401386  0.399581\n",
      "b   1.000000  0.399107  0.401272  0.399309\n",
      "u   0.398774  1.000000  0.401700  0.399780\n",
      "d   0.400297  0.400778  0.300000  0.400042\n",
      "dh  0.401467  0.401335  0.700000  0.400449\n",
      "#   0.399672  0.400036  0.400135  0.442058\n",
      "Nearest TP: b-u-dh-# --- Input : b-bh-u-dh-d\n",
      "Distance between prediction and nearest TP: 1.9658576909778345\n"
     ]
    },
    {
     "name": "stderr",
     "output_type": "stream",
     "text": [
      "\n",
      "Stimulus routine:: 100%|██████████| 3/3 [00:15<00:00,  5.29s/it]\u001b[A\n",
      "Epoch routine::  40%|████      | 2/5 [00:31<00:47, 15.77s/it]\n",
      "Stimulus routine::   0%|          | 0/3 [00:00<?, ?it/s]\u001b[A"
     ]
    },
    {
     "name": "stdout",
     "output_type": "stream",
     "text": [
      "\n",
      "Last best Harmony: 72.24437325856307\n",
      "\n",
      "Value for Q set to 47.397059233392774\n",
      "\n",
      "--------------------------------------------------------------------------------\n",
      "\n",
      "STEP : 0\t Lambda : 0.0035674013815530157\t Harmony: 77.33259582519531\n",
      "\n",
      "epoch : 3\n",
      "stimNum : 1\n",
      "\n",
      "Conceptual Matrix:\n",
      "          s1       s2        s3        s4\n",
      "bh  0.257407  0.40000  0.400000  0.400000\n",
      "b   0.822008  0.40000  0.400000  0.400000\n",
      "u   0.400000  0.52659  0.400000  0.421098\n",
      "d   0.400000  0.40000  0.407511  0.400000\n",
      "dh  0.400000  0.40000  0.755847  0.400000\n",
      "#   0.400000  0.40000  0.400000  0.442197\n",
      "Nearest TP: b-u-dh-# --- Input : b-bh-u-dh-u\n",
      "Distance between prediction and nearest TP: 1.9380918197139534\n",
      "\n",
      "--------------------------------------------------------------------------------\n",
      "\n",
      "STEP : 1000\t Lambda : 0.0035674021552458317\t Harmony: 49.64276885986328\n",
      "\n",
      "epoch : 3\n",
      "stimNum : 1\n",
      "\n",
      "Conceptual Matrix:\n",
      "          s1        s2        s3        s4\n",
      "bh  0.800000  0.399452  0.400896  0.399566\n",
      "b   0.700000  0.399675  0.400461  0.399705\n",
      "u   0.399040  1.000000  0.401156  1.000000\n",
      "d   0.399954  0.400172  0.407507  0.399985\n",
      "dh  0.400954  0.400881  1.000000  0.400439\n",
      "#   0.399849  0.400005  0.400092  0.442054\n",
      "Nearest TP: bh-u-dh-u --- Input : b-bh-u-dh-u\n",
      "Distance between prediction and nearest TP: 1.9008691957669002\n",
      "\n",
      "--------------------------------------------------------------------------------\n",
      "\n",
      "STEP : 2000\t Lambda : 0.003567402929712694\t Harmony: 49.642215728759766\n",
      "\n",
      "epoch : 3\n",
      "stimNum : 1\n",
      "\n",
      "Conceptual Matrix:\n",
      "          s1        s2        s3        s4\n",
      "bh  0.800000  0.398904  0.401792  0.399131\n",
      "b   0.700000  0.399350  0.400923  0.399410\n",
      "u   0.398080  1.000000  0.402312  1.000000\n",
      "d   0.399908  0.400345  0.407503  0.399970\n",
      "dh  0.401907  0.401762  1.000000  0.400878\n",
      "#   0.399697  0.400010  0.400183  0.441911\n",
      "Nearest TP: bh-u-dh-u --- Input : b-bh-u-dh-u\n",
      "Distance between prediction and nearest TP: 1.9013188299180734\n"
     ]
    },
    {
     "name": "stderr",
     "output_type": "stream",
     "text": [
      "\n",
      "Stimulus routine::  33%|███▎      | 1/3 [00:05<00:10,  5.16s/it]\u001b[A"
     ]
    },
    {
     "name": "stdout",
     "output_type": "stream",
     "text": [
      "\n",
      "Last best Harmony: 49.64109950494142\n",
      "\n",
      "Value for Q set to 47.397059233392774\n",
      "\n",
      "--------------------------------------------------------------------------------\n",
      "\n",
      "STEP : 0\t Lambda : 0.003567403704179556\t Harmony: 77.82162475585938\n",
      "\n",
      "epoch : 3\n",
      "stimNum : 2\n",
      "\n",
      "Conceptual Matrix:\n",
      "          s1       s2        s3        s4\n",
      "bh  0.238835  0.40000  0.400000  0.400000\n",
      "b   0.831741  0.40000  0.400000  0.400000\n",
      "u   0.400000  0.52659  0.400000  0.400000\n",
      "d   0.400000  0.40000  0.407100  0.400000\n",
      "dh  0.400000  0.40000  0.763872  0.400000\n",
      "#   0.400000  0.40000  0.400000  0.463295\n",
      "Nearest TP: b-u-dh-# --- Input : b-u-dh-#\n",
      "Distance between prediction and nearest TP: 1.9232806245635377\n",
      "\n",
      "--------------------------------------------------------------------------------\n",
      "\n",
      "STEP : 1000\t Lambda : 0.0035674044778719514\t Harmony: 57.13507843017578\n",
      "\n",
      "epoch : 3\n",
      "stimNum : 2\n",
      "\n",
      "Conceptual Matrix:\n",
      "          s1        s2        s3        s4\n",
      "bh  0.238675  0.399782  0.400411  0.399851\n",
      "b   1.000000  0.399555  0.400639  0.399590\n",
      "u   0.399525  1.000000  0.400867  0.399812\n",
      "d   0.399998  0.400171  0.407101  0.399914\n",
      "dh  0.400638  0.400880  1.000000  0.400403\n",
      "#   0.399630  0.399850  0.400386  1.000000\n",
      "Nearest TP: b-u-dh-# --- Input : b-u-dh-#\n",
      "Distance between prediction and nearest TP: 1.761879643298692\n",
      "\n",
      "--------------------------------------------------------------------------------\n",
      "\n",
      "STEP : 2000\t Lambda : 0.0035674052523388135\t Harmony: 57.13370132446289\n",
      "\n",
      "epoch : 3\n",
      "stimNum : 2\n",
      "\n",
      "Conceptual Matrix:\n",
      "          s1        s2        s3        s4\n",
      "bh  0.238515  0.399561  0.400822  0.399701\n",
      "b   1.000000  0.399112  0.401277  0.399181\n",
      "u   0.399049  1.000000  0.401734  0.399625\n",
      "d   0.399996  0.400341  0.407102  0.399828\n",
      "dh  0.401277  0.401761  1.000000  0.400805\n",
      "#   0.399261  0.399699  0.400772  1.000000\n",
      "Nearest TP: b-u-dh-# --- Input : b-u-dh-#\n",
      "Distance between prediction and nearest TP: 1.7622927337916736\n"
     ]
    },
    {
     "name": "stderr",
     "output_type": "stream",
     "text": [
      "\n",
      "Stimulus routine::  67%|██████▋   | 2/3 [00:10<00:05,  5.05s/it]\u001b[A"
     ]
    },
    {
     "name": "stdout",
     "output_type": "stream",
     "text": [
      "\n",
      "Last best Harmony: 57.131971645167994\n",
      "\n",
      "Value for Q set to 47.397059233392774\n",
      "\n",
      "--------------------------------------------------------------------------------\n",
      "\n",
      "STEP : 0\t Lambda : 0.003567406026805512\t Harmony: 77.3780517578125\n",
      "\n",
      "epoch : 3\n",
      "stimNum : 3\n",
      "\n",
      "Conceptual Matrix:\n",
      "          s1       s2        s3        s4\n",
      "bh  0.256199  0.40000  0.400000  0.400000\n",
      "b   0.826274  0.40000  0.400000  0.400000\n",
      "u   0.400000  0.52659  0.400000  0.400000\n",
      "d   0.400000  0.40000  0.413660  0.400000\n",
      "dh  0.400000  0.40000  0.751572  0.400000\n",
      "#   0.400000  0.40000  0.400000  0.442197\n",
      "Nearest TP: b-u-dh-# --- Input : b-bh-u-dh-d\n",
      "Distance between prediction and nearest TP: 1.9349186798565874\n",
      "\n",
      "--------------------------------------------------------------------------------\n",
      "\n",
      "STEP : 1000\t Lambda : 0.0035674068004974743\t Harmony: 72.24555969238281\n",
      "\n",
      "epoch : 3\n",
      "stimNum : 3\n",
      "\n",
      "Conceptual Matrix:\n",
      "          s1        s2        s3        s4\n",
      "bh  0.700000  0.399494  0.400693  0.399790\n",
      "b   1.000000  0.399553  0.400636  0.399654\n",
      "u   0.399389  1.000000  0.400850  0.399891\n",
      "d   0.400149  0.400389  0.300000  0.400021\n",
      "dh  0.400733  0.400667  0.700000  0.400224\n",
      "#   0.399836  0.400017  0.400067  0.442127\n",
      "Nearest TP: b-u-dh-# --- Input : b-bh-u-dh-d\n",
      "Distance between prediction and nearest TP: 1.9654177166494735\n",
      "\n",
      "--------------------------------------------------------------------------------\n",
      "\n",
      "STEP : 2000\t Lambda : 0.0035674075749639027\t Harmony: 72.24515533447266\n",
      "\n",
      "epoch : 3\n",
      "stimNum : 3\n",
      "\n",
      "Conceptual Matrix:\n",
      "          s1        s2        s3        s4\n",
      "bh  0.700000  0.398987  0.401386  0.399580\n",
      "b   1.000000  0.399106  0.401272  0.399308\n",
      "u   0.398776  1.000000  0.401698  0.399780\n",
      "d   0.400298  0.400779  0.300000  0.400041\n",
      "dh  0.401466  0.401334  0.700000  0.400447\n",
      "#   0.399672  0.400035  0.400134  0.442058\n",
      "Nearest TP: b-u-dh-# --- Input : b-bh-u-dh-d\n",
      "Distance between prediction and nearest TP: 1.9658568322838563\n"
     ]
    },
    {
     "name": "stderr",
     "output_type": "stream",
     "text": [
      "\n",
      "Stimulus routine:: 100%|██████████| 3/3 [00:15<00:00,  5.13s/it]\u001b[A\n",
      "Epoch routine::  60%|██████    | 3/5 [00:46<00:31, 15.60s/it]\n",
      "Stimulus routine::   0%|          | 0/3 [00:00<?, ?it/s]\u001b[A"
     ]
    },
    {
     "name": "stdout",
     "output_type": "stream",
     "text": [
      "\n",
      "Last best Harmony: 72.24437737626481\n",
      "\n",
      "Value for Q set to 47.397059233392774\n",
      "\n",
      "--------------------------------------------------------------------------------\n",
      "\n",
      "STEP : 0\t Lambda : 0.0035674083494303312\t Harmony: 77.19644165039062\n",
      "\n",
      "epoch : 4\n",
      "stimNum : 1\n",
      "\n",
      "Conceptual Matrix:\n",
      "          s1       s2        s3        s4\n",
      "bh  0.257407  0.40000  0.400000  0.400000\n",
      "b   0.822008  0.40000  0.400000  0.400000\n",
      "u   0.400000  0.52659  0.400000  0.421098\n",
      "d   0.400000  0.40000  0.407511  0.400000\n",
      "dh  0.400000  0.40000  0.755847  0.400000\n",
      "#   0.400000  0.40000  0.400000  0.442197\n",
      "Nearest TP: b-u-dh-# --- Input : b-bh-u-dh-u\n",
      "Distance between prediction and nearest TP: 1.9380918197139534\n",
      "\n",
      "--------------------------------------------------------------------------------\n",
      "\n",
      "STEP : 1000\t Lambda : 0.0035674091231222933\t Harmony: 49.64276885986328\n",
      "\n",
      "epoch : 4\n",
      "stimNum : 1\n",
      "\n",
      "Conceptual Matrix:\n",
      "          s1        s2        s3        s4\n",
      "bh  0.800000  0.399452  0.400896  0.399564\n",
      "b   0.700000  0.399675  0.400463  0.399705\n",
      "u   0.399041  1.000000  0.401157  1.000000\n",
      "d   0.399953  0.400173  0.407507  0.399985\n",
      "dh  0.400953  0.400882  1.000000  0.400437\n",
      "#   0.399850  0.400004  0.400091  0.442054\n",
      "Nearest TP: bh-u-dh-u --- Input : b-bh-u-dh-u\n",
      "Distance between prediction and nearest TP: 1.9008686476167387\n",
      "\n",
      "--------------------------------------------------------------------------------\n",
      "\n",
      "STEP : 2000\t Lambda : 0.003567409897588408\t Harmony: 49.6422119140625\n",
      "\n",
      "epoch : 4\n",
      "stimNum : 1\n",
      "\n",
      "Conceptual Matrix:\n",
      "          s1        s2        s3        s4\n",
      "bh  0.800000  0.398905  0.401792  0.399129\n",
      "b   0.700000  0.399351  0.400924  0.399410\n",
      "u   0.398081  1.000000  0.402314  1.000000\n",
      "d   0.399907  0.400346  0.407503  0.399970\n",
      "dh  0.401907  0.401762  1.000000  0.400875\n",
      "#   0.399697  0.400009  0.400182  0.441911\n",
      "Nearest TP: bh-u-dh-u --- Input : b-bh-u-dh-u\n",
      "Distance between prediction and nearest TP: 1.901319005169295\n"
     ]
    },
    {
     "name": "stderr",
     "output_type": "stream",
     "text": [
      "\n",
      "Stimulus routine::  33%|███▎      | 1/3 [00:05<00:10,  5.46s/it]\u001b[A"
     ]
    },
    {
     "name": "stdout",
     "output_type": "stream",
     "text": [
      "\n",
      "Last best Harmony: 49.641099040184685\n",
      "\n",
      "Value for Q set to 47.397059233392774\n",
      "\n",
      "--------------------------------------------------------------------------------\n",
      "\n",
      "STEP : 0\t Lambda : 0.0035674106720544026\t Harmony: 77.55227661132812\n",
      "\n",
      "epoch : 4\n",
      "stimNum : 2\n",
      "\n",
      "Conceptual Matrix:\n",
      "          s1       s2        s3        s4\n",
      "bh  0.238835  0.40000  0.400000  0.400000\n",
      "b   0.831741  0.40000  0.400000  0.400000\n",
      "u   0.400000  0.52659  0.400000  0.400000\n",
      "d   0.400000  0.40000  0.407100  0.400000\n",
      "dh  0.400000  0.40000  0.763872  0.400000\n",
      "#   0.400000  0.40000  0.400000  0.463295\n",
      "Nearest TP: b-u-dh-# --- Input : b-u-dh-#\n",
      "Distance between prediction and nearest TP: 1.9232806245635377\n",
      "\n",
      "--------------------------------------------------------------------------------\n",
      "\n",
      "STEP : 1000\t Lambda : 0.0035674114457459314\t Harmony: 57.13508605957031\n",
      "\n",
      "epoch : 4\n",
      "stimNum : 2\n",
      "\n",
      "Conceptual Matrix:\n",
      "          s1        s2        s3        s4\n",
      "bh  0.238676  0.399781  0.400410  0.399851\n",
      "b   1.000000  0.399556  0.400639  0.399590\n",
      "u   0.399524  1.000000  0.400867  0.399812\n",
      "d   0.399998  0.400172  0.407100  0.399913\n",
      "dh  0.400639  0.400879  1.000000  0.400402\n",
      "#   0.399631  0.399851  0.400386  1.000000\n",
      "Nearest TP: b-u-dh-# --- Input : b-u-dh-#\n",
      "Distance between prediction and nearest TP: 1.7618796569986686\n",
      "\n",
      "--------------------------------------------------------------------------------\n",
      "\n",
      "STEP : 2000\t Lambda : 0.0035674122202119262\t Harmony: 57.13370895385742\n",
      "\n",
      "epoch : 4\n",
      "stimNum : 2\n",
      "\n",
      "Conceptual Matrix:\n",
      "          s1        s2        s3        s4\n",
      "bh  0.238516  0.399561  0.400821  0.399701\n",
      "b   1.000000  0.399112  0.401278  0.399181\n",
      "u   0.399050  1.000000  0.401735  0.399625\n",
      "d   0.399995  0.400343  0.407101  0.399827\n",
      "dh  0.401277  0.401759  1.000000  0.400805\n",
      "#   0.399262  0.399700  0.400771  1.000000\n",
      "Nearest TP: b-u-dh-# --- Input : b-u-dh-#\n",
      "Distance between prediction and nearest TP: 1.7622931169530849\n"
     ]
    },
    {
     "name": "stderr",
     "output_type": "stream",
     "text": [
      "\n",
      "Stimulus routine::  67%|██████▋   | 2/3 [00:10<00:05,  5.26s/it]\u001b[A"
     ]
    },
    {
     "name": "stdout",
     "output_type": "stream",
     "text": [
      "\n",
      "Last best Harmony: 57.1319895549262\n",
      "\n",
      "Value for Q set to 47.397059233392774\n",
      "\n",
      "--------------------------------------------------------------------------------\n",
      "\n",
      "STEP : 0\t Lambda : 0.00356741299467789\t Harmony: 77.46088409423828\n",
      "\n",
      "epoch : 4\n",
      "stimNum : 3\n",
      "\n",
      "Conceptual Matrix:\n",
      "          s1       s2        s3        s4\n",
      "bh  0.256199  0.40000  0.400000  0.400000\n",
      "b   0.826274  0.40000  0.400000  0.400000\n",
      "u   0.400000  0.52659  0.400000  0.400000\n",
      "d   0.400000  0.40000  0.413660  0.400000\n",
      "dh  0.400000  0.40000  0.751572  0.400000\n",
      "#   0.400000  0.40000  0.400000  0.442197\n",
      "Nearest TP: b-u-dh-# --- Input : b-bh-u-dh-d\n",
      "Distance between prediction and nearest TP: 1.9349186798565874\n",
      "\n",
      "--------------------------------------------------------------------------------\n",
      "\n",
      "STEP : 1000\t Lambda : 0.0035674137683689854\t Harmony: 72.24555969238281\n",
      "\n",
      "epoch : 4\n",
      "stimNum : 3\n",
      "\n",
      "Conceptual Matrix:\n",
      "          s1        s2        s3        s4\n",
      "bh  0.700000  0.399494  0.400692  0.399791\n",
      "b   1.000000  0.399553  0.400635  0.399654\n",
      "u   0.399388  1.000000  0.400849  0.399890\n",
      "d   0.400149  0.400388  0.300000  0.400020\n",
      "dh  0.400734  0.400667  0.700000  0.400224\n",
      "#   0.399837  0.400017  0.400068  0.442128\n",
      "Nearest TP: b-u-dh-# --- Input : b-bh-u-dh-d\n",
      "Distance between prediction and nearest TP: 1.9654167509597895\n",
      "\n",
      "--------------------------------------------------------------------------------\n",
      "\n",
      "STEP : 2000\t Lambda : 0.0035674145428345465\t Harmony: 72.24514770507812\n",
      "\n",
      "epoch : 4\n",
      "stimNum : 3\n",
      "\n",
      "Conceptual Matrix:\n",
      "          s1        s2        s3        s4\n",
      "bh  0.700000  0.398988  0.401385  0.399581\n",
      "b   1.000000  0.399107  0.401271  0.399309\n",
      "u   0.398775  1.000000  0.401699  0.399780\n",
      "d   0.400298  0.400777  0.300000  0.400042\n",
      "dh  0.401467  0.401334  0.700000  0.400449\n",
      "#   0.399672  0.400036  0.400135  0.442060\n",
      "Nearest TP: b-u-dh-# --- Input : b-bh-u-dh-d\n",
      "Distance between prediction and nearest TP: 1.9658574979577548\n"
     ]
    },
    {
     "name": "stderr",
     "output_type": "stream",
     "text": [
      "\n",
      "Stimulus routine:: 100%|██████████| 3/3 [00:15<00:00,  5.28s/it]\u001b[A\n",
      "Epoch routine::  80%|████████  | 4/5 [01:02<00:15, 15.70s/it]\n",
      "Stimulus routine::   0%|          | 0/3 [00:00<?, ?it/s]\u001b[A"
     ]
    },
    {
     "name": "stdout",
     "output_type": "stream",
     "text": [
      "\n",
      "Last best Harmony: 72.2443750380071\n",
      "\n",
      "Value for Q set to 47.397059233392774\n",
      "\n",
      "--------------------------------------------------------------------------------\n",
      "\n",
      "STEP : 0\t Lambda : 0.0035674153173001076\t Harmony: 77.5830078125\n",
      "\n",
      "epoch : 5\n",
      "stimNum : 1\n",
      "\n",
      "Conceptual Matrix:\n",
      "          s1       s2        s3        s4\n",
      "bh  0.257407  0.40000  0.400000  0.400000\n",
      "b   0.822008  0.40000  0.400000  0.400000\n",
      "u   0.400000  0.52659  0.400000  0.421098\n",
      "d   0.400000  0.40000  0.407511  0.400000\n",
      "dh  0.400000  0.40000  0.755847  0.400000\n",
      "#   0.400000  0.40000  0.400000  0.442197\n",
      "Nearest TP: b-u-dh-# --- Input : b-bh-u-dh-u\n",
      "Distance between prediction and nearest TP: 1.9380918197139534\n",
      "\n",
      "--------------------------------------------------------------------------------\n",
      "\n",
      "STEP : 1000\t Lambda : 0.003567416090991203\t Harmony: 49.64276885986328\n",
      "\n",
      "epoch : 5\n",
      "stimNum : 1\n",
      "\n",
      "Conceptual Matrix:\n",
      "          s1        s2        s3        s4\n",
      "bh  0.800000  0.399453  0.400896  0.399565\n",
      "b   0.700000  0.399675  0.400462  0.399705\n",
      "u   0.399040  1.000000  0.401156  1.000000\n",
      "d   0.399953  0.400172  0.407507  0.399986\n",
      "dh  0.400952  0.400880  1.000000  0.400439\n",
      "#   0.399849  0.400005  0.400092  0.442053\n",
      "Nearest TP: bh-u-dh-u --- Input : b-bh-u-dh-u\n",
      "Distance between prediction and nearest TP: 1.9008688337675264\n",
      "\n",
      "--------------------------------------------------------------------------------\n",
      "\n",
      "STEP : 2000\t Lambda : 0.0035674168654565826\t Harmony: 49.642215728759766\n",
      "\n",
      "epoch : 5\n",
      "stimNum : 1\n",
      "\n",
      "Conceptual Matrix:\n",
      "          s1        s2        s3        s4\n",
      "bh  0.800000  0.398904  0.401793  0.399131\n",
      "b   0.700000  0.399350  0.400924  0.399410\n",
      "u   0.398081  1.000000  0.402312  1.000000\n",
      "d   0.399907  0.400345  0.407504  0.399971\n",
      "dh  0.401906  0.401760  1.000000  0.400877\n",
      "#   0.399698  0.400010  0.400183  0.441910\n",
      "Nearest TP: bh-u-dh-u --- Input : b-bh-u-dh-u\n",
      "Distance between prediction and nearest TP: 1.9013194303294723\n"
     ]
    },
    {
     "name": "stderr",
     "output_type": "stream",
     "text": [
      "\n",
      "Stimulus routine::  33%|███▎      | 1/3 [00:05<00:10,  5.49s/it]\u001b[A"
     ]
    },
    {
     "name": "stdout",
     "output_type": "stream",
     "text": [
      "\n",
      "Last best Harmony: 49.6411037916524\n",
      "\n",
      "Value for Q set to 47.397059233392774\n",
      "\n",
      "--------------------------------------------------------------------------------\n",
      "\n",
      "STEP : 0\t Lambda : 0.00356741763992171\t Harmony: 77.33448791503906\n",
      "\n",
      "epoch : 5\n",
      "stimNum : 2\n",
      "\n",
      "Conceptual Matrix:\n",
      "          s1       s2        s3        s4\n",
      "bh  0.238835  0.40000  0.400000  0.400000\n",
      "b   0.831741  0.40000  0.400000  0.400000\n",
      "u   0.400000  0.52659  0.400000  0.400000\n",
      "d   0.400000  0.40000  0.407100  0.400000\n",
      "dh  0.400000  0.40000  0.763872  0.400000\n",
      "#   0.400000  0.40000  0.400000  0.463295\n",
      "Nearest TP: b-u-dh-# --- Input : b-u-dh-#\n",
      "Distance between prediction and nearest TP: 1.9232806245635377\n",
      "\n",
      "--------------------------------------------------------------------------------\n",
      "\n",
      "STEP : 1000\t Lambda : 0.0035674184136123724\t Harmony: 57.13508987426758\n",
      "\n",
      "epoch : 5\n",
      "stimNum : 2\n",
      "\n",
      "Conceptual Matrix:\n",
      "          s1        s2        s3        s4\n",
      "bh  0.238677  0.399780  0.400412  0.399852\n",
      "b   1.000000  0.399556  0.400638  0.399591\n",
      "u   0.399523  1.000000  0.400867  0.399812\n",
      "d   0.399999  0.400171  0.407101  0.399914\n",
      "dh  0.400639  0.400880  1.000000  0.400403\n",
      "#   0.399631  0.399850  0.400385  1.000000\n",
      "Nearest TP: b-u-dh-# --- Input : b-u-dh-#\n",
      "Distance between prediction and nearest TP: 1.7618796189458046\n",
      "\n",
      "--------------------------------------------------------------------------------\n",
      "\n",
      "STEP : 2000\t Lambda : 0.0035674191880775\t Harmony: 57.13370895385742\n",
      "\n",
      "epoch : 5\n",
      "stimNum : 2\n",
      "\n",
      "Conceptual Matrix:\n",
      "          s1        s2        s3        s4\n",
      "bh  0.238516  0.399560  0.400822  0.399702\n",
      "b   1.000000  0.399112  0.401277  0.399181\n",
      "u   0.399047  1.000000  0.401735  0.399626\n",
      "d   0.399997  0.400342  0.407101  0.399827\n",
      "dh  0.401277  0.401760  1.000000  0.400805\n",
      "#   0.399262  0.399699  0.400771  1.000000\n",
      "Nearest TP: b-u-dh-# --- Input : b-u-dh-#\n",
      "Distance between prediction and nearest TP: 1.7622929339701303\n"
     ]
    },
    {
     "name": "stderr",
     "output_type": "stream",
     "text": [
      "\n",
      "Stimulus routine::  67%|██████▋   | 2/3 [00:10<00:05,  5.29s/it]\u001b[A"
     ]
    },
    {
     "name": "stdout",
     "output_type": "stream",
     "text": [
      "\n",
      "Last best Harmony: 57.13198083083005\n",
      "\n",
      "Value for Q set to 47.397059233392774\n",
      "\n",
      "--------------------------------------------------------------------------------\n",
      "\n",
      "STEP : 0\t Lambda : 0.0035674199625426273\t Harmony: 77.0472412109375\n",
      "\n",
      "epoch : 5\n",
      "stimNum : 3\n",
      "\n",
      "Conceptual Matrix:\n",
      "          s1       s2        s3        s4\n",
      "bh  0.256199  0.40000  0.400000  0.400000\n",
      "b   0.826274  0.40000  0.400000  0.400000\n",
      "u   0.400000  0.52659  0.400000  0.400000\n",
      "d   0.400000  0.40000  0.413660  0.400000\n",
      "dh  0.400000  0.40000  0.751572  0.400000\n",
      "#   0.400000  0.40000  0.400000  0.442197\n",
      "Nearest TP: b-u-dh-# --- Input : b-bh-u-dh-d\n",
      "Distance between prediction and nearest TP: 1.9349186798565874\n",
      "\n",
      "--------------------------------------------------------------------------------\n",
      "\n",
      "STEP : 1000\t Lambda : 0.0035674207362329574\t Harmony: 72.24555969238281\n",
      "\n",
      "epoch : 5\n",
      "stimNum : 3\n",
      "\n",
      "Conceptual Matrix:\n",
      "          s1        s2        s3        s4\n",
      "bh  0.700000  0.399494  0.400693  0.399791\n",
      "b   1.000000  0.399554  0.400637  0.399655\n",
      "u   0.399387  1.000000  0.400850  0.399890\n",
      "d   0.400149  0.400390  0.300000  0.400022\n",
      "dh  0.400735  0.400668  0.700000  0.400224\n",
      "#   0.399837  0.400019  0.400068  0.442127\n",
      "Nearest TP: b-u-dh-# --- Input : b-bh-u-dh-d\n",
      "Distance between prediction and nearest TP: 1.9654190813440144\n",
      "\n",
      "--------------------------------------------------------------------------------\n",
      "\n",
      "STEP : 2000\t Lambda : 0.003567421510697651\t Harmony: 72.24514770507812\n",
      "\n",
      "epoch : 5\n",
      "stimNum : 3\n",
      "\n",
      "Conceptual Matrix:\n",
      "          s1        s2        s3        s4\n",
      "bh  0.700000  0.398987  0.401386  0.399582\n",
      "b   1.000000  0.399108  0.401273  0.399310\n",
      "u   0.398774  1.000000  0.401699  0.399781\n",
      "d   0.400298  0.400779  0.300000  0.400043\n",
      "dh  0.401468  0.401335  0.700000  0.400448\n",
      "#   0.399673  0.400037  0.400136  0.442058\n",
      "Nearest TP: b-u-dh-# --- Input : b-bh-u-dh-d\n",
      "Distance between prediction and nearest TP: 1.965859751062227\n"
     ]
    },
    {
     "name": "stderr",
     "output_type": "stream",
     "text": [
      "\n",
      "Stimulus routine:: 100%|██████████| 3/3 [00:15<00:00,  5.31s/it]\u001b[A\n",
      "Epoch routine:: 100%|██████████| 5/5 [01:18<00:00, 15.74s/it]"
     ]
    },
    {
     "name": "stdout",
     "output_type": "stream",
     "text": [
      "\n",
      "Last best Harmony: 72.24437469303066\n",
      "\n"
     ]
    },
    {
     "name": "stderr",
     "output_type": "stream",
     "text": [
      "\n"
     ]
    }
   ],
   "source": [
    "# Run\n",
    "p = N()"
   ]
  },
  {
   "cell_type": "markdown",
   "id": "corresponding-singles",
   "metadata": {},
   "source": [
    "# Visualization"
   ]
  },
  {
   "cell_type": "code",
   "execution_count": 14,
   "id": "prepared-heating",
   "metadata": {},
   "outputs": [],
   "source": [
    "from src.gsc.plotting import Plot"
   ]
  },
  {
   "cell_type": "code",
   "execution_count": 15,
   "id": "apart-litigation",
   "metadata": {},
   "outputs": [],
   "source": [
    "fp = \"data/full_traces.pt\"\n",
    "nr = len(roles)\n",
    "nf = len(fillers) +1 \n",
    "statesDict = G.bind.states\n",
    "inputNames = N.inputNames\n",
    "\n",
    "\n",
    "p = Plot(fp_traces=\"data/full_traces.pt\", nf=nf,nr=nr, inputNames=inputNames, statesDict=statesDict)"
   ]
  },
  {
   "cell_type": "code",
   "execution_count": 16,
   "id": "adopted-buyer",
   "metadata": {},
   "outputs": [
    {
     "name": "stdout",
     "output_type": "stream",
     "text": [
      "Given input: '(0.7 x bh + 0.8 x b)-u-dh-u'\n"
     ]
    },
    {
     "data": {
      "image/png": "[encoded data removed]",
      "text/plain": [
       "<Figure size 1152x720 with 1 Axes>"
      ]
     },
     "metadata": {},
     "output_type": "display_data"
    }
   ],
   "source": [
    "print(\"Given input: '(0.7 x bh + 0.8 x b)-u-dh-u'\")\n",
    "plt.figure(figsize=(16,10))\n",
    "df = p.plot_epoch(0, 3)"
   ]
  },
  {
   "cell_type": "code",
   "execution_count": 17,
   "id": "close-collar",
   "metadata": {},
   "outputs": [
    {
     "name": "stdout",
     "output_type": "stream",
     "text": [
      "Given input: 'b-u-dh'\n"
     ]
    },
    {
     "data": {
      "image/png": "[encoded data removed]",
      "text/plain": [
       "<Figure size 1152x720 with 1 Axes>"
      ]
     },
     "metadata": {},
     "output_type": "display_data"
    }
   ],
   "source": [
    "print(\"Given input: 'b-u-dh'\")\n",
    "plt.figure(figsize=(16,10))\n",
    "df = p.plot_epoch(1, 4)"
   ]
  },
  {
   "cell_type": "code",
   "execution_count": 18,
   "id": "exciting-actor",
   "metadata": {},
   "outputs": [
    {
     "name": "stdout",
     "output_type": "stream",
     "text": [
      "Given input: '(0.7 x bh + 0.8 x bh)-u-(.7 x d + .8 x dh)'\n"
     ]
    },
    {
     "data": {
      "image/png": "[encoded data removed]",
      "text/plain": [
       "<Figure size 1152x720 with 1 Axes>"
      ]
     },
     "metadata": {},
     "output_type": "display_data"
    }
   ],
   "source": [
    "print(\"Given input: '(0.7 x bh + 0.8 x bh)-u-(.7 x d + .8 x dh)'\")\n",
    "plt.figure(figsize=(16,10))\n",
    "df = p.plot_epoch(2, 4)"
   ]
  },
  {
   "cell_type": "markdown",
   "id": "checked-claim",
   "metadata": {},
   "source": [
    "### Harmonies and Frequencies"
   ]
  },
  {
   "cell_type": "code",
   "execution_count": 19,
   "id": "defensive-walker",
   "metadata": {},
   "outputs": [
    {
     "data": {
      "image/png": "[encoded data removed]",
      "text/plain": [
       "<Figure size 720x576 with 1 Axes>"
      ]
     },
     "metadata": {},
     "output_type": "display_data"
    },
    {
     "data": {
      "image/png": "[encoded data removed]",
      "text/plain": [
       "<Figure size 432x288 with 1 Axes>"
      ]
     },
     "metadata": {},
     "output_type": "display_data"
    },
    {
     "data": {
      "image/png": "[encoded data removed]",
      "text/plain": [
       "<Figure size 432x288 with 1 Axes>"
      ]
     },
     "metadata": {},
     "output_type": "display_data"
    },
    {
     "data": {
      "image/png": "[encoded data removed]",
      "text/plain": [
       "<Figure size 432x288 with 1 Axes>"
      ]
     },
     "metadata": {},
     "output_type": "display_data"
    },
    {
     "data": {
      "image/png": "[encoded data removed]",
      "text/plain": [
       "<Figure size 432x288 with 1 Axes>"
      ]
     },
     "metadata": {},
     "output_type": "display_data"
    },
    {
     "data": {
      "image/png": "[encoded data removed]",
      "text/plain": [
       "<Figure size 432x288 with 1 Axes>"
      ]
     },
     "metadata": {},
     "output_type": "display_data"
    }
   ],
   "source": [
    "plt.figure(figsize=(10,8))\n",
    "df = p.plot_final_states(save=True)"
   ]
  },
  {
   "cell_type": "markdown",
   "id": "aggregate-spare",
   "metadata": {},
   "source": [
    "### Harmony vs. Activation"
   ]
  },
  {
   "cell_type": "code",
   "execution_count": 20,
   "id": "scheduled-arcade",
   "metadata": {},
   "outputs": [
    {
     "data": {
      "image/png": "[encoded data removed]",
      "text/plain": [
       "<Figure size 576x432 with 1 Axes>"
      ]
     },
     "metadata": {},
     "output_type": "display_data"
    }
   ],
   "source": [
    "plt.figure(figsize=(8,6))\n",
    "df = p.plot_act_stim(0,4, save=True)"
   ]
  },
  {
   "cell_type": "code",
   "execution_count": 21,
   "id": "usual-medium",
   "metadata": {},
   "outputs": [
    {
     "data": {
      "image/png": "[encoded data removed]",
      "text/plain": [
       "<Figure size 448.375x360 with 1 Axes>"
      ]
     },
     "metadata": {},
     "output_type": "display_data"
    }
   ],
   "source": [
    "df = p.plot_input_tstep(4,what=\"activation\")"
   ]
  },
  {
   "cell_type": "code",
   "execution_count": 22,
   "id": "fleet-design",
   "metadata": {},
   "outputs": [
    {
     "data": {
      "image/png": "[encoded data removed]",
      "text/plain": [
       "<Figure size 448.375x360 with 1 Axes>"
      ]
     },
     "metadata": {},
     "output_type": "display_data"
    }
   ],
   "source": [
    "df = p.plot_input_tstep(4,what=\"harmony\")\n",
    "# Why???"
   ]
  },
  {
   "cell_type": "code",
   "execution_count": 23,
   "id": "mobile-addiction",
   "metadata": {},
   "outputs": [
    {
     "data": {
      "image/png": "[encoded data removed]",
      "text/plain": [
       "<Figure size 648x216 with 3 Axes>"
      ]
     },
     "metadata": {},
     "output_type": "display_data"
    }
   ],
   "source": [
    "df = p.plot_input_tstep(4,what=\"regplot_facet\")"
   ]
  },
  {
   "cell_type": "code",
   "execution_count": 24,
   "id": "affected-variation",
   "metadata": {},
   "outputs": [
    {
     "data": {
      "image/png": "[encoded data removed]",
      "text/plain": [
       "<Figure size 448.375x360 with 1 Axes>"
      ]
     },
     "metadata": {},
     "output_type": "display_data"
    }
   ],
   "source": [
    "df = p.plot_input_tstep(4,what=\"regplot\")"
   ]
  },
  {
   "cell_type": "code",
   "execution_count": 25,
   "id": "legendary-municipality",
   "metadata": {},
   "outputs": [
    {
     "data": {
      "image/png": "[encoded data removed]",
      "text/plain": [
       "<Figure size 448.375x360 with 1 Axes>"
      ]
     },
     "metadata": {},
     "output_type": "display_data"
    }
   ],
   "source": [
    "df = p.plot_input_tstep(4,what=\"harm_dist_inp\")"
   ]
  },
  {
   "cell_type": "markdown",
   "id": "local-digest",
   "metadata": {},
   "source": [
    "## States update through time"
   ]
  },
  {
   "cell_type": "code",
   "execution_count": 26,
   "id": "interested-monroe",
   "metadata": {},
   "outputs": [],
   "source": [
    "data = p.data\n",
    "c = data['C_trace']"
   ]
  },
  {
   "cell_type": "code",
   "execution_count": 27,
   "id": "suspected-puppy",
   "metadata": {},
   "outputs": [
    {
     "name": "stdout",
     "output_type": "stream",
     "text": [
      "tensor([[0.8000, 0.4000, 0.4000, 0.4000],\n",
      "        [0.7000, 0.4000, 0.4000, 0.4000],\n",
      "        [0.4000, 1.0000, 0.4000, 1.0000],\n",
      "        [0.4000, 0.4000, 0.4075, 0.4000],\n",
      "        [0.4000, 0.4000, 1.0000, 0.4000],\n",
      "        [0.4000, 0.4000, 0.4000, 0.4422]])\n",
      "bhudhu\n"
     ]
    }
   ],
   "source": [
    "# Input 0, epoch 4\n",
    "mat = c[0, 4, i, :, :]\n",
    "print(mat)\n",
    "winner = \"\"\n",
    "for i in range(mat.shape[1]):\n",
    "    m = torch.argmax(mat[:,i])\n",
    "    winner += fillers[m]\n",
    "print(winner)"
   ]
  },
  {
   "cell_type": "code",
   "execution_count": 28,
   "id": "refined-hamilton",
   "metadata": {},
   "outputs": [
    {
     "name": "stdout",
     "output_type": "stream",
     "text": [
      "step: 0 for input b-bh-u-dh-u \n",
      "Winner: budh#\n"
     ]
    },
    {
     "data": {
      "image/png": "[encoded data removed]",
      "text/plain": [
       "<Figure size 432x288 with 2 Axes>"
      ]
     },
     "metadata": {},
     "output_type": "display_data"
    },
    {
     "name": "stdout",
     "output_type": "stream",
     "text": [
      "step: 2500 for input b-bh-u-dh-u \n",
      "Winner: bhudhu\n"
     ]
    },
    {
     "data": {
      "image/png": "[encoded data removed]",
      "text/plain": [
       "<Figure size 432x288 with 2 Axes>"
      ]
     },
     "metadata": {},
     "output_type": "display_data"
    },
    {
     "ename": "IndexError",
     "evalue": "index 5000 is out of bounds for dimension 2 with size 3000",
     "output_type": "error",
     "traceback": [
      "\u001b[1;31m---------------------------------------------------------------------------\u001b[0m",
      "\u001b[1;31mIndexError\u001b[0m                                Traceback (most recent call last)",
      "\u001b[1;32m<ipython-input-28-194205d9ffa0>\u001b[0m in \u001b[0;36m<module>\u001b[1;34m\u001b[0m\n\u001b[0;32m      1\u001b[0m \u001b[1;32mfor\u001b[0m \u001b[0mi\u001b[0m \u001b[1;32min\u001b[0m \u001b[0mrange\u001b[0m\u001b[1;33m(\u001b[0m\u001b[1;36m0\u001b[0m\u001b[1;33m,\u001b[0m \u001b[1;36m10000\u001b[0m\u001b[1;33m,\u001b[0m\u001b[1;36m2500\u001b[0m\u001b[1;33m)\u001b[0m\u001b[1;33m:\u001b[0m\u001b[1;33m\u001b[0m\u001b[1;33m\u001b[0m\u001b[0m\n\u001b[1;32m----> 2\u001b[1;33m     \u001b[0mmat\u001b[0m \u001b[1;33m=\u001b[0m \u001b[0mc\u001b[0m\u001b[1;33m[\u001b[0m\u001b[1;36m0\u001b[0m\u001b[1;33m,\u001b[0m \u001b[1;36m3\u001b[0m\u001b[1;33m,\u001b[0m \u001b[0mi\u001b[0m\u001b[1;33m,\u001b[0m \u001b[1;33m:\u001b[0m\u001b[1;33m,\u001b[0m \u001b[1;33m:\u001b[0m\u001b[1;33m]\u001b[0m\u001b[1;33m\u001b[0m\u001b[1;33m\u001b[0m\u001b[0m\n\u001b[0m\u001b[0;32m      3\u001b[0m     \u001b[0mdf\u001b[0m \u001b[1;33m=\u001b[0m \u001b[0mpd\u001b[0m\u001b[1;33m.\u001b[0m\u001b[0mDataFrame\u001b[0m\u001b[1;33m(\u001b[0m\u001b[0mmat\u001b[0m\u001b[1;33m.\u001b[0m\u001b[0mnumpy\u001b[0m\u001b[1;33m(\u001b[0m\u001b[1;33m)\u001b[0m\u001b[1;33m,\u001b[0m \u001b[0mindex\u001b[0m\u001b[1;33m=\u001b[0m\u001b[0mfillers\u001b[0m\u001b[1;33m,\u001b[0m \u001b[0mcolumns\u001b[0m\u001b[1;33m=\u001b[0m\u001b[0mroles\u001b[0m\u001b[1;33m)\u001b[0m\u001b[1;33m\u001b[0m\u001b[1;33m\u001b[0m\u001b[0m\n\u001b[0;32m      4\u001b[0m     \u001b[0mprint\u001b[0m\u001b[1;33m(\u001b[0m\u001b[1;34mf\"step: {i} for input {p.inputNames[0]} \"\u001b[0m\u001b[1;33m)\u001b[0m\u001b[1;33m\u001b[0m\u001b[1;33m\u001b[0m\u001b[0m\n\u001b[0;32m      5\u001b[0m     \u001b[0mwinner\u001b[0m \u001b[1;33m=\u001b[0m \u001b[1;34m\"\"\u001b[0m\u001b[1;33m\u001b[0m\u001b[1;33m\u001b[0m\u001b[0m\n",
      "\u001b[1;31mIndexError\u001b[0m: index 5000 is out of bounds for dimension 2 with size 3000"
     ]
    }
   ],
   "source": [
    "for i in range(0, 10000,2500):\n",
    "    mat = c[0, 3, i, :, :]\n",
    "    df = pd.DataFrame(mat.numpy(), index=fillers, columns=roles)\n",
    "    print(f\"step: {i} for input {p.inputNames[0]} \")\n",
    "    winner = \"\"\n",
    "    for i in range(mat.shape[1]):\n",
    "        m = torch.argmax(mat[:,i])\n",
    "        winner += fillers[m]\n",
    "    print(f\"Winner: {winner}\")\n",
    "    sns.heatmap(df, annot=True, cmap=\"gray\")\n",
    "    plt.show()"
   ]
  },
  {
   "cell_type": "code",
   "execution_count": null,
   "id": "hundred-makeup",
   "metadata": {},
   "outputs": [],
   "source": [
    "for i in range(0, 10000,2500):\n",
    "    mat = c[0, 4, i, :, :]\n",
    "    df = pd.DataFrame(mat.numpy(), index=fillers, columns=roles)\n",
    "    print(f\"step: {i} for input {p.inputNames[0]} \")\n",
    "    winner = \"\"\n",
    "    for i in range(mat.shape[1]):\n",
    "        m = torch.argmax(mat[:,i])\n",
    "        winner += fillers[m]\n",
    "    print(f\"Winner: {winner}\")\n",
    "    sns.heatmap(df, annot=True, cmap=\"gray\")\n",
    "    plt.show()"
   ]
  },
  {
   "cell_type": "code",
   "execution_count": null,
   "id": "antique-orbit",
   "metadata": {},
   "outputs": [],
   "source": []
  }
 ],
 "metadata": {
  "kernelspec": {
   "display_name": "Python 3",
   "language": "python",
   "name": "python3"
  },
  "language_info": {
   "codemirror_mode": {
    "name": "ipython",
    "version": 3
   },
   "file_extension": ".py",
   "mimetype": "text/x-python",
   "name": "python",
   "nbconvert_exporter": "python",
   "pygments_lexer": "ipython3",
   "version": "3.8.5"
  }
 },
 "nbformat": 4,
 "nbformat_minor": 5
}
