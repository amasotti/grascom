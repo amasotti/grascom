{
 "cells": [
  {
   "cell_type": "markdown",
   "id": "pediatric-falls",
   "metadata": {},
   "source": [
    "# Gradient Symbolic Computation\n",
    "\n",
    "see `TPR_example.ipynb` for details about the TP representation and one possible empirical phenomenon, that can be handled with GSC."
   ]
  },
  {
   "cell_type": "code",
   "execution_count": 2,
   "id": "industrial-intelligence",
   "metadata": {},
   "outputs": [
    {
     "data": {
      "text/plain": [
       "<torch._C.Generator at 0x1d36ad756d0>"
      ]
     },
     "execution_count": 2,
     "metadata": {},
     "output_type": "execute_result"
    }
   ],
   "source": [
    "# Imports\n",
    "from src.classes.Grammar import Grammar\n",
    "from src.gsc.gsc_network import Net\n",
    "import pandas as pd\n",
    "import torch\n",
    "# Set seed for reproducibility\n",
    "torch.manual_seed(123)"
   ]
  },
  {
   "cell_type": "markdown",
   "id": "worst-aaron",
   "metadata": {},
   "source": [
    "## Grammar and Harmonic Constraints"
   ]
  },
  {
   "cell_type": "code",
   "execution_count": 3,
   "id": "dimensional-cleanup",
   "metadata": {},
   "outputs": [
    {
     "name": "stdout",
     "output_type": "stream",
     "text": [
      "Buil Filler Matrix\n",
      "Representations built after 392 attempts\n",
      "\n",
      "Build role Matrix\n",
      "Representations built after 177 attempts\n",
      "\n"
     ]
    }
   ],
   "source": [
    "# Fillers and Roles\n",
    "fillers = [\"bh\", \"b\", \"u\", \"d\", \"dh\"]\n",
    "roles = [\"s1\", \"s2\", \"s3\"]\n",
    "\n",
    "similarities = torch.tensor([[1, 0.75, 0, 0, 0, 0],\n",
    "                             [0.75, 1, 0, 0, 0, 0],\n",
    "                             [0, 0, 1, 0, 0, 0],\n",
    "                             [0, 0, 0, 1, 0.75, 0],\n",
    "                             [0, 0, 0, 0.75, 1, 0],\n",
    "                             [0, 0, 0, 0, 0, 1]])\n",
    "\n",
    "# Build Grammar\n",
    "# G = Grammar(fillers, roles, emtpyFiller=\"#\")\n",
    "G = Grammar(fillers, roles, emtpyFiller=\"_\", fillerSimilarities=similarities)"
   ]
  },
  {
   "cell_type": "markdown",
   "id": "printable-sculpture",
   "metadata": {},
   "source": [
    "__Single Constituents Harmony__\n",
    "\n",
    "The following code sets the harmony values for single bindings. \n",
    "For instance the constraint `(\"b/s1\", 2)` means that the segment \"b\" in first position (\"s1\") improves the general harmony by 2. \n",
    "\n",
    "There will be *Harmony crosstalk* if the vector representing those bindings are not independent (dot product == 0). Let's suppose that the vector representing \"b/s1\" has a non-null dotproduct with the vector representing \"bh/s1\". Then \"bh/s1\" will also improve its harmony by a factor $H_{b/s1} \\times (b/s1 \\cdot bh/s1)$\n"
   ]
  },
  {
   "cell_type": "code",
   "execution_count": 4,
   "id": "piano-specialist",
   "metadata": {},
   "outputs": [],
   "source": [
    "# Single Harmony constraints\n",
    "cons = [(\"b/s1\", 2), (\"bh/s1\", 2), (\"u/s2\", 5), (\"d/s3\", 2), (\"dh/s3\", 5)]\n",
    "G.update_Hc(cons)"
   ]
  },
  {
   "cell_type": "markdown",
   "id": "necessary-reverse",
   "metadata": {},
   "source": [
    "__Pairwise Harmony__\n",
    "\n",
    "These constraints provide a way to declare Harmonic Constraints in the GSC. \n",
    "Ex.:\n",
    "\n",
    "`(\"u/s2\" \"d/s3\", -3)` means that the co-occurence of \"u\" in the secondo position and \"d\" in the third position makes the total Harmony decrease by -3 points. This  (indirectly) implement the preference for \"dh\" in \"s3\".\n"
   ]
  },
  {
   "cell_type": "code",
   "execution_count": 5,
   "id": "vital-carter",
   "metadata": {},
   "outputs": [],
   "source": [
    "# Pairwise Harmony\n",
    "# Matrix dim: (nF, nR, nF, nR)\n",
    "cons = [(\"u/s2\", \"d/s3\", -3),\n",
    "        (\"u/s2\", \"dh/s3\", 3)]\n",
    "G.update_Hcc(cons)"
   ]
  },
  {
   "cell_type": "markdown",
   "id": "distributed-chaos",
   "metadata": {},
   "source": [
    "### Single binding Harmonies:"
   ]
  },
  {
   "cell_type": "code",
   "execution_count": 6,
   "id": "legal-equation",
   "metadata": {},
   "outputs": [
    {
     "data": {
      "text/html": [
       "<div>\n",
       "<style scoped>\n",
       "    .dataframe tbody tr th:only-of-type {\n",
       "        vertical-align: middle;\n",
       "    }\n",
       "\n",
       "    .dataframe tbody tr th {\n",
       "        vertical-align: top;\n",
       "    }\n",
       "\n",
       "    .dataframe thead th {\n",
       "        text-align: right;\n",
       "    }\n",
       "</style>\n",
       "<table border=\"1\" class=\"dataframe\">\n",
       "  <thead>\n",
       "    <tr style=\"text-align: right;\">\n",
       "      <th></th>\n",
       "      <th>s1</th>\n",
       "      <th>s2</th>\n",
       "      <th>s3</th>\n",
       "    </tr>\n",
       "  </thead>\n",
       "  <tbody>\n",
       "    <tr>\n",
       "      <th>bh</th>\n",
       "      <td>2.0</td>\n",
       "      <td>0.0</td>\n",
       "      <td>0.0</td>\n",
       "    </tr>\n",
       "    <tr>\n",
       "      <th>b</th>\n",
       "      <td>2.0</td>\n",
       "      <td>0.0</td>\n",
       "      <td>0.0</td>\n",
       "    </tr>\n",
       "    <tr>\n",
       "      <th>u</th>\n",
       "      <td>0.0</td>\n",
       "      <td>5.0</td>\n",
       "      <td>0.0</td>\n",
       "    </tr>\n",
       "    <tr>\n",
       "      <th>d</th>\n",
       "      <td>0.0</td>\n",
       "      <td>0.0</td>\n",
       "      <td>2.0</td>\n",
       "    </tr>\n",
       "    <tr>\n",
       "      <th>dh</th>\n",
       "      <td>0.0</td>\n",
       "      <td>0.0</td>\n",
       "      <td>5.0</td>\n",
       "    </tr>\n",
       "    <tr>\n",
       "      <th>_</th>\n",
       "      <td>0.0</td>\n",
       "      <td>0.0</td>\n",
       "      <td>0.0</td>\n",
       "    </tr>\n",
       "  </tbody>\n",
       "</table>\n",
       "</div>"
      ],
      "text/plain": [
       "     s1   s2   s3\n",
       "bh  2.0  0.0  0.0\n",
       "b   2.0  0.0  0.0\n",
       "u   0.0  5.0  0.0\n",
       "d   0.0  0.0  2.0\n",
       "dh  0.0  0.0  5.0\n",
       "_   0.0  0.0  0.0"
      ]
     },
     "execution_count": 6,
     "metadata": {},
     "output_type": "execute_result"
    }
   ],
   "source": [
    "harmonies = G.Hc.numpy()\n",
    "harmonies = pd.DataFrame(harmonies, columns=roles, index=fillers)\n",
    "harmonies"
   ]
  },
  {
   "cell_type": "code",
   "execution_count": 7,
   "id": "stuck-delivery",
   "metadata": {},
   "outputs": [],
   "source": [
    "import seaborn as sns"
   ]
  },
  {
   "cell_type": "code",
   "execution_count": 8,
   "id": "pleased-formation",
   "metadata": {},
   "outputs": [
    {
     "data": {
      "text/plain": [
       "<AxesSubplot:>"
      ]
     },
     "execution_count": 8,
     "metadata": {},
     "output_type": "execute_result"
    },
    {
     "data": {
      "image/png": "[encoded data removed]",
      "text/plain": [
       "<Figure size 432x288 with 2 Axes>"
      ]
     },
     "metadata": {
      "needs_background": "light"
     },
     "output_type": "display_data"
    }
   ],
   "source": [
    "sns.heatmap(harmonies, annot=True, cmap=\"Greens\")"
   ]
  },
  {
   "cell_type": "markdown",
   "id": "happy-guard",
   "metadata": {},
   "source": [
    "### Pairwise Harmonies:"
   ]
  },
  {
   "cell_type": "code",
   "execution_count": 9,
   "id": "rocky-pregnancy",
   "metadata": {},
   "outputs": [
    {
     "data": {
      "text/html": [
       "<div>\n",
       "<style scoped>\n",
       "    .dataframe tbody tr th:only-of-type {\n",
       "        vertical-align: middle;\n",
       "    }\n",
       "\n",
       "    .dataframe tbody tr th {\n",
       "        vertical-align: top;\n",
       "    }\n",
       "\n",
       "    .dataframe thead th {\n",
       "        text-align: right;\n",
       "    }\n",
       "</style>\n",
       "<table border=\"1\" class=\"dataframe\">\n",
       "  <thead>\n",
       "    <tr style=\"text-align: right;\">\n",
       "      <th></th>\n",
       "      <th>s1</th>\n",
       "      <th>s2</th>\n",
       "      <th>s3</th>\n",
       "    </tr>\n",
       "  </thead>\n",
       "  <tbody>\n",
       "    <tr>\n",
       "      <th>bh</th>\n",
       "      <td>0.0</td>\n",
       "      <td>0.0</td>\n",
       "      <td>0.0</td>\n",
       "    </tr>\n",
       "    <tr>\n",
       "      <th>b</th>\n",
       "      <td>0.0</td>\n",
       "      <td>0.0</td>\n",
       "      <td>0.0</td>\n",
       "    </tr>\n",
       "    <tr>\n",
       "      <th>u</th>\n",
       "      <td>0.0</td>\n",
       "      <td>0.0</td>\n",
       "      <td>0.0</td>\n",
       "    </tr>\n",
       "    <tr>\n",
       "      <th>d</th>\n",
       "      <td>0.0</td>\n",
       "      <td>0.0</td>\n",
       "      <td>-3.0</td>\n",
       "    </tr>\n",
       "    <tr>\n",
       "      <th>dh</th>\n",
       "      <td>0.0</td>\n",
       "      <td>0.0</td>\n",
       "      <td>3.0</td>\n",
       "    </tr>\n",
       "    <tr>\n",
       "      <th>_</th>\n",
       "      <td>0.0</td>\n",
       "      <td>0.0</td>\n",
       "      <td>0.0</td>\n",
       "    </tr>\n",
       "  </tbody>\n",
       "</table>\n",
       "</div>"
      ],
      "text/plain": [
       "     s1   s2   s3\n",
       "bh  0.0  0.0  0.0\n",
       "b   0.0  0.0  0.0\n",
       "u   0.0  0.0  0.0\n",
       "d   0.0  0.0 -3.0\n",
       "dh  0.0  0.0  3.0\n",
       "_   0.0  0.0  0.0"
      ]
     },
     "execution_count": 9,
     "metadata": {},
     "output_type": "execute_result"
    }
   ],
   "source": [
    "# Harmonies for the binding : u/s2\n",
    "harmonies = G.Hcc.numpy()[:,:,2,1]\n",
    "harmonies = pd.DataFrame(harmonies, columns=roles, index=fillers)\n",
    "harmonies"
   ]
  },
  {
   "cell_type": "code",
   "execution_count": 10,
   "id": "comparable-helicopter",
   "metadata": {},
   "outputs": [
    {
     "data": {
      "text/plain": [
       "<AxesSubplot:>"
      ]
     },
     "execution_count": 10,
     "metadata": {},
     "output_type": "execute_result"
    },
    {
     "data": {
      "image/png": "[encoded data removed]",
      "text/plain": [
       "<Figure size 432x288 with 2 Axes>"
      ]
     },
     "metadata": {
      "needs_background": "light"
     },
     "output_type": "display_data"
    }
   ],
   "source": [
    "sns.heatmap(harmonies, annot=True, cmap=\"Blues\")"
   ]
  },
  {
   "cell_type": "markdown",
   "id": "varied-monitoring",
   "metadata": {},
   "source": [
    "The preceding matrix is the matrix for \"u\" in second position, the binding \"u/s2\". We implemented the harmony constraint (\"u/s2\", \"d/s3\", -3) and (\"u/s2\", \"dh/s3\", 3) and this is what the heatmap is visualizing."
   ]
  },
  {
   "cell_type": "markdown",
   "id": "instructional-aerospace",
   "metadata": {},
   "source": [
    "## GSC Net"
   ]
  },
  {
   "cell_type": "code",
   "execution_count": 11,
   "id": "periodic-naples",
   "metadata": {},
   "outputs": [
    {
     "name": "stdout",
     "output_type": "stream",
     "text": [
      "Input processed: b-bh-u-dh\n",
      "\n",
      "Input processed: b-u-dh\n",
      "\n",
      "Value for Q set to 16.26776109327919\n",
      "LAMBDA RECOMMENDED: 0.01422198802943719, ACTUAL LAMBDA = 0.011387\n"
     ]
    },
    {
     "name": "stdin",
     "output_type": "stream",
     "text": [
      "If you want to change to the recommended Lambda value press 'y', else any other key: y\n"
     ]
    },
    {
     "name": "stdout",
     "output_type": "stream",
     "text": [
      "T RECOMMENDED: 2.3761105810755308e-05, ACTUAL T = -1\n"
     ]
    },
    {
     "name": "stdin",
     "output_type": "stream",
     "text": [
      "If you want to change to the recommended value press 'y', else any other key: y\n"
     ]
    }
   ],
   "source": [
    "# Custom settings (these substitute the hard-coded settings)\n",
    "\n",
    "# ---------------------------------------\n",
    "#           GSC NET\n",
    "# ---------------------------------------\n",
    "\n",
    "custom_settings = {\"epochs\": 5,\n",
    "                   \"tgtStd\": 0.00125,\n",
    "                   \"emaFactor\": 0.05,\n",
    "                   \"emaSpeedTol\": 0.002,\n",
    "                   \"dt\": 1e-5,\n",
    "                   \"T_decay_rate\": 0.05,\n",
    "                   \"maxSteps\": 50000,\n",
    "                   \"printInterval\": 25000}\n",
    "# Initialize\n",
    "N = Net(G, custom_settings=custom_settings, extData_path=\"data/inp_pandas.csv\")\n"
   ]
  },
  {
   "cell_type": "markdown",
   "id": "distant-observation",
   "metadata": {},
   "source": [
    "The external data were provided in form of a simple csv file and were imported in the GSCNet using `pandas`:"
   ]
  },
  {
   "cell_type": "code",
   "execution_count": 12,
   "id": "portuguese-germany",
   "metadata": {},
   "outputs": [
    {
     "name": "stdout",
     "output_type": "stream",
     "text": [
      "Input processed: b-bh-u-dh\n",
      "\n",
      "Input processed: b-u-dh\n",
      "\n"
     ]
    }
   ],
   "source": [
    "# EXTERNAL INPUTS \n",
    "\n",
    "# Read dataframe\n",
    "inputs = pd.read_csv(\"data/inp_pandas.csv\", sep=\",\")\n",
    "inputNames = []\n",
    "nStimuli = len(inputs['id'].unique())\n",
    "\n",
    "# Initialize stimuli tensor\n",
    "stimuli = torch.zeros((nStimuli, len(fillers) + 1, len(roles)))\n",
    "\n",
    "# Loop over the single inputs as whole\n",
    "for idx, i in enumerate(inputs['id'].unique()):\n",
    "    inp_string = \"\"\n",
    "    stimulus = inputs[inputs.id == i].to_numpy()[:, 1:]\n",
    "\n",
    "    # Loop over the fillers in a given input\n",
    "    for filler in stimulus:\n",
    "        fidx = N.filler2index[filler[0]]\n",
    "        inp_string += filler[0] + \"-\"\n",
    "        for roledix in range(N.grammar.bind.nR):\n",
    "            stimuli[idx, fidx, roledix] = filler[roledix+1]\n",
    "    print(f\"Input processed: {inp_string[:-1]}\\n\")\n",
    "    # Store the names for later plotting\n",
    "    inputNames.append(inp_string[:-1])"
   ]
  },
  {
   "cell_type": "markdown",
   "id": "stretch-capacity",
   "metadata": {},
   "source": [
    "The first imput is a gradient blend for the root *{b, bh}ud*:"
   ]
  },
  {
   "cell_type": "code",
   "execution_count": 13,
   "id": "ranging-czech",
   "metadata": {},
   "outputs": [
    {
     "name": "stdout",
     "output_type": "stream",
     "text": [
      "     s1   s2   s3\n",
      "bh  0.7  0.0  0.0\n",
      "b   0.8  0.0  0.0\n",
      "u   0.0  1.0  0.0\n",
      "d   0.0  0.0  0.0\n",
      "dh  0.0  0.0  1.0\n",
      "_   0.0  0.0  0.0\n"
     ]
    },
    {
     "data": {
      "text/plain": [
       "<AxesSubplot:>"
      ]
     },
     "execution_count": 13,
     "metadata": {},
     "output_type": "execute_result"
    },
    {
     "data": {
      "image/png": "[encoded data removed]",
      "text/plain": [
       "<Figure size 432x288 with 2 Axes>"
      ]
     },
     "metadata": {
      "needs_background": "light"
     },
     "output_type": "display_data"
    }
   ],
   "source": [
    "b_bh_ud = N.stimuli[0,:,:].numpy()\n",
    "b_bh_ud = pd.DataFrame(b_bh_ud, columns=roles, index=fillers)\n",
    "print(b_bh_ud)\n",
    "sns.heatmap(b_bh_ud, alpha=.8, cmap=\"Blues\", annot=True)"
   ]
  },
  {
   "cell_type": "markdown",
   "id": "controversial-broadway",
   "metadata": {},
   "source": [
    "## Training (Optimization + Quantization)"
   ]
  },
  {
   "cell_type": "code",
   "execution_count": 14,
   "id": "plain-knitting",
   "metadata": {
    "scrolled": true
   },
   "outputs": [
    {
     "name": "stderr",
     "output_type": "stream",
     "text": [
      "Epoch routine::   0%|          | 0/5 [00:00<?, ?it/s]\n",
      "Stimulus routine::   0%|          | 0/2 [00:00<?, ?it/s]\u001b[A"
     ]
    },
    {
     "name": "stdout",
     "output_type": "stream",
     "text": [
      "\n",
      "--------------------------------------------------------------------------------\n",
      "\n",
      "STEP : 0\t Lambda : 0.01422198802943719\t Harmony: 40.88941192626953\n",
      "\n",
      "epoch : 1\n",
      "stimNum : 1\n",
      "\n",
      "Conceptual Matrix:\n",
      "          s1        s2        s3\n",
      "bh  0.695062  0.400000  0.400000\n",
      "b   0.696599  0.400000  0.400000\n",
      "u   0.400000  0.774956  0.400000\n",
      "d   0.400000  0.400000  0.763836\n",
      "dh  0.400000  0.400000  0.896763\n",
      "_   0.400000  0.400000  0.400000\n",
      "Nearest TP: b-u-dh\n",
      "Distance between prediction and nearest TP: 1.955837828969228\n",
      "\n",
      "--------------------------------------------------------------------------------\n",
      "\n",
      "STEP : 1000\t Lambda : 0.014093308807301778\t Harmony: 40.876956939697266\n",
      "\n",
      "epoch : 1\n",
      "stimNum : 1\n",
      "\n",
      "Conceptual Matrix:\n",
      "          s1        s2        s3\n",
      "bh  0.694129  0.408168  0.412031\n",
      "b   0.696169  0.402407  0.404286\n",
      "u   0.399662  0.778998  0.406404\n",
      "d   0.398988  0.411017  0.780703\n",
      "dh  0.399276  0.406963  0.906658\n",
      "_   0.398751  0.414330  0.421765\n",
      "Nearest TP: b-u-dh\n",
      "Distance between prediction and nearest TP: 1.987458932937222\n"
     ]
    },
    {
     "name": "stderr",
     "output_type": "stream",
     "text": [
      "\n",
      "Stimulus routine::  50%|█████     | 1/2 [00:01<00:01,  1.20s/it]\u001b[A"
     ]
    },
    {
     "name": "stdout",
     "output_type": "stream",
     "text": [
      "\n",
      "Last best Harmony: 40.839402375524735\n",
      "\n",
      "\n",
      "--------------------------------------------------------------------------------\n",
      "\n",
      "STEP : 0\t Lambda : 0.013965675056728579\t Harmony: 40.293277740478516\n",
      "\n",
      "epoch : 1\n",
      "stimNum : 2\n",
      "\n",
      "Conceptual Matrix:\n",
      "          s1        s2        s3\n",
      "bh  0.661253  0.400000  0.400000\n",
      "b   0.676621  0.400000  0.400000\n",
      "u   0.400000  0.774956  0.400000\n",
      "d   0.400000  0.400000  0.763836\n",
      "dh  0.400000  0.400000  0.896763\n",
      "_   0.400000  0.400000  0.400000\n",
      "Nearest TP: b-u-dh\n",
      "Distance between prediction and nearest TP: 1.9461598997996337\n",
      "\n",
      "--------------------------------------------------------------------------------\n",
      "\n",
      "STEP : 1000\t Lambda : 0.013839331352360405\t Harmony: 40.28062438964844\n",
      "\n",
      "epoch : 1\n",
      "stimNum : 2\n",
      "\n",
      "Conceptual Matrix:\n",
      "          s1        s2        s3\n",
      "bh  0.660280  0.408101  0.412618\n",
      "b   0.676046  0.402790  0.404189\n",
      "u   0.399908  0.778861  0.406458\n",
      "d   0.399681  0.411814  0.781561\n",
      "dh  0.398765  0.406338  0.906030\n",
      "_   0.398797  0.414205  0.421432\n",
      "Nearest TP: b-u-dh\n",
      "Distance between prediction and nearest TP: 1.978505398329136\n"
     ]
    },
    {
     "name": "stderr",
     "output_type": "stream",
     "text": [
      "\n",
      "Stimulus routine:: 100%|██████████| 2/2 [00:02<00:00,  1.23s/it]\u001b[A\n",
      "Epoch routine::  20%|██        | 1/5 [00:02<00:09,  2.46s/it]\n",
      "Stimulus routine::   0%|          | 0/2 [00:00<?, ?it/s]\u001b[A"
     ]
    },
    {
     "name": "stdout",
     "output_type": "stream",
     "text": [
      "\n",
      "Last best Harmony: 40.242898376415134\n",
      "\n",
      "\n",
      "--------------------------------------------------------------------------------\n",
      "\n",
      "STEP : 0\t Lambda : 0.013714014144327753\t Harmony: 40.88941192626953\n",
      "\n",
      "epoch : 2\n",
      "stimNum : 1\n",
      "\n",
      "Conceptual Matrix:\n",
      "          s1        s2        s3\n",
      "bh  0.695062  0.400000  0.400000\n",
      "b   0.696599  0.400000  0.400000\n",
      "u   0.400000  0.774956  0.400000\n",
      "d   0.400000  0.400000  0.763836\n",
      "dh  0.400000  0.400000  0.896763\n",
      "_   0.400000  0.400000  0.400000\n",
      "Nearest TP: b-u-dh\n",
      "Distance between prediction and nearest TP: 1.955837828969228\n",
      "\n",
      "--------------------------------------------------------------------------------\n",
      "\n",
      "STEP : 1000\t Lambda : 0.013589963568262893\t Harmony: 40.876773834228516\n",
      "\n",
      "epoch : 2\n",
      "stimNum : 1\n",
      "\n",
      "Conceptual Matrix:\n",
      "          s1        s2        s3\n",
      "bh  0.694276  0.408289  0.412463\n",
      "b   0.696015  0.402349  0.403680\n",
      "u   0.399589  0.779197  0.406568\n",
      "d   0.399389  0.411862  0.781472\n",
      "dh  0.399039  0.406280  0.906381\n",
      "_   0.399026  0.414007  0.421521\n",
      "Nearest TP: b-u-dh\n",
      "Distance between prediction and nearest TP: 1.9876932593116639\n"
     ]
    },
    {
     "name": "stderr",
     "output_type": "stream",
     "text": [
      "\n",
      "Stimulus routine::  50%|█████     | 1/2 [00:01<00:01,  1.21s/it]\u001b[A"
     ]
    },
    {
     "name": "stdout",
     "output_type": "stream",
     "text": [
      "\n",
      "Last best Harmony: 40.83918398041319\n",
      "\n",
      "\n",
      "--------------------------------------------------------------------------------\n",
      "\n",
      "STEP : 0\t Lambda : 0.013466920857705792\t Harmony: 40.293277740478516\n",
      "\n",
      "epoch : 2\n",
      "stimNum : 2\n",
      "\n",
      "Conceptual Matrix:\n",
      "          s1        s2        s3\n",
      "bh  0.661253  0.400000  0.400000\n",
      "b   0.676621  0.400000  0.400000\n",
      "u   0.400000  0.774956  0.400000\n",
      "d   0.400000  0.400000  0.763836\n",
      "dh  0.400000  0.400000  0.896763\n",
      "_   0.400000  0.400000  0.400000\n",
      "Nearest TP: b-u-dh\n",
      "Distance between prediction and nearest TP: 1.9461598997996337\n",
      "\n",
      "--------------------------------------------------------------------------------\n",
      "\n",
      "STEP : 1000\t Lambda : 0.013345121789845812\t Harmony: 40.28091049194336\n",
      "\n",
      "epoch : 2\n",
      "stimNum : 2\n",
      "\n",
      "Conceptual Matrix:\n",
      "          s1        s2        s3\n",
      "bh  0.660648  0.407822  0.412883\n",
      "b   0.675894  0.402803  0.403560\n",
      "u   0.399454  0.779147  0.406079\n",
      "d   0.399527  0.411146  0.780871\n",
      "dh  0.399137  0.407043  0.906810\n",
      "_   0.398985  0.414011  0.421233\n",
      "Nearest TP: b-u-dh\n",
      "Distance between prediction and nearest TP: 1.9781332951029844\n"
     ]
    },
    {
     "name": "stderr",
     "output_type": "stream",
     "text": [
      "\n",
      "Stimulus routine:: 100%|██████████| 2/2 [00:02<00:00,  1.21s/it]\u001b[A\n",
      "Epoch routine::  40%|████      | 2/5 [00:04<00:07,  2.44s/it]\n",
      "Stimulus routine::   0%|          | 0/2 [00:00<?, ?it/s]\u001b[A"
     ]
    },
    {
     "name": "stdout",
     "output_type": "stream",
     "text": [
      "\n",
      "Last best Harmony: 40.2438783114262\n",
      "\n",
      "\n",
      "--------------------------------------------------------------------------------\n",
      "\n",
      "STEP : 0\t Lambda : 0.013224312294813809\t Harmony: 40.88941192626953\n",
      "\n",
      "epoch : 3\n",
      "stimNum : 1\n",
      "\n",
      "Conceptual Matrix:\n",
      "          s1        s2        s3\n",
      "bh  0.695062  0.400000  0.400000\n",
      "b   0.696599  0.400000  0.400000\n",
      "u   0.400000  0.774956  0.400000\n",
      "d   0.400000  0.400000  0.763836\n",
      "dh  0.400000  0.400000  0.896763\n",
      "_   0.400000  0.400000  0.400000\n",
      "Nearest TP: b-u-dh\n",
      "Distance between prediction and nearest TP: 1.955837828969228\n",
      "\n",
      "--------------------------------------------------------------------------------\n",
      "\n",
      "STEP : 1000\t Lambda : 0.01310472387046173\t Harmony: 40.87682342529297\n",
      "\n",
      "epoch : 3\n",
      "stimNum : 1\n",
      "\n",
      "Conceptual Matrix:\n",
      "          s1        s2        s3\n",
      "bh  0.694093  0.408586  0.412421\n",
      "b   0.696461  0.402405  0.404254\n",
      "u   0.399438  0.778922  0.406485\n",
      "d   0.398737  0.411640  0.780937\n",
      "dh  0.399731  0.406480  0.906615\n",
      "_   0.398930  0.413915  0.421694\n",
      "Nearest TP: b-u-dh\n",
      "Distance between prediction and nearest TP: 1.987869146754698\n"
     ]
    },
    {
     "name": "stderr",
     "output_type": "stream",
     "text": [
      "\n",
      "Stimulus routine::  50%|█████     | 1/2 [00:01<00:01,  1.20s/it]\u001b[A"
     ]
    },
    {
     "name": "stdout",
     "output_type": "stream",
     "text": [
      "\n",
      "Last best Harmony: 40.839545990179026\n",
      "\n",
      "\n",
      "--------------------------------------------------------------------------------\n",
      "\n",
      "STEP : 0\t Lambda : 0.012986107058268618\t Harmony: 40.293277740478516\n",
      "\n",
      "epoch : 3\n",
      "stimNum : 2\n",
      "\n",
      "Conceptual Matrix:\n",
      "          s1        s2        s3\n",
      "bh  0.661253  0.400000  0.400000\n",
      "b   0.676621  0.400000  0.400000\n",
      "u   0.400000  0.774956  0.400000\n",
      "d   0.400000  0.400000  0.763836\n",
      "dh  0.400000  0.400000  0.896763\n",
      "_   0.400000  0.400000  0.400000\n",
      "Nearest TP: b-u-dh\n",
      "Distance between prediction and nearest TP: 1.9461598997996337\n",
      "\n",
      "--------------------------------------------------------------------------------\n",
      "\n",
      "STEP : 1000\t Lambda : 0.012868689154418585\t Harmony: 40.280574798583984\n",
      "\n",
      "epoch : 3\n",
      "stimNum : 2\n",
      "\n",
      "Conceptual Matrix:\n",
      "          s1        s2        s3\n",
      "bh  0.660317  0.408105  0.412496\n",
      "b   0.676259  0.402357  0.404556\n",
      "u   0.399678  0.779299  0.406817\n",
      "d   0.398782  0.411587  0.781048\n",
      "dh  0.399687  0.406692  0.906880\n",
      "_   0.399151  0.414462  0.421331\n",
      "Nearest TP: b-u-dh\n",
      "Distance between prediction and nearest TP: 1.9786295048464257\n"
     ]
    },
    {
     "name": "stderr",
     "output_type": "stream",
     "text": [
      "\n",
      "Stimulus routine:: 100%|██████████| 2/2 [00:02<00:00,  1.20s/it]\u001b[A\n",
      "Epoch routine::  60%|██████    | 3/5 [00:07<00:04,  2.42s/it]\n",
      "Stimulus routine::   0%|          | 0/2 [00:00<?, ?it/s]\u001b[A"
     ]
    },
    {
     "name": "stdout",
     "output_type": "stream",
     "text": [
      "\n",
      "Last best Harmony: 40.24332263843204\n",
      "\n",
      "\n",
      "--------------------------------------------------------------------------------\n",
      "\n",
      "STEP : 0\t Lambda : 0.012752225228043175\t Harmony: 40.88941192626953\n",
      "\n",
      "epoch : 4\n",
      "stimNum : 1\n",
      "\n",
      "Conceptual Matrix:\n",
      "          s1        s2        s3\n",
      "bh  0.695062  0.400000  0.400000\n",
      "b   0.696599  0.400000  0.400000\n",
      "u   0.400000  0.774956  0.400000\n",
      "d   0.400000  0.400000  0.763836\n",
      "dh  0.400000  0.400000  0.896763\n",
      "_   0.400000  0.400000  0.400000\n",
      "Nearest TP: b-u-dh\n",
      "Distance between prediction and nearest TP: 1.955837828969228\n",
      "\n",
      "--------------------------------------------------------------------------------\n",
      "\n",
      "STEP : 1000\t Lambda : 0.012636938449918669\t Harmony: 40.87691116333008\n",
      "\n",
      "epoch : 4\n",
      "stimNum : 1\n",
      "\n",
      "Conceptual Matrix:\n",
      "          s1        s2        s3\n",
      "bh  0.693993  0.407547  0.413250\n",
      "b   0.696102  0.403092  0.403858\n",
      "u   0.399519  0.778804  0.406134\n",
      "d   0.398912  0.411266  0.780886\n",
      "dh  0.399866  0.406642  0.906791\n",
      "_   0.399077  0.414016  0.421508\n",
      "Nearest TP: b-u-dh\n",
      "Distance between prediction and nearest TP: 1.9878645005690916\n"
     ]
    },
    {
     "name": "stderr",
     "output_type": "stream",
     "text": [
      "\n",
      "Stimulus routine::  50%|█████     | 1/2 [00:01<00:01,  1.20s/it]\u001b[A"
     ]
    },
    {
     "name": "stdout",
     "output_type": "stream",
     "text": [
      "\n",
      "Last best Harmony: 40.83964117395866\n",
      "\n",
      "\n",
      "--------------------------------------------------------------------------------\n",
      "\n",
      "STEP : 0\t Lambda : 0.012522588334652598\t Harmony: 40.293277740478516\n",
      "\n",
      "epoch : 4\n",
      "stimNum : 2\n",
      "\n",
      "Conceptual Matrix:\n",
      "          s1        s2        s3\n",
      "bh  0.661253  0.400000  0.400000\n",
      "b   0.676621  0.400000  0.400000\n",
      "u   0.400000  0.774956  0.400000\n",
      "d   0.400000  0.400000  0.763836\n",
      "dh  0.400000  0.400000  0.896763\n",
      "_   0.400000  0.400000  0.400000\n",
      "Nearest TP: b-u-dh\n",
      "Distance between prediction and nearest TP: 1.9461598997996337\n",
      "\n",
      "--------------------------------------------------------------------------------\n",
      "\n",
      "STEP : 1000\t Lambda : 0.012409394002489214\t Harmony: 40.280738830566406\n",
      "\n",
      "epoch : 4\n",
      "stimNum : 2\n",
      "\n",
      "Conceptual Matrix:\n",
      "          s1        s2        s3\n",
      "bh  0.660405  0.407920  0.412688\n",
      "b   0.676380  0.402685  0.403876\n",
      "u   0.399861  0.779068  0.406859\n",
      "d   0.399073  0.411004  0.781177\n",
      "dh  0.399493  0.406929  0.906580\n",
      "_   0.399096  0.413977  0.421557\n",
      "Nearest TP: b-u-dh\n",
      "Distance between prediction and nearest TP: 1.9784212231757057\n"
     ]
    },
    {
     "name": "stderr",
     "output_type": "stream",
     "text": [
      "\n",
      "Stimulus routine:: 100%|██████████| 2/2 [00:02<00:00,  1.20s/it]\u001b[A\n",
      "Epoch routine::  80%|████████  | 4/5 [00:09<00:02,  2.42s/it]\n",
      "Stimulus routine::   0%|          | 0/2 [00:00<?, ?it/s]\u001b[A"
     ]
    },
    {
     "name": "stdout",
     "output_type": "stream",
     "text": [
      "\n",
      "Last best Harmony: 40.24341327671468\n",
      "\n",
      "\n",
      "--------------------------------------------------------------------------------\n",
      "\n",
      "STEP : 0\t Lambda : 0.012297119332827016\t Harmony: 40.88941192626953\n",
      "\n",
      "epoch : 5\n",
      "stimNum : 1\n",
      "\n",
      "Conceptual Matrix:\n",
      "          s1        s2        s3\n",
      "bh  0.695062  0.400000  0.400000\n",
      "b   0.696599  0.400000  0.400000\n",
      "u   0.400000  0.774956  0.400000\n",
      "d   0.400000  0.400000  0.763836\n",
      "dh  0.400000  0.400000  0.896763\n",
      "_   0.400000  0.400000  0.400000\n",
      "Nearest TP: b-u-dh\n",
      "Distance between prediction and nearest TP: 1.955837828969228\n",
      "\n",
      "--------------------------------------------------------------------------------\n",
      "\n",
      "STEP : 1000\t Lambda : 0.012185979468895011\t Harmony: 40.87688446044922\n",
      "\n",
      "epoch : 5\n",
      "stimNum : 1\n",
      "\n",
      "Conceptual Matrix:\n",
      "          s1        s2        s3\n",
      "bh  0.694320  0.408185  0.412160\n",
      "b   0.696326  0.402680  0.404298\n",
      "u   0.399386  0.779141  0.406786\n",
      "d   0.399481  0.411194  0.781418\n",
      "dh  0.398957  0.406907  0.906654\n",
      "_   0.399161  0.413894  0.421380\n",
      "Nearest TP: b-u-dh\n",
      "Distance between prediction and nearest TP: 1.9879515660095843\n"
     ]
    },
    {
     "name": "stderr",
     "output_type": "stream",
     "text": [
      "\n",
      "Stimulus routine::  50%|█████     | 1/2 [00:01<00:01,  1.18s/it]\u001b[A"
     ]
    },
    {
     "name": "stdout",
     "output_type": "stream",
     "text": [
      "\n",
      "Last best Harmony: 40.839577480385216\n",
      "\n",
      "\n",
      "--------------------------------------------------------------------------------\n",
      "\n",
      "STEP : 0\t Lambda : 0.012075742575662084\t Harmony: 40.293277740478516\n",
      "\n",
      "epoch : 5\n",
      "stimNum : 2\n",
      "\n",
      "Conceptual Matrix:\n",
      "          s1        s2        s3\n",
      "bh  0.661253  0.400000  0.400000\n",
      "b   0.676621  0.400000  0.400000\n",
      "u   0.400000  0.774956  0.400000\n",
      "d   0.400000  0.400000  0.763836\n",
      "dh  0.400000  0.400000  0.896763\n",
      "_   0.400000  0.400000  0.400000\n",
      "Nearest TP: b-u-dh\n",
      "Distance between prediction and nearest TP: 1.9461598997996337\n",
      "\n",
      "--------------------------------------------------------------------------------\n",
      "\n",
      "STEP : 1000\t Lambda : 0.011966619891524557\t Harmony: 40.28062438964844\n",
      "\n",
      "epoch : 5\n",
      "stimNum : 2\n",
      "\n",
      "Conceptual Matrix:\n",
      "          s1        s2        s3\n",
      "bh  0.660228  0.408145  0.412943\n",
      "b   0.676417  0.402464  0.403950\n",
      "u   0.399463  0.779175  0.406313\n",
      "d   0.399203  0.411861  0.781222\n",
      "dh  0.399459  0.406450  0.906424\n",
      "_   0.399565  0.413981  0.421535\n",
      "Nearest TP: b-u-dh\n",
      "Distance between prediction and nearest TP: 1.978542471831267\n"
     ]
    },
    {
     "name": "stderr",
     "output_type": "stream",
     "text": [
      "\n",
      "Stimulus routine:: 100%|██████████| 2/2 [00:02<00:00,  1.20s/it]\u001b[A\n",
      "Epoch routine:: 100%|██████████| 5/5 [00:12<00:00,  2.42s/it]"
     ]
    },
    {
     "name": "stdout",
     "output_type": "stream",
     "text": [
      "\n",
      "Last best Harmony: 40.24294665887766\n",
      "\n"
     ]
    },
    {
     "name": "stderr",
     "output_type": "stream",
     "text": [
      "\n"
     ]
    }
   ],
   "source": [
    "# Run\n",
    "p = N()"
   ]
  },
  {
   "cell_type": "markdown",
   "id": "frequent-marketplace",
   "metadata": {},
   "source": [
    "# Visualization"
   ]
  },
  {
   "cell_type": "code",
   "execution_count": 15,
   "id": "celtic-burton",
   "metadata": {},
   "outputs": [],
   "source": [
    "# Load the Plot class\n",
    "from src.gsc.plotting import Plot\n",
    "import matplotlib.pyplot as plt\n",
    "\n",
    "plot = Plot(net=N, fp_traces=\"data/full_traces.pt\")"
   ]
  },
  {
   "cell_type": "code",
   "execution_count": 16,
   "id": "eleven-nurse",
   "metadata": {},
   "outputs": [
    {
     "data": {
      "image/png": "[encoded data removed]",
      "text/plain": [
       "<Figure size 432x288 with 1 Axes>"
      ]
     },
     "metadata": {
      "needs_background": "light"
     },
     "output_type": "display_data"
    },
    {
     "data": {
      "image/png": "[encoded data removed]",
      "text/plain": [
       "<Figure size 432x288 with 1 Axes>"
      ]
     },
     "metadata": {
      "needs_background": "light"
     },
     "output_type": "display_data"
    }
   ],
   "source": [
    "# Probabilities and Harmonies\n",
    "# input {b,bh}-u-d, training_epoch = 5\n",
    "plot.plotTP_probs(stim=0, epoch=4)"
   ]
  },
  {
   "cell_type": "code",
   "execution_count": 17,
   "id": "technological-buddy",
   "metadata": {},
   "outputs": [
    {
     "data": {
      "image/png": "[encoded data removed]",
      "text/plain": [
       "<Figure size 432x288 with 1 Axes>"
      ]
     },
     "metadata": {
      "needs_background": "light"
     },
     "output_type": "display_data"
    },
    {
     "data": {
      "image/png": "[encoded data removed]",
      "text/plain": [
       "<Figure size 432x288 with 1 Axes>"
      ]
     },
     "metadata": {
      "needs_background": "light"
     },
     "output_type": "display_data"
    }
   ],
   "source": [
    "# input b-u-dh, training_epoch = 5\n",
    "plot.plotTP_probs(stim=1, epoch=4)"
   ]
  },
  {
   "cell_type": "code",
   "execution_count": null,
   "id": "aging-marker",
   "metadata": {},
   "outputs": [],
   "source": []
  }
 ],
 "metadata": {
  "kernelspec": {
   "display_name": "Python 3",
   "language": "python",
   "name": "python3"
  },
  "language_info": {
   "codemirror_mode": {
    "name": "ipython",
    "version": 3
   },
   "file_extension": ".py",
   "mimetype": "text/x-python",
   "name": "python",
   "nbconvert_exporter": "python",
   "pygments_lexer": "ipython3",
   "version": "3.8.5"
  }
 },
 "nbformat": 4,
 "nbformat_minor": 5
}
