{
 "cells": [
  {
   "cell_type": "markdown",
   "id": "engaging-robinson",
   "metadata": {},
   "source": [
    "# Gradient Symbolic Computation\n",
    "\n",
    "see `TPR_example.ipynb` for details about the TP representation and one possible empirical phenomenon, that can be handled with GSC."
   ]
  },
  {
   "cell_type": "code",
   "execution_count": 1,
   "id": "waiting-atmosphere",
   "metadata": {},
   "outputs": [
    {
     "data": {
      "text/plain": [
       "<torch._C.Generator at 0x1f5db5026b0>"
      ]
     },
     "execution_count": 1,
     "metadata": {},
     "output_type": "execute_result"
    }
   ],
   "source": [
    "# Imports\n",
    "from src.gsc.plotting import Plot\n",
    "from src.classes.Grammar import Grammar\n",
    "from src.gsc.gsc_network import Net\n",
    "import torch\n",
    "torch.manual_seed(123)"
   ]
  },
  {
   "cell_type": "markdown",
   "id": "creative-harvard",
   "metadata": {},
   "source": [
    "## Grammar and Harmonic Constraints"
   ]
  },
  {
   "cell_type": "code",
   "execution_count": null,
   "id": "apart-trademark",
   "metadata": {},
   "outputs": [],
   "source": [
    "# Fillers and Roles\n",
    "fillers = [\"bh\", \"b\", \"u\", \"d\", \"dh\"]\n",
    "roles = [\"s1\", \"s2\", \"s3\"]\n",
    "\n",
    "similarities = torch.tensor([[1, 0.75, 0, 0, 0, 0],\n",
    "                             [0.75, 1, 0, 0, 0, 0],\n",
    "                             [0, 0, 1, 0, 0, 0],\n",
    "                             [0, 0, 0, 1, 0.75, 0],\n",
    "                             [0, 0, 0, 0.75, 1, 0],\n",
    "                             [0, 0, 0, 0, 0, 1]])\n",
    "\n",
    "# Build Grammar\n",
    "# G = Grammar(fillers, roles, emtpyFiller=\"#\")\n",
    "G = Grammar(fillers, roles, emtpyFiller=\"_\", fillerSimilarities=similarities)\n",
    "\n",
    "# Single Harmony constraints\n",
    "# This is a matrix (nF, nR)\n",
    "cons = [(\"_/s4\", 3), (\"u/s2\", 15), (\"b/s1\", 3), (\"d/s1\", 30), (\"d/s1\", 3.5)]\n",
    "G.update_Hc(cons)\n",
    "\n",
    "\n",
    "\"\"\"\n",
    "# Pairwise Harmony\n",
    "# Matrix dim: (nF, nR, nF, nR)\n",
    "cons = [(\"bh/s1\", \"d/s3\", 2),\n",
    "        (\"dh/s4\", \"b/s1\", 5),\n",
    "        (\"u/s2\", \"dh/s3\", 5)]\n",
    "G.update_Hcc(cons)\n",
    "\"\"\""
   ]
  }
 ],
 "metadata": {
  "kernelspec": {
   "display_name": "Python 3",
   "language": "python",
   "name": "python3"
  },
  "language_info": {
   "codemirror_mode": {
    "name": "ipython",
    "version": 3
   },
   "file_extension": ".py",
   "mimetype": "text/x-python",
   "name": "python",
   "nbconvert_exporter": "python",
   "pygments_lexer": "ipython3",
   "version": "3.8.5"
  }
 },
 "nbformat": 4,
 "nbformat_minor": 5
}
