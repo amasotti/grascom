{
 "cells": [
  {
   "cell_type": "markdown",
   "id": "theoretical-council",
   "metadata": {},
   "source": [
    "# Gradient Symbolic Computation\n",
    "__(Cho, Goldrick & Smolensky 2016)__"
   ]
  },
  {
   "cell_type": "markdown",
   "id": "suitable-snapshot",
   "metadata": {},
   "source": [
    "## Data\n",
    "\n",
    "In what follows I'll try to illustrate how to use GSC to model allomorphy.\n",
    "In Sanskrit we have some roots which alternate their forms in obedience to some morphophonological constrainsts. In particular, no two aspirates are allowed in the same roots.\n",
    "\n",
    "The root for 'to be' is inherited as $b^hud^h$ with two voiced aspirates but surfaces either as $b^hud-$ or as $bud^h$.\n",
    "\n",
    "The problem has attracted the attention of many scholars due to impossibility to model this phenomenon through phonological rules, which would lead to ordering paradoxes (Sag 19xx, K.). Some attempts have been made to postulate complicated underlying representations (Kiparsky xxxx) or OT-constraints.\n",
    "\n",
    "GSC offers a solution to the long-standing problem of the underlying representation of these roots if we take into account the possibility that both the aspirated and plain variants of the consonants were underlying represented and the UR as whole is a gradient blend of the two segments/or possibly features.\n",
    "\n",
    "$$b^hud-/bud^h = [\\alpha \\cdot b^h + \\beta \\cdot b] \\, u \\, [\\gamma \\cdot d + \\delta \\cdot d^h]$$"
   ]
  },
  {
   "cell_type": "code",
   "execution_count": 1,
   "id": "enormous-watson",
   "metadata": {},
   "outputs": [],
   "source": [
    "# Imports\n",
    "import torch\n",
    "# Set seed for reproducibility\n",
    "# torch.manual_seed(111)"
   ]
  },
  {
   "cell_type": "markdown",
   "id": "ignored-malta",
   "metadata": {},
   "source": [
    "## The TPR Representation\n",
    "\n",
    "In matrix language the **Tensor Product Representation** of a structure $s$ can be expressed as:\n",
    "\n",
    "$$T_s = F \\times B \\times R$$\n",
    "\n",
    "the chain product of the filler matrix, times the binding matrix times the role matrix.\n",
    "\n",
    "**Ex**:\n",
    "Let's suppose we have the input *budh*. This can be decomposed into\n",
    "\n",
    "$$b \\otimes r_1 + u \\otimes r_2 + dh \\otimes r_3$$\n",
    "\n",
    "Now suppose that our language also consists of the additional fillers \"bh\" and \"d\". The ordered set of fillers could be:\n",
    "\n",
    "[\"bh\", \"b\", \"u\", \"d\", \"dh\", \"_\"]\n",
    "\n",
    "(the last filler represents the empty filler (I've used it occasionally to pad shorter strings, without onset or coda)\n",
    "\n",
    "The binding matrix for *budh* would be:\n"
   ]
  },
  {
   "cell_type": "code",
   "execution_count": 2,
   "id": "indirect-routine",
   "metadata": {},
   "outputs": [],
   "source": [
    "# 3 cols : 3 positions for the roots (initial, middle, final) and 6 rows, one for each filler\n",
    "budh = torch.tensor([[0., 0., 0.],\n",
    "                     [1., 0., 0.],\n",
    "                     [0., 1., 0.],\n",
    "                     [0., 0., 0.],\n",
    "                     [0., 0., 1.],\n",
    "                     [0., 0., 0.]])"
   ]
  },
  {
   "cell_type": "markdown",
   "id": "analyzed-hearts",
   "metadata": {},
   "source": [
    "The role and the filler matrices can be built in different ways. Here they were build using random components, chosen so that the columns build a set of linearly independent vectors and their pairwise dotproduct is 0 (maximally different)."
   ]
  },
  {
   "cell_type": "code",
   "execution_count": 3,
   "id": "pressed-first",
   "metadata": {},
   "outputs": [
    {
     "name": "stdout",
     "output_type": "stream",
     "text": [
      "Roles matrix:\n",
      "tensor([[ 0.4311,  0.8892, -0.1533],\n",
      "        [-0.3264,  0.3121,  0.8922],\n",
      "        [ 0.8412, -0.3346,  0.4248]])\n",
      "\n",
      "\n",
      "Fillers matrix:\n",
      "tensor([[ 0.2958, -0.3054,  0.0164,  0.2841,  0.4751,  0.7159],\n",
      "        [ 0.1613, -0.2552,  0.7667,  0.1514,  0.3030, -0.4542],\n",
      "        [ 0.5245,  0.4364,  0.4019,  0.0709, -0.5345,  0.2867],\n",
      "        [-0.3085,  0.6143,  0.2897, -0.4018,  0.4824,  0.2222],\n",
      "        [ 0.6668,  0.3079, -0.4022, -0.0627,  0.3952, -0.3724],\n",
      "        [-0.2674,  0.4232, -0.0681,  0.8520,  0.0888, -0.1045]])\n"
     ]
    }
   ],
   "source": [
    "R = torch.tensor([[ 0.4311,  0.8892, -0.1533],[-0.3264,  0.3121,  0.8922],[ 0.8412, -0.3346,  0.4248]])\n",
    "F = torch.tensor([[ 0.2958, -0.3054,  0.0164,  0.2841,  0.4751,  0.7159],\n",
    "        [ 0.1613, -0.2552,  0.7667,  0.1514,  0.3030, -0.4542],\n",
    "        [ 0.5245,  0.4364,  0.4019,  0.0709, -0.5345,  0.2867],\n",
    "        [-0.3085,  0.6143,  0.2897, -0.4018,  0.4824,  0.2222],\n",
    "        [ 0.6668,  0.3079, -0.4022, -0.0627,  0.3952, -0.3724],\n",
    "        [-0.2674,  0.4232, -0.0681,  0.8520,  0.0888, -0.1045]])\n",
    "\n",
    "print(f\"Roles matrix:\\n{R}\\n\\n\")\n",
    "print(f\"Fillers matrix:\\n{F}\")"
   ]
  },
  {
   "cell_type": "markdown",
   "id": "muslim-honey",
   "metadata": {},
   "source": [
    "*budh* can be then represented as:"
   ]
  },
  {
   "cell_type": "code",
   "execution_count": 4,
   "id": "victorian-flood",
   "metadata": {},
   "outputs": [
    {
     "data": {
      "text/plain": [
       "tensor([[-0.1899,  0.5287, -0.0606],\n",
       "        [ 0.5253,  0.5929, -0.3425],\n",
       "        [ 0.6274, -0.4939,  0.0056],\n",
       "        [ 0.4485,  0.3203,  0.6247],\n",
       "        [-0.2855,  0.1266,  0.5615],\n",
       "        [ 0.1083, -0.0802,  0.4165]])"
      ]
     },
     "execution_count": 4,
     "metadata": {},
     "output_type": "execute_result"
    }
   ],
   "source": [
    "tpr_budh = F.matmul(budh).matmul(R.T)\n",
    "tpr_budh"
   ]
  },
  {
   "cell_type": "markdown",
   "id": "statewide-creature",
   "metadata": {},
   "source": [
    "Notice that even though this representation is now distributed, we can always retrieve (unbind) the original fillers using matrix multiplication:\n",
    "\n",
    "$$TPR \\times R^{-1} = F$$"
   ]
  },
  {
   "cell_type": "code",
   "execution_count": 5,
   "id": "antique-exchange",
   "metadata": {},
   "outputs": [
    {
     "data": {
      "text/plain": [
       "tensor([[-0.3054,  0.0164,  0.4751],\n",
       "        [-0.2552,  0.7667,  0.3030],\n",
       "        [ 0.4364,  0.4019, -0.5345],\n",
       "        [ 0.6143,  0.2897,  0.4824],\n",
       "        [ 0.3079, -0.4022,  0.3952],\n",
       "        [ 0.4232, -0.0681,  0.0888]])"
      ]
     },
     "execution_count": 5,
     "metadata": {},
     "output_type": "execute_result"
    }
   ],
   "source": [
    "tpr_budh.matmul(torch.pinverse(R.T))"
   ]
  },
  {
   "cell_type": "markdown",
   "id": "vocational-syndicate",
   "metadata": {},
   "source": [
    "Compare this matrix with the Filler matrix:"
   ]
  },
  {
   "cell_type": "code",
   "execution_count": 6,
   "id": "general-radius",
   "metadata": {},
   "outputs": [
    {
     "data": {
      "text/plain": [
       "tensor([[ 0.2958, -0.3054,  0.0164,  0.2841,  0.4751,  0.7159],\n",
       "        [ 0.1613, -0.2552,  0.7667,  0.1514,  0.3030, -0.4542],\n",
       "        [ 0.5245,  0.4364,  0.4019,  0.0709, -0.5345,  0.2867],\n",
       "        [-0.3085,  0.6143,  0.2897, -0.4018,  0.4824,  0.2222],\n",
       "        [ 0.6668,  0.3079, -0.4022, -0.0627,  0.3952, -0.3724],\n",
       "        [-0.2674,  0.4232, -0.0681,  0.8520,  0.0888, -0.1045]])"
      ]
     },
     "execution_count": 6,
     "metadata": {},
     "output_type": "execute_result"
    }
   ],
   "source": [
    "F"
   ]
  },
  {
   "cell_type": "markdown",
   "id": "substantial-spectacular",
   "metadata": {},
   "source": [
    "The matrix we obtained by multiplying the TP representation with the inverse of the role matrix is a (6,3) matrix, where each column represent a role (in this example the position of the filler in the string) and the component of each column are exactly those of the second, third and fifth column of the filler matrix, corresponding resp. to the fillers \"b\", \"u\" and \"dh\"."
   ]
  },
  {
   "cell_type": "markdown",
   "id": "corresponding-parks",
   "metadata": {},
   "source": [
    "## Blend Representations\n",
    "\n",
    "The same procedure can be applied if the Binding matrix doesn't contain just 0s and 1s but some values between 0s and 1s, corresponding to partial activations of specific fillers.\n",
    "\n",
    "So for instance the blend $(0.8 \\cdot b + 0.7 \\cdot bh)udh$ can be represented with the following binding matrix:"
   ]
  },
  {
   "cell_type": "code",
   "execution_count": 7,
   "id": "norwegian-manner",
   "metadata": {},
   "outputs": [
    {
     "data": {
      "text/plain": [
       "tensor([[0.7000, 0.0000, 0.0000],\n",
       "        [0.8000, 0.0000, 0.0000],\n",
       "        [0.0000, 1.0000, 0.0000],\n",
       "        [0.0000, 0.0000, 0.0000],\n",
       "        [0.0000, 0.0000, 1.0000],\n",
       "        [0.0000, 0.0000, 0.0000]])"
      ]
     },
     "execution_count": 7,
     "metadata": {},
     "output_type": "execute_result"
    }
   ],
   "source": [
    "bbhudh = torch.tensor([[.7, 0, 0], [.8, 0, 0], [0,1,0],[0,0,0],[0,0,1],[0,0,0]])\n",
    "bbhudh"
   ]
  },
  {
   "cell_type": "markdown",
   "id": "curious-pacific",
   "metadata": {},
   "source": [
    "It's representation in the neural space will then be:"
   ]
  },
  {
   "cell_type": "code",
   "execution_count": 8,
   "id": "nervous-freight",
   "metadata": {},
   "outputs": [
    {
     "data": {
      "text/plain": [
       "tensor([[-0.0743,  0.4412,  0.1650],\n",
       "        [ 0.5960,  0.5394, -0.2046],\n",
       "        [ 0.7481, -0.5852,  0.2410],\n",
       "        [ 0.3024,  0.4309,  0.3397],\n",
       "        [-0.1108, -0.0057,  0.9023],\n",
       "        [-0.0089,  0.0086,  0.1878]])"
      ]
     },
     "execution_count": 8,
     "metadata": {},
     "output_type": "execute_result"
    }
   ],
   "source": [
    "tpr_bbhudh = F @ bbhudh @ R.T\n",
    "tpr_bbhudh"
   ]
  },
  {
   "cell_type": "markdown",
   "id": "grateful-notification",
   "metadata": {},
   "source": [
    "The same holds here as before. We can go back to the local representation using the matrix multiplication."
   ]
  },
  {
   "cell_type": "code",
   "execution_count": 9,
   "id": "composed-encoding",
   "metadata": {},
   "outputs": [
    {
     "name": "stdout",
     "output_type": "stream",
     "text": [
      "bbhudh_fillers :\n",
      "tensor([[-0.0373,  0.0164,  0.4751],\n",
      "        [-0.0912,  0.7667,  0.3030],\n",
      "        [ 0.7163,  0.4019, -0.5345],\n",
      "        [ 0.2755,  0.2897,  0.4824],\n",
      "        [ 0.7131, -0.4022,  0.3952],\n",
      "        [ 0.1514, -0.0681,  0.0888]])\n",
      "\n",
      "\n",
      "Filler Matrix :\n",
      "tensor([[ 0.2958, -0.3054,  0.0164,  0.2841,  0.4751,  0.7159],\n",
      "        [ 0.1613, -0.2552,  0.7667,  0.1514,  0.3030, -0.4542],\n",
      "        [ 0.5245,  0.4364,  0.4019,  0.0709, -0.5345,  0.2867],\n",
      "        [-0.3085,  0.6143,  0.2897, -0.4018,  0.4824,  0.2222],\n",
      "        [ 0.6668,  0.3079, -0.4022, -0.0627,  0.3952, -0.3724],\n",
      "        [-0.2674,  0.4232, -0.0681,  0.8520,  0.0888, -0.1045]])\n",
      "\n"
     ]
    }
   ],
   "source": [
    "bbhudh_fillers = tpr_bbhudh.matmul(torch.pinverse(R.T))\n",
    "print(f\"bbhudh_fillers :\\n{bbhudh_fillers}\\n\\n\")\n",
    "print(f\"Filler Matrix :\\n{F}\\n\")"
   ]
  },
  {
   "cell_type": "markdown",
   "id": "tender-accountability",
   "metadata": {},
   "source": [
    "Notice that nothing changed as for the representation of the second and third position in the string:"
   ]
  },
  {
   "cell_type": "code",
   "execution_count": 10,
   "id": "naughty-youth",
   "metadata": {},
   "outputs": [],
   "source": [
    "assert torch.allclose(F[:,2],bbhudh_fillers[:,1])\n",
    "assert torch.allclose(F[:,4],bbhudh_fillers[:,2])"
   ]
  },
  {
   "cell_type": "markdown",
   "id": "gothic-allen",
   "metadata": {},
   "source": [
    "But the first column in our representation is now a blend of the first and second column in the filler Matrix. How much of the first and second fillers went into the representation of the first element of the blend representation is revealed using the dot product between those vectors"
   ]
  },
  {
   "cell_type": "code",
   "execution_count": 11,
   "id": "efficient-civilian",
   "metadata": {},
   "outputs": [
    {
     "data": {
      "text/plain": [
       "tensor(0.7000)"
      ]
     },
     "execution_count": 11,
     "metadata": {},
     "output_type": "execute_result"
    }
   ],
   "source": [
    "torch.dot(F[:,0],bbhudh_fillers[:,0])"
   ]
  },
  {
   "cell_type": "code",
   "execution_count": 12,
   "id": "manual-strength",
   "metadata": {},
   "outputs": [
    {
     "data": {
      "text/plain": [
       "tensor(0.8001)"
      ]
     },
     "execution_count": 12,
     "metadata": {},
     "output_type": "execute_result"
    }
   ],
   "source": [
    "torch.dot(F[:,1],bbhudh_fillers[:,0])"
   ]
  },
  {
   "cell_type": "markdown",
   "id": "liable-disease",
   "metadata": {},
   "source": [
    "Notice also that the similarity with other fillers is close to 0, which guarantees that we can always unbind the representations."
   ]
  },
  {
   "cell_type": "code",
   "execution_count": 13,
   "id": "human-press",
   "metadata": {},
   "outputs": [
    {
     "data": {
      "text/plain": [
       "tensor(-3.8743e-06)"
      ]
     },
     "execution_count": 13,
     "metadata": {},
     "output_type": "execute_result"
    }
   ],
   "source": [
    "torch.dot(F[:,2],bbhudh_fillers[:,0])"
   ]
  },
  {
   "cell_type": "code",
   "execution_count": 14,
   "id": "developed-acrylic",
   "metadata": {},
   "outputs": [
    {
     "data": {
      "text/plain": [
       "tensor(-4.3511e-05)"
      ]
     },
     "execution_count": 14,
     "metadata": {},
     "output_type": "execute_result"
    }
   ],
   "source": [
    "torch.dot(F[:,3],bbhudh_fillers[:,0])"
   ]
  },
  {
   "cell_type": "code",
   "execution_count": 15,
   "id": "sharp-costa",
   "metadata": {},
   "outputs": [
    {
     "data": {
      "text/plain": [
       "tensor(-4.8921e-05)"
      ]
     },
     "execution_count": 15,
     "metadata": {},
     "output_type": "execute_result"
    }
   ],
   "source": [
    "torch.dot(F[:,4],bbhudh_fillers[:,0])"
   ]
  },
  {
   "cell_type": "markdown",
   "id": "complex-safety",
   "metadata": {},
   "source": [
    "## Heat map visualization of blends and pure representations"
   ]
  },
  {
   "cell_type": "code",
   "execution_count": 16,
   "id": "quarterly-monte",
   "metadata": {},
   "outputs": [],
   "source": [
    "import matplotlib.pyplot as plt\n",
    "import seaborn as sns\n",
    "sns.set_theme(style=\"darkgrid\")"
   ]
  },
  {
   "cell_type": "code",
   "execution_count": 17,
   "id": "impossible-tuning",
   "metadata": {},
   "outputs": [],
   "source": [
    "roles = [\"pos1\", \"pos2\", \"pos3\"]\n",
    "fillers = [\"bh\", \"b\", \"u\", \"d\", \"dh\", \"_\"]"
   ]
  },
  {
   "cell_type": "markdown",
   "id": "hispanic-kernel",
   "metadata": {},
   "source": [
    "## Discrete structure"
   ]
  },
  {
   "cell_type": "code",
   "execution_count": 18,
   "id": "friendly-transportation",
   "metadata": {},
   "outputs": [
    {
     "data": {
      "image/png": "[encoded data removed]",
      "text/plain": [
       "<Figure size 432x288 with 2 Axes>"
      ]
     },
     "metadata": {},
     "output_type": "display_data"
    }
   ],
   "source": [
    "# Purely local representation\n",
    "budh_heat = sns.heatmap(budh, \n",
    "                        cmap=\"Blues\",\n",
    "                        annot=True, \n",
    "                        xticklabels=roles,\n",
    "                       yticklabels=fillers)"
   ]
  },
  {
   "cell_type": "code",
   "execution_count": 19,
   "id": "together-throat",
   "metadata": {},
   "outputs": [
    {
     "data": {
      "text/plain": [
       "<AxesSubplot:>"
      ]
     },
     "execution_count": 19,
     "metadata": {},
     "output_type": "execute_result"
    },
    {
     "data": {
      "image/png": "[encoded data removed]",
      "text/plain": [
       "<Figure size 432x288 with 2 Axes>"
      ]
     },
     "metadata": {},
     "output_type": "display_data"
    }
   ],
   "source": [
    "# Distributed representation\n",
    "sns.heatmap(tpr_budh.reshape((18,1)),\n",
    "            cmap=\"Blues\")"
   ]
  },
  {
   "cell_type": "markdown",
   "id": "formal-activity",
   "metadata": {},
   "source": [
    "### Gradient structures"
   ]
  },
  {
   "cell_type": "code",
   "execution_count": 20,
   "id": "organic-antigua",
   "metadata": {},
   "outputs": [
    {
     "data": {
      "text/plain": [
       "<AxesSubplot:>"
      ]
     },
     "execution_count": 20,
     "metadata": {},
     "output_type": "execute_result"
    },
    {
     "data": {
      "image/png": "[encoded data removed]",
      "text/plain": [
       "<Figure size 432x288 with 2 Axes>"
      ]
     },
     "metadata": {},
     "output_type": "display_data"
    }
   ],
   "source": [
    "# Blend representation (discrete)\n",
    "sns.heatmap(bbhudh,\n",
    "            cmap=\"Blues\",\n",
    "            annot=True,\n",
    "            xticklabels=roles,\n",
    "            yticklabels=fillers)"
   ]
  },
  {
   "cell_type": "code",
   "execution_count": 21,
   "id": "desperate-continent",
   "metadata": {},
   "outputs": [
    {
     "data": {
      "text/plain": [
       "<AxesSubplot:>"
      ]
     },
     "execution_count": 21,
     "metadata": {},
     "output_type": "execute_result"
    },
    {
     "data": {
      "image/png": "[encoded data removed]",
      "text/plain": [
       "<Figure size 432x288 with 2 Axes>"
      ]
     },
     "metadata": {},
     "output_type": "display_data"
    }
   ],
   "source": [
    "# Blend representation (distributed)\n",
    "sns.heatmap(tpr_bbhudh.reshape((18,1)),\n",
    "            cmap=\"Blues\",\n",
    "            annot=True)"
   ]
  },
  {
   "cell_type": "code",
   "execution_count": null,
   "id": "solid-debut",
   "metadata": {},
   "outputs": [],
   "source": []
  }
 ],
 "metadata": {
  "kernelspec": {
   "display_name": "Python 3",
   "language": "python",
   "name": "python3"
  },
  "language_info": {
   "codemirror_mode": {
    "name": "ipython",
    "version": 3
   },
   "file_extension": ".py",
   "mimetype": "text/x-python",
   "name": "python",
   "nbconvert_exporter": "python",
   "pygments_lexer": "ipython3",
   "version": "3.8.5"
  }
 },
 "nbformat": 4,
 "nbformat_minor": 5
}
